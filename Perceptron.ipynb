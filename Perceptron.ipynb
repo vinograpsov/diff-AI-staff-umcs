{
  "nbformat": 4,
  "nbformat_minor": 0,
  "metadata": {
    "colab": {
      "provenance": []
    },
    "kernelspec": {
      "name": "python3",
      "display_name": "Python 3"
    },
    "language_info": {
      "name": "python"
    }
  },
  "cells": [
    {
      "cell_type": "code",
      "execution_count": null,
      "metadata": {
        "id": "07U4mMVlS3IL"
      },
      "outputs": [],
      "source": [
        "import numpy as np"
      ]
    },
    {
      "cell_type": "code",
      "source": [
        "class Perceptron(object):\n",
        "  def __init__(self,eta = 0.001,n_iter=50,random_state = 1):\n",
        "    self.eta  = eta\n",
        "    self.n_iter = n_iter\n",
        "    self.random_state = 1\n",
        "\n",
        "  def fit(self,X,y):\n",
        "    rgen = np.random.RandomState(self.random_state)\n",
        "    self.w_ = rgen.normal(loc = 0.0, scale = 0.01, size = 1 + X.shape[1])\n",
        "    self.errors_ = []\n",
        "\n",
        "    for _ in range(self.n_iter):\n",
        "      errors = 0\n",
        "      for xi , target in zip(X,y):\n",
        "        update = self.eta * (target - self.predict(xi))\n",
        "        self.w_[1:] += update * xi\n",
        "        self.w_[0] += update\n",
        "        errors += int(update != 0.0)\n",
        "      self.errors_.append(errors)\n",
        "    return self\n",
        "\n",
        "  def net_input(self,X):\n",
        "    return np.dot(X, self.w_[1:]) + self.w_[0]\n",
        "\n",
        "  def predict(self, X):\n",
        "    return np.where(self.net_input(X) >= 0.0, 1, -1)\n"
      ],
      "metadata": {
        "id": "b3XWCvWTS9J7"
      },
      "execution_count": null,
      "outputs": []
    },
    {
      "cell_type": "code",
      "source": [
        "import os\n",
        "import pandas as pd"
      ],
      "metadata": {
        "id": "QIcqE4diV-Kb"
      },
      "execution_count": null,
      "outputs": []
    },
    {
      "cell_type": "code",
      "source": [
        "s = \"https://archive.ics.uci.edu/ml/machine-learning-databases/iris/iris.data\"\n",
        "df = pd.read_csv(s, header = None)"
      ],
      "metadata": {
        "id": "hfnoHz1pX0mh"
      },
      "execution_count": null,
      "outputs": []
    },
    {
      "cell_type": "code",
      "source": [
        "df.iloc[50]"
      ],
      "metadata": {
        "colab": {
          "base_uri": "https://localhost:8080/"
        },
        "id": "Hwf5JsMSYIYp",
        "outputId": "993a8019-42d0-4438-e0cc-3e301ca74407"
      },
      "execution_count": null,
      "outputs": [
        {
          "output_type": "execute_result",
          "data": {
            "text/plain": [
              "0                7.0\n",
              "1                3.2\n",
              "2                4.7\n",
              "3                1.4\n",
              "4    Iris-versicolor\n",
              "Name: 50, dtype: object"
            ]
          },
          "metadata": {},
          "execution_count": 5
        }
      ]
    },
    {
      "cell_type": "code",
      "source": [
        "y = df.iloc[0:100,4].values"
      ],
      "metadata": {
        "id": "POxElKk-YlAN"
      },
      "execution_count": null,
      "outputs": []
    },
    {
      "cell_type": "code",
      "source": [
        "y = np.where(y == 'Iris-setosa',-1,1)\n"
      ],
      "metadata": {
        "id": "IGnR0iLdZATj"
      },
      "execution_count": null,
      "outputs": []
    },
    {
      "cell_type": "code",
      "source": [
        "y"
      ],
      "metadata": {
        "colab": {
          "base_uri": "https://localhost:8080/"
        },
        "id": "h0bCVb_cZO11",
        "outputId": "67064870-13a7-43a9-9528-9a2da7a95ce9"
      },
      "execution_count": null,
      "outputs": [
        {
          "output_type": "execute_result",
          "data": {
            "text/plain": [
              "array([-1, -1, -1, -1, -1, -1, -1, -1, -1, -1, -1, -1, -1, -1, -1, -1, -1,\n",
              "       -1, -1, -1, -1, -1, -1, -1, -1, -1, -1, -1, -1, -1, -1, -1, -1, -1,\n",
              "       -1, -1, -1, -1, -1, -1, -1, -1, -1, -1, -1, -1, -1, -1, -1, -1,  1,\n",
              "        1,  1,  1,  1,  1,  1,  1,  1,  1,  1,  1,  1,  1,  1,  1,  1,  1,\n",
              "        1,  1,  1,  1,  1,  1,  1,  1,  1,  1,  1,  1,  1,  1,  1,  1,  1,\n",
              "        1,  1,  1,  1,  1,  1,  1,  1,  1,  1,  1,  1,  1,  1,  1])"
            ]
          },
          "metadata": {},
          "execution_count": 8
        }
      ]
    },
    {
      "cell_type": "code",
      "source": [
        "X = df.iloc[0:100,[0,2]].values"
      ],
      "metadata": {
        "id": "WL7Q2afwZQGN"
      },
      "execution_count": null,
      "outputs": []
    },
    {
      "cell_type": "code",
      "source": [
        "import matplotlib.pyplot as plt\n",
        "%matplotlib inline"
      ],
      "metadata": {
        "id": "pbwpV3KFZn4k"
      },
      "execution_count": null,
      "outputs": []
    },
    {
      "cell_type": "code",
      "source": [
        "plt.scatter(X[:50,0],X[:50,1],color ='blue',marker = 'o', label = 'setosa' )\n",
        "plt.scatter(X[50:,0],X[50:,1],color ='red',marker = 'x', label = 'versicolor' )\n",
        "plt.show()"
      ],
      "metadata": {
        "colab": {
          "base_uri": "https://localhost:8080/",
          "height": 264
        },
        "id": "fJKK2wNhZ90d",
        "outputId": "052f1ad4-f6b9-424f-8f9f-c3dd23c8e6fd"
      },
      "execution_count": null,
      "outputs": [
        {
          "output_type": "display_data",
          "data": {
            "text/plain": [
              "<Figure size 432x288 with 1 Axes>"
            ],
            "image/png": "[encoded data removed]"
          },
          "metadata": {
            "needs_background": "light"
          }
        }
      ]
    },
    {
      "cell_type": "code",
      "source": [
        "ppn = Perceptron(eta  = 0.1, n_iter = 10)"
      ],
      "metadata": {
        "id": "x0C1rE2XaMX2"
      },
      "execution_count": null,
      "outputs": []
    },
    {
      "cell_type": "code",
      "source": [
        "ppn.fit(X,y)"
      ],
      "metadata": {
        "colab": {
          "base_uri": "https://localhost:8080/"
        },
        "id": "9qfOOVmmaeJM",
        "outputId": "3d87613e-d733-4284-fb65-c4632c2297bb"
      },
      "execution_count": null,
      "outputs": [
        {
          "output_type": "execute_result",
          "data": {
            "text/plain": [
              "<__main__.Perceptron at 0x7f2b59149c50>"
            ]
          },
          "metadata": {},
          "execution_count": 13
        }
      ]
    },
    {
      "cell_type": "code",
      "source": [
        "X_test = pd.DataFrame(columns=['0',\t'1'],data= {'col1': [5, 2], 'col2': [4.5, 4]})\n",
        "# plt.plot(range(0,len(ppn.errors_),ppn.errors_,marker  = 'o')"
      ],
      "metadata": {
        "id": "LEC5cA2kbWIE"
      },
      "execution_count": null,
      "outputs": []
    },
    {
      "cell_type": "code",
      "source": [
        "test = ppn.predict(X_test)"
      ],
      "metadata": {
        "id": "_C683PMocIrd"
      },
      "execution_count": null,
      "outputs": []
    },
    {
      "cell_type": "code",
      "source": [
        "print(test)"
      ],
      "metadata": {
        "colab": {
          "base_uri": "https://localhost:8080/"
        },
        "id": "P7nej1TwI0Ld",
        "outputId": "02e550f4-032a-46dd-a543-5d945b52642a"
      },
      "execution_count": null,
      "outputs": [
        {
          "output_type": "stream",
          "name": "stdout",
          "text": [
            "[]\n"
          ]
        }
      ]
    },
    {
      "cell_type": "code",
      "source": [
        "import pandas as pd\n",
        "import numpy as np\n",
        "import os \n",
        "s = \"https://archive.ics.uci.edu/ml/machine-learning-databases/iris/iris.data\"\n",
        "df = pd.read_csv(s, header = None)"
      ],
      "metadata": {
        "id": "dfMcFdXUJyd3"
      },
      "execution_count": null,
      "outputs": []
    },
    {
      "cell_type": "code",
      "source": [
        "X_train = df.iloc[:,[0,2]]\n",
        "X_train"
      ],
      "metadata": {
        "colab": {
          "base_uri": "https://localhost:8080/",
          "height": 423
        },
        "id": "YNWLs3RZKOO9",
        "outputId": "e7d53f5a-bc36-4545-fca6-7e4749af3526"
      },
      "execution_count": null,
      "outputs": [
        {
          "output_type": "execute_result",
          "data": {
            "text/plain": [
              "       0    2\n",
              "0    5.1  1.4\n",
              "1    4.9  1.4\n",
              "2    4.7  1.3\n",
              "3    4.6  1.5\n",
              "4    5.0  1.4\n",
              "..   ...  ...\n",
              "145  6.7  5.2\n",
              "146  6.3  5.0\n",
              "147  6.5  5.2\n",
              "148  6.2  5.4\n",
              "149  5.9  5.1\n",
              "\n",
              "[150 rows x 2 columns]"
            ],
            "text/html": [
              "\n",
              "  <div id=\"df-a891d866-66cf-4950-a650-1404dbf445ef\">\n",
              "    <div class=\"colab-df-container\">\n",
              "      <div>\n",
              "<style scoped>\n",
              "    .dataframe tbody tr th:only-of-type {\n",
              "        vertical-align: middle;\n",
              "    }\n",
              "\n",
              "    .dataframe tbody tr th {\n",
              "        vertical-align: top;\n",
              "    }\n",
              "\n",
              "    .dataframe thead th {\n",
              "        text-align: right;\n",
              "    }\n",
              "</style>\n",
              "<table border=\"1\" class=\"dataframe\">\n",
              "  <thead>\n",
              "    <tr style=\"text-align: right;\">\n",
              "      <th></th>\n",
              "      <th>0</th>\n",
              "      <th>2</th>\n",
              "    </tr>\n",
              "  </thead>\n",
              "  <tbody>\n",
              "    <tr>\n",
              "      <th>0</th>\n",
              "      <td>5.1</td>\n",
              "      <td>1.4</td>\n",
              "    </tr>\n",
              "    <tr>\n",
              "      <th>1</th>\n",
              "      <td>4.9</td>\n",
              "      <td>1.4</td>\n",
              "    </tr>\n",
              "    <tr>\n",
              "      <th>2</th>\n",
              "      <td>4.7</td>\n",
              "      <td>1.3</td>\n",
              "    </tr>\n",
              "    <tr>\n",
              "      <th>3</th>\n",
              "      <td>4.6</td>\n",
              "      <td>1.5</td>\n",
              "    </tr>\n",
              "    <tr>\n",
              "      <th>4</th>\n",
              "      <td>5.0</td>\n",
              "      <td>1.4</td>\n",
              "    </tr>\n",
              "    <tr>\n",
              "      <th>...</th>\n",
              "      <td>...</td>\n",
              "      <td>...</td>\n",
              "    </tr>\n",
              "    <tr>\n",
              "      <th>145</th>\n",
              "      <td>6.7</td>\n",
              "      <td>5.2</td>\n",
              "    </tr>\n",
              "    <tr>\n",
              "      <th>146</th>\n",
              "      <td>6.3</td>\n",
              "      <td>5.0</td>\n",
              "    </tr>\n",
              "    <tr>\n",
              "      <th>147</th>\n",
              "      <td>6.5</td>\n",
              "      <td>5.2</td>\n",
              "    </tr>\n",
              "    <tr>\n",
              "      <th>148</th>\n",
              "      <td>6.2</td>\n",
              "      <td>5.4</td>\n",
              "    </tr>\n",
              "    <tr>\n",
              "      <th>149</th>\n",
              "      <td>5.9</td>\n",
              "      <td>5.1</td>\n",
              "    </tr>\n",
              "  </tbody>\n",
              "</table>\n",
              "<p>150 rows × 2 columns</p>\n",
              "</div>\n",
              "      <button class=\"colab-df-convert\" onclick=\"convertToInteractive('df-a891d866-66cf-4950-a650-1404dbf445ef')\"\n",
              "              title=\"Convert this dataframe to an interactive table.\"\n",
              "              style=\"display:none;\">\n",
              "        \n",
              "  <svg xmlns=\"http://www.w3.org/2000/svg\" height=\"24px\"viewBox=\"0 0 24 24\"\n",
              "       width=\"24px\">\n",
              "    <path d=\"M0 0h24v24H0V0z\" fill=\"none\"/>\n",
              "    <path d=\"M18.56 5.44l.94 2.06.94-2.06 2.06-.94-2.06-.94-.94-2.06-.94 2.06-2.06.94zm-11 1L8.5 8.5l.94-2.06 2.06-.94-2.06-.94L8.5 2.5l-.94 2.06-2.06.94zm10 10l.94 2.06.94-2.06 2.06-.94-2.06-.94-.94-2.06-.94 2.06-2.06.94z\"/><path d=\"M17.41 7.96l-1.37-1.37c-.4-.4-.92-.59-1.43-.59-.52 0-1.04.2-1.43.59L10.3 9.45l-7.72 7.72c-.78.78-.78 2.05 0 2.83L4 21.41c.39.39.9.59 1.41.59.51 0 1.02-.2 1.41-.59l7.78-7.78 2.81-2.81c.8-.78.8-2.07 0-2.86zM5.41 20L4 18.59l7.72-7.72 1.47 1.35L5.41 20z\"/>\n",
              "  </svg>\n",
              "      </button>\n",
              "      \n",
              "  <style>\n",
              "    .colab-df-container {\n",
              "      display:flex;\n",
              "      flex-wrap:wrap;\n",
              "      gap: 12px;\n",
              "    }\n",
              "\n",
              "    .colab-df-convert {\n",
              "      background-color: #E8F0FE;\n",
              "      border: none;\n",
              "      border-radius: 50%;\n",
              "      cursor: pointer;\n",
              "      display: none;\n",
              "      fill: #1967D2;\n",
              "      height: 32px;\n",
              "      padding: 0 0 0 0;\n",
              "      width: 32px;\n",
              "    }\n",
              "\n",
              "    .colab-df-convert:hover {\n",
              "      background-color: #E2EBFA;\n",
              "      box-shadow: 0px 1px 2px rgba(60, 64, 67, 0.3), 0px 1px 3px 1px rgba(60, 64, 67, 0.15);\n",
              "      fill: #174EA6;\n",
              "    }\n",
              "\n",
              "    [theme=dark] .colab-df-convert {\n",
              "      background-color: #3B4455;\n",
              "      fill: #D2E3FC;\n",
              "    }\n",
              "\n",
              "    [theme=dark] .colab-df-convert:hover {\n",
              "      background-color: #434B5C;\n",
              "      box-shadow: 0px 1px 3px 1px rgba(0, 0, 0, 0.15);\n",
              "      filter: drop-shadow(0px 1px 2px rgba(0, 0, 0, 0.3));\n",
              "      fill: #FFFFFF;\n",
              "    }\n",
              "  </style>\n",
              "\n",
              "      <script>\n",
              "        const buttonEl =\n",
              "          document.querySelector('#df-a891d866-66cf-4950-a650-1404dbf445ef button.colab-df-convert');\n",
              "        buttonEl.style.display =\n",
              "          google.colab.kernel.accessAllowed ? 'block' : 'none';\n",
              "\n",
              "        async function convertToInteractive(key) {\n",
              "          const element = document.querySelector('#df-a891d866-66cf-4950-a650-1404dbf445ef');\n",
              "          const dataTable =\n",
              "            await google.colab.kernel.invokeFunction('convertToInteractive',\n",
              "                                                     [key], {});\n",
              "          if (!dataTable) return;\n",
              "\n",
              "          const docLinkHtml = 'Like what you see? Visit the ' +\n",
              "            '<a target=\"_blank\" href=https://colab.research.google.com/notebooks/data_table.ipynb>data table notebook</a>'\n",
              "            + ' to learn more about interactive tables.';\n",
              "          element.innerHTML = '';\n",
              "          dataTable['output_type'] = 'display_data';\n",
              "          await google.colab.output.renderOutput(dataTable, element);\n",
              "          const docLink = document.createElement('div');\n",
              "          docLink.innerHTML = docLinkHtml;\n",
              "          element.appendChild(docLink);\n",
              "        }\n",
              "      </script>\n",
              "    </div>\n",
              "  </div>\n",
              "  "
            ]
          },
          "metadata": {},
          "execution_count": 18
        }
      ]
    },
    {
      "cell_type": "code",
      "source": [
        "y_train = pd.DataFrame({\"class\" : df.iloc[:,4].tolist()})\n",
        "kind_dict = {'Iris-setosa' : 1,'Iris-versicolor' :0, 'Iris-virginica' : -1}\n",
        "y_train = y_train['class'].map(kind_dict)"
      ],
      "metadata": {
        "id": "F8qEonGwKeBr"
      },
      "execution_count": null,
      "outputs": []
    },
    {
      "cell_type": "code",
      "source": [
        "import matplotlib.pyplot as plt\n",
        "%matplotlib inline\n",
        "for_picture = X_train.values\n",
        "\n",
        "plt.scatter(for_picture[:50,0],for_picture[:50,1],color ='blue',marker = 'o', label = 'setosa' )\n",
        "plt.scatter(for_picture[50:100,0],for_picture[50:100,1],color ='red',marker = 'x', label = 'versicolor' )\n",
        "plt.scatter(for_picture[100:,0],for_picture[100:,1],color ='green',marker = 'x', label = 'virginica' )\n",
        "plt.show()"
      ],
      "metadata": {
        "colab": {
          "base_uri": "https://localhost:8080/",
          "height": 264
        },
        "id": "UtU6mj9-MFiV",
        "outputId": "b2b01e69-f4af-4d96-8552-686982571401"
      },
      "execution_count": null,
      "outputs": [
        {
          "output_type": "display_data",
          "data": {
            "text/plain": [
              "<Figure size 432x288 with 1 Axes>"
            ],
            "image/png": "[encoded data removed]"
          },
          "metadata": {
            "needs_background": "light"
          }
        }
      ]
    },
    {
      "cell_type": "code",
      "source": [
        "from pandas.compat.numpy.function import REPEAT_DEFAULTS\n",
        "class Perceptron2(object):\n",
        "  def __init__(self,eta = 0.001,n_iter=50,random_state = 1):\n",
        "    self.eta  = eta\n",
        "    self.n_iter = n_iter\n",
        "    self.random_state = 1\n",
        "\n",
        "  def fit(self,X,y):\n",
        "    rgen = np.random.RandomState(self.random_state)\n",
        "    self.w_ = rgen.normal(loc = 0.0, scale = 0.01, size = 1 + X.shape[1])\n",
        "    self.errors_ = [] \n",
        "\n",
        "    for _ in range(self.n_iter):\n",
        "      errors = 0\n",
        "      for xi , target in zip(X,y):\n",
        "        update = self.eta * (target - self.predict(xi))\n",
        "        self.w_[1:] += update * xi\n",
        "        self.w_[0] += update\n",
        "        errors += int(update != 0.0)\n",
        "      self.errors_.append(errors)\n",
        "    return self\n",
        "\n",
        "  def net_input(self,X):\n",
        "    return np.dot(X, self.w_[1:]) + self.w_[0]\n",
        "\n",
        "  def predict(self, X):\n",
        "    return np.where(self.net_input(X) >= 0.0, 1, -1)\n",
        "  def predict_last(self,X):\n",
        "    return X[:,0] + X[:,1]\n",
        "\n"
      ],
      "metadata": {
        "id": "-7lId8eOQQaf"
      },
      "execution_count": null,
      "outputs": []
    },
    {
      "cell_type": "code",
      "source": [
        "setozaVersicolor = Perceptron2(eta = 0.01, n_iter = 100)\n",
        "versicolorVirginica = Perceptron2(eta = 0.01, n_iter = 100)"
      ],
      "metadata": {
        "id": "rSjLZh8baN_5"
      },
      "execution_count": null,
      "outputs": []
    },
    {
      "cell_type": "code",
      "source": [
        "np.where(y_train.iloc[0:100].values == 0, -1,1)\n",
        "np.where(y_train.iloc[50:150].values == 0, -1,1)"
      ],
      "metadata": {
        "colab": {
          "base_uri": "https://localhost:8080/"
        },
        "id": "sFMwUy87onAq",
        "outputId": "fa30005e-3a4e-4768-ce05-69b381597b29"
      },
      "execution_count": null,
      "outputs": [
        {
          "output_type": "execute_result",
          "data": {
            "text/plain": [
              "array([-1, -1, -1, -1, -1, -1, -1, -1, -1, -1, -1, -1, -1, -1, -1, -1, -1,\n",
              "       -1, -1, -1, -1, -1, -1, -1, -1, -1, -1, -1, -1, -1, -1, -1, -1, -1,\n",
              "       -1, -1, -1, -1, -1, -1, -1, -1, -1, -1, -1, -1, -1, -1, -1, -1,  1,\n",
              "        1,  1,  1,  1,  1,  1,  1,  1,  1,  1,  1,  1,  1,  1,  1,  1,  1,\n",
              "        1,  1,  1,  1,  1,  1,  1,  1,  1,  1,  1,  1,  1,  1,  1,  1,  1,\n",
              "        1,  1,  1,  1,  1,  1,  1,  1,  1,  1,  1,  1,  1,  1,  1])"
            ]
          },
          "metadata": {},
          "execution_count": 79
        }
      ]
    },
    {
      "cell_type": "code",
      "source": [
        "setozaVersicolor.fit(X_train.iloc[0:100].values,np.where(y_train.iloc[0:100].values == 0, 1,-1))\n",
        "versicolorVirginica.fit(X_train.iloc[50:150].values,np.where(y_train.iloc[50:150].values == 0, -1,1))"
      ],
      "metadata": {
        "colab": {
          "base_uri": "https://localhost:8080/"
        },
        "id": "Jqn5XtSAeA4o",
        "outputId": "1e85d34a-ac30-4345-b2a1-1d2e5b113466"
      },
      "execution_count": null,
      "outputs": [
        {
          "output_type": "execute_result",
          "data": {
            "text/plain": [
              "<__main__.Perceptron2 at 0x7f2b48773490>"
            ]
          },
          "metadata": {},
          "execution_count": 80
        }
      ]
    },
    {
      "cell_type": "code",
      "source": [
        "predictSetozaVersicolor = setozaVersicolor.predict(X_train.iloc[0:150].values)\n",
        "predictVersicolorVirginica = versicolorVirginica.predict(X_train.iloc[0:150].values)"
      ],
      "metadata": {
        "id": "C5Qqjsl1fG-0"
      },
      "execution_count": null,
      "outputs": []
    },
    {
      "cell_type": "code",
      "source": [
        "X_last = pd.DataFrame([predictSetozaVersicolor,predictVersicolorVirginica]).transpose().values"
      ],
      "metadata": {
        "id": "7h8CZ9squjbM"
      },
      "execution_count": null,
      "outputs": []
    },
    {
      "cell_type": "code",
      "source": [
        "X_train = df.iloc[:,[0,2]]\n",
        "\n",
        "y_train = pd.DataFrame({\"class\" : df.iloc[:,4].tolist()})\n",
        "kind_dict = {'Iris-setosa' : 1,'Iris-versicolor' :0, 'Iris-virginica' : -1}\n",
        "y_train = y_train['class'].map(kind_dict)"
      ],
      "metadata": {
        "id": "ofwV0GpcQMid"
      },
      "execution_count": null,
      "outputs": []
    },
    {
      "cell_type": "code",
      "source": [
        "# setozaVersicolor.fit(X_train.iloc[0:100].values,np.where(y_train.iloc[0:100].values == 0, -1,1))\n",
        "# versicolorVirginica.fit(X_train.iloc[50:150].values,np.where(y_train.iloc[50:150].values == 0, -1,1))"
      ],
      "metadata": {
        "id": "WLYSme3vQZHP"
      },
      "execution_count": null,
      "outputs": []
    },
    {
      "cell_type": "code",
      "source": [
        "setozaVersicolor.predict(X_train.iloc[0:150].values)"
      ],
      "metadata": {
        "id": "FApl_rqTXEvk",
        "colab": {
          "base_uri": "https://localhost:8080/"
        },
        "outputId": "f0ce9f11-b95b-4007-dfde-85e883d3945f"
      },
      "execution_count": null,
      "outputs": [
        {
          "output_type": "execute_result",
          "data": {
            "text/plain": [
              "array([-1, -1, -1, -1, -1, -1, -1, -1, -1, -1, -1, -1, -1, -1, -1, -1, -1,\n",
              "       -1, -1, -1, -1, -1, -1, -1, -1, -1, -1, -1, -1, -1, -1, -1, -1, -1,\n",
              "       -1, -1, -1, -1, -1, -1, -1, -1, -1, -1, -1, -1, -1, -1, -1, -1,  1,\n",
              "        1,  1,  1,  1,  1,  1,  1,  1,  1,  1,  1,  1,  1,  1,  1,  1,  1,\n",
              "        1,  1,  1,  1,  1,  1,  1,  1,  1,  1,  1,  1,  1,  1,  1,  1,  1,\n",
              "        1,  1,  1,  1,  1,  1,  1,  1,  1,  1,  1,  1,  1,  1,  1,  1,  1,\n",
              "        1,  1,  1,  1,  1,  1,  1,  1,  1,  1,  1,  1,  1,  1,  1,  1,  1,\n",
              "        1,  1,  1,  1,  1,  1,  1,  1,  1,  1,  1,  1,  1,  1,  1,  1,  1,\n",
              "        1,  1,  1,  1,  1,  1,  1,  1,  1,  1,  1,  1,  1,  1])"
            ]
          },
          "metadata": {},
          "execution_count": 85
        }
      ]
    },
    {
      "cell_type": "code",
      "source": [
        "\n",
        "versicolorVirginica.predict(X_train.iloc[0:150].values)"
      ],
      "metadata": {
        "colab": {
          "base_uri": "https://localhost:8080/"
        },
        "id": "hjzHMYqdeCvf",
        "outputId": "61138e87-216b-43c8-dbe4-a1d92f520a9f"
      },
      "execution_count": null,
      "outputs": [
        {
          "output_type": "execute_result",
          "data": {
            "text/plain": [
              "array([-1, -1, -1, -1, -1, -1, -1, -1, -1, -1, -1, -1, -1, -1, -1, -1, -1,\n",
              "       -1, -1, -1, -1, -1, -1, -1, -1, -1, -1, -1, -1, -1, -1, -1, -1, -1,\n",
              "       -1, -1, -1, -1, -1, -1, -1, -1, -1, -1, -1, -1, -1, -1, -1, -1,  1,\n",
              "        1,  1,  1,  1,  1,  1,  1,  1,  1,  1,  1,  1,  1, -1, -1,  1,  1,\n",
              "        1,  1,  1, -1,  1,  1,  1,  1,  1,  1,  1, -1,  1,  1,  1,  1,  1,\n",
              "        1,  1,  1,  1,  1,  1,  1,  1, -1,  1,  1,  1,  1, -1,  1,  1,  1,\n",
              "        1,  1,  1,  1,  1,  1,  1,  1,  1,  1,  1,  1,  1,  1,  1,  1,  1,\n",
              "        1,  1,  1,  1,  1,  1,  1,  1,  1,  1,  1,  1,  1,  1,  1,  1,  1,\n",
              "        1,  1,  1,  1,  1,  1,  1,  1,  1,  1,  1,  1,  1,  1])"
            ]
          },
          "metadata": {},
          "execution_count": 86
        }
      ]
    },
    {
      "cell_type": "code",
      "source": [
        "X_last"
      ],
      "metadata": {
        "colab": {
          "base_uri": "https://localhost:8080/"
        },
        "id": "mQD66_O-fKUK",
        "outputId": "6182c7f7-d9f0-4613-8c0b-ff65622f1871"
      },
      "execution_count": null,
      "outputs": [
        {
          "output_type": "execute_result",
          "data": {
            "text/plain": [
              "array([[-1, -1],\n",
              "       [-1, -1],\n",
              "       [-1, -1],\n",
              "       [-1, -1],\n",
              "       [-1, -1],\n",
              "       [-1, -1],\n",
              "       [-1, -1],\n",
              "       [-1, -1],\n",
              "       [-1, -1],\n",
              "       [-1, -1],\n",
              "       [-1, -1],\n",
              "       [-1, -1],\n",
              "       [-1, -1],\n",
              "       [-1, -1],\n",
              "       [-1, -1],\n",
              "       [-1, -1],\n",
              "       [-1, -1],\n",
              "       [-1, -1],\n",
              "       [-1, -1],\n",
              "       [-1, -1],\n",
              "       [-1, -1],\n",
              "       [-1, -1],\n",
              "       [-1, -1],\n",
              "       [-1, -1],\n",
              "       [-1, -1],\n",
              "       [-1, -1],\n",
              "       [-1, -1],\n",
              "       [-1, -1],\n",
              "       [-1, -1],\n",
              "       [-1, -1],\n",
              "       [-1, -1],\n",
              "       [-1, -1],\n",
              "       [-1, -1],\n",
              "       [-1, -1],\n",
              "       [-1, -1],\n",
              "       [-1, -1],\n",
              "       [-1, -1],\n",
              "       [-1, -1],\n",
              "       [-1, -1],\n",
              "       [-1, -1],\n",
              "       [-1, -1],\n",
              "       [-1, -1],\n",
              "       [-1, -1],\n",
              "       [-1, -1],\n",
              "       [-1, -1],\n",
              "       [-1, -1],\n",
              "       [-1, -1],\n",
              "       [-1, -1],\n",
              "       [-1, -1],\n",
              "       [-1, -1],\n",
              "       [ 1,  1],\n",
              "       [ 1,  1],\n",
              "       [ 1,  1],\n",
              "       [ 1,  1],\n",
              "       [ 1,  1],\n",
              "       [ 1,  1],\n",
              "       [ 1,  1],\n",
              "       [ 1,  1],\n",
              "       [ 1,  1],\n",
              "       [ 1,  1],\n",
              "       [ 1,  1],\n",
              "       [ 1,  1],\n",
              "       [ 1,  1],\n",
              "       [ 1,  1],\n",
              "       [ 1, -1],\n",
              "       [ 1, -1],\n",
              "       [ 1,  1],\n",
              "       [ 1,  1],\n",
              "       [ 1,  1],\n",
              "       [ 1,  1],\n",
              "       [ 1,  1],\n",
              "       [ 1, -1],\n",
              "       [ 1,  1],\n",
              "       [ 1,  1],\n",
              "       [ 1,  1],\n",
              "       [ 1,  1],\n",
              "       [ 1,  1],\n",
              "       [ 1,  1],\n",
              "       [ 1,  1],\n",
              "       [ 1, -1],\n",
              "       [ 1,  1],\n",
              "       [ 1,  1],\n",
              "       [ 1,  1],\n",
              "       [ 1,  1],\n",
              "       [ 1,  1],\n",
              "       [ 1,  1],\n",
              "       [ 1,  1],\n",
              "       [ 1,  1],\n",
              "       [ 1,  1],\n",
              "       [ 1,  1],\n",
              "       [ 1,  1],\n",
              "       [ 1,  1],\n",
              "       [ 1,  1],\n",
              "       [ 1, -1],\n",
              "       [ 1,  1],\n",
              "       [ 1,  1],\n",
              "       [ 1,  1],\n",
              "       [ 1,  1],\n",
              "       [ 1, -1],\n",
              "       [ 1,  1],\n",
              "       [ 1,  1],\n",
              "       [ 1,  1],\n",
              "       [ 1,  1],\n",
              "       [ 1,  1],\n",
              "       [ 1,  1],\n",
              "       [ 1,  1],\n",
              "       [ 1,  1],\n",
              "       [ 1,  1],\n",
              "       [ 1,  1],\n",
              "       [ 1,  1],\n",
              "       [ 1,  1],\n",
              "       [ 1,  1],\n",
              "       [ 1,  1],\n",
              "       [ 1,  1],\n",
              "       [ 1,  1],\n",
              "       [ 1,  1],\n",
              "       [ 1,  1],\n",
              "       [ 1,  1],\n",
              "       [ 1,  1],\n",
              "       [ 1,  1],\n",
              "       [ 1,  1],\n",
              "       [ 1,  1],\n",
              "       [ 1,  1],\n",
              "       [ 1,  1],\n",
              "       [ 1,  1],\n",
              "       [ 1,  1],\n",
              "       [ 1,  1],\n",
              "       [ 1,  1],\n",
              "       [ 1,  1],\n",
              "       [ 1,  1],\n",
              "       [ 1,  1],\n",
              "       [ 1,  1],\n",
              "       [ 1,  1],\n",
              "       [ 1,  1],\n",
              "       [ 1,  1],\n",
              "       [ 1,  1],\n",
              "       [ 1,  1],\n",
              "       [ 1,  1],\n",
              "       [ 1,  1],\n",
              "       [ 1,  1],\n",
              "       [ 1,  1],\n",
              "       [ 1,  1],\n",
              "       [ 1,  1],\n",
              "       [ 1,  1],\n",
              "       [ 1,  1],\n",
              "       [ 1,  1],\n",
              "       [ 1,  1],\n",
              "       [ 1,  1],\n",
              "       [ 1,  1],\n",
              "       [ 1,  1]])"
            ]
          },
          "metadata": {},
          "execution_count": 87
        }
      ]
    },
    {
      "cell_type": "code",
      "source": [
        "arr = []\n"
      ],
      "metadata": {
        "id": "vTUOnpOPhZeY"
      },
      "execution_count": null,
      "outputs": []
    }
  ]
}