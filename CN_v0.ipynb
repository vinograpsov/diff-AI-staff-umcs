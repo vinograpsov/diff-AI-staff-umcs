{
  "nbformat": 4,
  "nbformat_minor": 0,
  "metadata": {
    "colab": {
      "provenance": []
    },
    "kernelspec": {
      "name": "python3",
      "display_name": "Python 3"
    },
    "language_info": {
      "name": "python"
    }
  },
  "cells": [
    {
      "cell_type": "code",
      "source": [
        "from sklearn.datasets import load_digits"
      ],
      "metadata": {
        "id": "BWXHxWqf6sa1"
      },
      "execution_count": null,
      "outputs": []
    },
    {
      "cell_type": "code",
      "source": [
        "X, y = load_digits(return_X_y=True)"
      ],
      "metadata": {
        "id": "cQ_zjav46jbC"
      },
      "execution_count": null,
      "outputs": []
    },
    {
      "cell_type": "code",
      "source": [
        "X.shape[0], X.shape[1]"
      ],
      "metadata": {
        "colab": {
          "base_uri": "https://localhost:8080/"
        },
        "id": "dG6UhzaJ8KJg",
        "outputId": "d0e189fb-c12c-417d-d533-8e1aad852081"
      },
      "execution_count": null,
      "outputs": [
        {
          "output_type": "execute_result",
          "data": {
            "text/plain": [
              "(1797, 64)"
            ]
          },
          "metadata": {},
          "execution_count": 3
        }
      ]
    },
    {
      "cell_type": "code",
      "source": [
        "import matplotlib.pyplot as plt"
      ],
      "metadata": {
        "id": "sw1NEBC38Rg1"
      },
      "execution_count": null,
      "outputs": []
    },
    {
      "cell_type": "code",
      "source": [
        "fig = plt.figure()\n",
        "for i in range(9):\n",
        "  plt.subplot(3,3,i+1)\n",
        "  plt.tight_layout()\n",
        "  plt.imshow(X[i].reshape(8,8), cmap='gray', interpolation='none')\n",
        "  plt.title(\"Digit: {}\".format(y[i]))\n",
        "  plt.xticks([])\n",
        "  plt.yticks([])\n",
        "fig"
      ],
      "metadata": {
        "colab": {
          "base_uri": "https://localhost:8080/",
          "height": 551
        },
        "id": "-SPIQGPP61o5",
        "outputId": "79432221-0b28-4340-bdf8-62486c848a7f"
      },
      "execution_count": null,
      "outputs": [
        {
          "output_type": "execute_result",
          "data": {
            "text/plain": [
              "<Figure size 432x288 with 9 Axes>"
            ],
            "image/png": "[encoded data removed]"
          },
          "metadata": {},
          "execution_count": 5
        },
        {
          "output_type": "display_data",
          "data": {
            "text/plain": [
              "<Figure size 432x288 with 9 Axes>"
            ],
            "image/png": "[encoded data removed]"
          },
          "metadata": {}
        }
      ]
    },
    {
      "cell_type": "markdown",
      "source": [
        "\n",
        "\n",
        "---\n",
        "\n",
        "**PREPROCESSING**\n",
        "\n",
        "---\n",
        "\n"
      ],
      "metadata": {
        "id": "KuN4TRxU_Nlm"
      }
    },
    {
      "cell_type": "code",
      "source": [
        "X"
      ],
      "metadata": {
        "id": "-OxCosYc_jAp",
        "colab": {
          "base_uri": "https://localhost:8080/"
        },
        "outputId": "07564a56-af89-42b7-8493-6b8e2124b47e"
      },
      "execution_count": null,
      "outputs": [
        {
          "output_type": "execute_result",
          "data": {
            "text/plain": [
              "array([[ 0.,  0.,  5., ...,  0.,  0.,  0.],\n",
              "       [ 0.,  0.,  0., ..., 10.,  0.,  0.],\n",
              "       [ 0.,  0.,  0., ..., 16.,  9.,  0.],\n",
              "       ...,\n",
              "       [ 0.,  0.,  1., ...,  6.,  0.,  0.],\n",
              "       [ 0.,  0.,  2., ..., 12.,  0.,  0.],\n",
              "       [ 0.,  0., 10., ..., 12.,  1.,  0.]])"
            ]
          },
          "metadata": {},
          "execution_count": 6
        }
      ]
    },
    {
      "cell_type": "markdown",
      "source": [
        "MinMaxScaler skaluje składowe wektora danych do zadanego zakresu - domyślnie 0,1 obustronnie domkniętego."
      ],
      "metadata": {
        "id": "fyvXUy0lDQbJ"
      }
    },
    {
      "cell_type": "code",
      "source": [
        "import numpy as np"
      ],
      "metadata": {
        "id": "AeECb3-ROjiI"
      },
      "execution_count": null,
      "outputs": []
    },
    {
      "cell_type": "code",
      "source": [
        "np.max(X)"
      ],
      "metadata": {
        "colab": {
          "base_uri": "https://localhost:8080/"
        },
        "id": "1q5k-OieOTbu",
        "outputId": "cd21960d-05c8-4c98-c0b4-c64c57d85f64"
      },
      "execution_count": null,
      "outputs": [
        {
          "output_type": "execute_result",
          "data": {
            "text/plain": [
              "16.0"
            ]
          },
          "metadata": {},
          "execution_count": 8
        }
      ]
    },
    {
      "cell_type": "code",
      "source": [
        "from sklearn.preprocessing import MinMaxScaler"
      ],
      "metadata": {
        "id": "_eNx7cAH71yR"
      },
      "execution_count": null,
      "outputs": []
    },
    {
      "cell_type": "code",
      "source": [
        "MinMaxScaler(copy=False).fit_transform(X)"
      ],
      "metadata": {
        "id": "HCUsj2q97u8Z",
        "colab": {
          "base_uri": "https://localhost:8080/"
        },
        "outputId": "b8551614-aa7f-4368-d680-6dd31558ed50"
      },
      "execution_count": null,
      "outputs": [
        {
          "output_type": "execute_result",
          "data": {
            "text/plain": [
              "array([[0.    , 0.    , 0.3125, ..., 0.    , 0.    , 0.    ],\n",
              "       [0.    , 0.    , 0.    , ..., 0.625 , 0.    , 0.    ],\n",
              "       [0.    , 0.    , 0.    , ..., 1.    , 0.5625, 0.    ],\n",
              "       ...,\n",
              "       [0.    , 0.    , 0.0625, ..., 0.375 , 0.    , 0.    ],\n",
              "       [0.    , 0.    , 0.125 , ..., 0.75  , 0.    , 0.    ],\n",
              "       [0.    , 0.    , 0.625 , ..., 0.75  , 0.0625, 0.    ]])"
            ]
          },
          "metadata": {},
          "execution_count": 10
        }
      ]
    },
    {
      "cell_type": "code",
      "source": [
        "np.max(X)"
      ],
      "metadata": {
        "colab": {
          "base_uri": "https://localhost:8080/"
        },
        "id": "MdFtHPJaOexZ",
        "outputId": "52c54e33-d4bf-426d-d442-98044e3cb32f"
      },
      "execution_count": null,
      "outputs": [
        {
          "output_type": "execute_result",
          "data": {
            "text/plain": [
              "1.0"
            ]
          },
          "metadata": {},
          "execution_count": 11
        }
      ]
    },
    {
      "cell_type": "code",
      "source": [
        "X = X.reshape(X.shape[0], 8, 8, 1).astype('float32')"
      ],
      "metadata": {
        "id": "BIRckR00ZCaL"
      },
      "execution_count": null,
      "outputs": []
    },
    {
      "cell_type": "markdown",
      "source": [
        "Funkcja to_categorical jest jedną z wielu dostępnych metod, która pozwala w sposób zautomatyzowany zmienić format odpowiedzi z całkowitoliczbowych indeksów na kodowanie One Hot Encoding."
      ],
      "metadata": {
        "id": "xFr-3SC1999v"
      }
    },
    {
      "cell_type": "code",
      "source": [
        "y"
      ],
      "metadata": {
        "colab": {
          "base_uri": "https://localhost:8080/"
        },
        "id": "lZfgcFb9_DwH",
        "outputId": "cf764bb0-ed51-4d52-f22c-e6b191b77db1"
      },
      "execution_count": null,
      "outputs": [
        {
          "output_type": "execute_result",
          "data": {
            "text/plain": [
              "array([0, 1, 2, ..., 8, 9, 8])"
            ]
          },
          "metadata": {},
          "execution_count": 13
        }
      ]
    },
    {
      "cell_type": "code",
      "source": [
        "from tensorflow.keras.utils import to_categorical"
      ],
      "metadata": {
        "id": "Wuci8fyi9S4U"
      },
      "execution_count": null,
      "outputs": []
    },
    {
      "cell_type": "code",
      "source": [
        "y = to_categorical(y)"
      ],
      "metadata": {
        "id": "RmVRWZOO9MBg"
      },
      "execution_count": null,
      "outputs": []
    },
    {
      "cell_type": "code",
      "source": [
        "y.shape[0], y.shape[1], y"
      ],
      "metadata": {
        "colab": {
          "base_uri": "https://localhost:8080/"
        },
        "id": "mPMAVP8H9hIe",
        "outputId": "2c50cdf0-0845-487a-86b5-dc7fa12d323f"
      },
      "execution_count": null,
      "outputs": [
        {
          "output_type": "execute_result",
          "data": {
            "text/plain": [
              "(1797, 10, array([[1., 0., 0., ..., 0., 0., 0.],\n",
              "        [0., 1., 0., ..., 0., 0., 0.],\n",
              "        [0., 0., 1., ..., 0., 0., 0.],\n",
              "        ...,\n",
              "        [0., 0., 0., ..., 0., 1., 0.],\n",
              "        [0., 0., 0., ..., 0., 0., 1.],\n",
              "        [0., 0., 0., ..., 0., 1., 0.]], dtype=float32))"
            ]
          },
          "metadata": {},
          "execution_count": 16
        }
      ]
    },
    {
      "cell_type": "code",
      "source": [
        "X.dtype, X.shape, X.max(), y.shape"
      ],
      "metadata": {
        "colab": {
          "base_uri": "https://localhost:8080/"
        },
        "id": "kih8wXjr9NDQ",
        "outputId": "25799e4a-d78d-4335-b550-a12390f60149"
      },
      "execution_count": null,
      "outputs": [
        {
          "output_type": "execute_result",
          "data": {
            "text/plain": [
              "(dtype('float32'), (1797, 8, 8, 1), 1.0, (1797, 10))"
            ]
          },
          "metadata": {},
          "execution_count": 17
        }
      ]
    },
    {
      "cell_type": "markdown",
      "source": [
        "\n",
        "\n",
        "---\n",
        "\n",
        "**TWORZENIE MODELU**\n",
        "\n",
        "---\n",
        "\n"
      ],
      "metadata": {
        "id": "DpNkeb35_wd3"
      }
    },
    {
      "cell_type": "code",
      "source": [
        "from tensorflow.keras import models"
      ],
      "metadata": {
        "id": "rdNWTURI_6oC"
      },
      "execution_count": null,
      "outputs": []
    },
    {
      "cell_type": "code",
      "source": [
        "model_1 = models.Sequential()"
      ],
      "metadata": {
        "id": "EodgHjuN9f4T"
      },
      "execution_count": null,
      "outputs": []
    },
    {
      "cell_type": "markdown",
      "source": [
        "Dodajemy pierwszą warstwę powstającej sieci - wejściową."
      ],
      "metadata": {
        "id": "EjJntwOsEdvu"
      }
    },
    {
      "cell_type": "code",
      "source": [
        "from tensorflow.keras import layers"
      ],
      "metadata": {
        "id": "fGPpH45MEZ_C"
      },
      "execution_count": null,
      "outputs": []
    },
    {
      "cell_type": "code",
      "source": [
        "model_1.add(layers.InputLayer(input_shape=(8, 8, 1), name='input'))"
      ],
      "metadata": {
        "id": "AzUkUNAbELgU"
      },
      "execution_count": null,
      "outputs": []
    },
    {
      "cell_type": "markdown",
      "source": [
        "Dodajemy drugą warstwę - konwolucji z filtrem 3 na 3"
      ],
      "metadata": {
        "id": "xuuWlQjdEoDv"
      }
    },
    {
      "cell_type": "code",
      "source": [
        "model_1.add(layers.Conv2D(32, (3, 3), activation='relu', name='convolutional'))"
      ],
      "metadata": {
        "id": "IMuR8KEyNO-R"
      },
      "execution_count": null,
      "outputs": []
    },
    {
      "cell_type": "markdown",
      "source": [
        "Dodajemy trzecią warstwę - max_pooling z oknem 2 na 2"
      ],
      "metadata": {
        "id": "P8F4kgTrNaqo"
      }
    },
    {
      "cell_type": "code",
      "source": [
        "model_1.add(layers.MaxPooling2D((2, 2), name='max_pooling'))"
      ],
      "metadata": {
        "id": "1uYEoO9pNTuM"
      },
      "execution_count": null,
      "outputs": []
    },
    {
      "cell_type": "markdown",
      "source": [
        "Dodajemy czwartą warstwę Flatten Layer (warstwa spłaszczająca). Zadaniem tej warstwy jest rozwinięcie odpowiedzi warstw poprzednich w formie tensora (np. 10x10x3) w wektor jednowymiarowy (dla przykładu 300) na potrzeby przekazania jej do perceptronu wielowarstwowego."
      ],
      "metadata": {
        "id": "eCITaymKNhMb"
      }
    },
    {
      "cell_type": "code",
      "source": [
        "model_1.add(layers.Flatten(name='flatten'))"
      ],
      "metadata": {
        "id": "qIeTuYmhNnHd"
      },
      "execution_count": null,
      "outputs": []
    },
    {
      "cell_type": "markdown",
      "source": [
        "Dodajemy warstwy szóstą i siódmą jako perceptron wielowarstwowy z jedną warstwą ukrytą, połączeniem pełnym i przetwarzający odpowiedzi na wyjściu funkcją softmax."
      ],
      "metadata": {
        "id": "y7QEnlHcNmTf"
      }
    },
    {
      "cell_type": "code",
      "source": [
        "model_1.add(layers.Dense(100, activation='relu', name='hidden'))\n",
        "model_1.add(layers.Dense(10, activation='softmax', name='output'))"
      ],
      "metadata": {
        "id": "HaOdJVJdEqee"
      },
      "execution_count": null,
      "outputs": []
    },
    {
      "cell_type": "markdown",
      "source": [
        "\n",
        "\n",
        "---\n",
        "\n",
        "**KOMPILOWANIE MODELU**\n",
        "\n",
        "---\n",
        "\n"
      ],
      "metadata": {
        "id": "zIHW1EFwQTsj"
      }
    },
    {
      "cell_type": "markdown",
      "source": [
        "Na koniec musimy wybrać funkcję straty i optymalizator. \n",
        "\n",
        "OPTYMALIZATOR\n",
        "rmsprop - Root Mean Squared Propagation\n",
        "\n",
        "FUNKCJA STRATY\n",
        "Pracujemy nad problemem klasyfikacji, a sieć zwraca wartości prawdopodobieństwa (na końcu sieci znajduje się warstwa jednej jednostki z funkcją aktywacji softmax). Najlepiej będzie skorzystać z funkcji straty categorical_crossentropy (entropii krzyżowej dla danych kategorialnych), powszechnie stosowanej w uczeniu maszynowym jako funkcja straty.\n",
        "\n",
        "Nie jest to jedyna opcja. Można w tym miejscu użyć np. funkcji średniego błędu kwadratowego MSE (mean_squared_error).\n",
        "\n",
        "ENTROPIA KRZYŻOWA\n",
        "w przypadku modeli zwracających wartości prawdopodobieństwa. Termin entropia krzyżowa wywodzi się z teorii informacji. Jest to miara odległości między rozkładami prawdopodobieństwa a w tym przypadku rozkładem prawdziwych wartości i rozkładem przewidywanych wartości. Wskazujemy ponadto, że podczas trenowania monitorować będziemy również dokładność (accuracy)."
      ],
      "metadata": {
        "id": "M58009RHQYLy"
      }
    },
    {
      "cell_type": "markdown",
      "source": [
        "Metryka, optymalizator i funkcja straty są definiowane za pomocą ciągów znakowych. Jest to możliwe, ponieważ są to pakiety wchodzące w skład biblioteki Keras. Gdyby jednak zaszła potrzeba skonfigurowania parametrów optymalizatora lub przekazania samodzielnie wykonanej funkcji straty lub funkcji metryki, będzie można to zrobić. W tym celu należy samodzielnie przygotowany optymalizator, lub funkcje straty czy metryki przekazać odpowiednio jako argumenty optimizer, loss i metrics."
      ],
      "metadata": {
        "id": "Ovc6-RcrRJ6f"
      }
    },
    {
      "cell_type": "code",
      "source": [
        "model_1.compile(optimizer='rmsprop',\n",
        "                loss='categorical_crossentropy',\n",
        "                metrics=['accuracy'])"
      ],
      "metadata": {
        "id": "lPevW15ZEuhO"
      },
      "execution_count": null,
      "outputs": []
    },
    {
      "cell_type": "code",
      "source": [
        "model_1.summary()"
      ],
      "metadata": {
        "colab": {
          "base_uri": "https://localhost:8080/"
        },
        "id": "1Vh41W-qExeJ",
        "outputId": "bf7392d0-010a-42f1-8e0a-938f5c397e36"
      },
      "execution_count": null,
      "outputs": [
        {
          "output_type": "stream",
          "name": "stdout",
          "text": [
            "Model: \"sequential\"\n",
            "_________________________________________________________________\n",
            " Layer (type)                Output Shape              Param #   \n",
            "=================================================================\n",
            " convolutional (Conv2D)      (None, 6, 6, 32)          320       \n",
            "                                                                 \n",
            " max_pooling (MaxPooling2D)  (None, 3, 3, 32)          0         \n",
            "                                                                 \n",
            " flatten (Flatten)           (None, 288)               0         \n",
            "                                                                 \n",
            " hidden (Dense)              (None, 100)               28900     \n",
            "                                                                 \n",
            " output (Dense)              (None, 10)                1010      \n",
            "                                                                 \n",
            "=================================================================\n",
            "Total params: 30,230\n",
            "Trainable params: 30,230\n",
            "Non-trainable params: 0\n",
            "_________________________________________________________________\n"
          ]
        }
      ]
    },
    {
      "cell_type": "markdown",
      "source": [
        "Funkcja plot_model pozwala nam jeszcze dokładniej przyjrzeć się architekturze powstałej sieci."
      ],
      "metadata": {
        "id": "kQTXas9NFN6b"
      }
    },
    {
      "cell_type": "code",
      "source": [
        "from tensorflow.keras.utils import plot_model"
      ],
      "metadata": {
        "id": "5gPFw7glE70-"
      },
      "execution_count": null,
      "outputs": []
    },
    {
      "cell_type": "code",
      "source": [
        "plot_model(model_1, show_shapes=True, show_layer_activations=True)"
      ],
      "metadata": {
        "colab": {
          "base_uri": "https://localhost:8080/",
          "height": 644
        },
        "id": "8D6bv8SFEyF_",
        "outputId": "1575ecd1-7258-4baa-dc0f-c8138cda39dd"
      },
      "execution_count": null,
      "outputs": [
        {
          "output_type": "execute_result",
          "data": {
            "text/plain": [
              "<IPython.core.display.Image object>"
            ],
            "image/png": "[encoded data removed]"
          },
          "metadata": {},
          "execution_count": 29
        }
      ]
    },
    {
      "cell_type": "code",
      "source": [
        "from tensorflow.keras.callbacks import EarlyStopping\n",
        "from tensorflow.keras.callbacks import TensorBoard\n",
        "import os\n",
        "import datetime\n",
        "import tensorflow as tf\n",
        "%load_ext tensorboard"
      ],
      "metadata": {
        "id": "4vAlf9AvFxm-"
      },
      "execution_count": null,
      "outputs": []
    },
    {
      "cell_type": "code",
      "source": [
        "val_stop = EarlyStopping(monitor='val_loss', patience=5)\n",
        "logdir = os.path.join(\"logs\", datetime.datetime.now().strftime(\"%Y%m%d-%H%M%S\"))\n",
        "tb = TensorBoard(logdir, histogram_freq=1)\n",
        "%tensorboard --logdir logs"
      ],
      "metadata": {
        "id": "3mslb_HbFcQl"
      },
      "execution_count": null,
      "outputs": []
    },
    {
      "cell_type": "code",
      "source": [
        "\n",
        "from sklearn.model_selection import train_test_split"
      ],
      "metadata": {
        "id": "2W9__tcNHdw5"
      },
      "execution_count": null,
      "outputs": []
    },
    {
      "cell_type": "markdown",
      "source": [
        "Zbiory uczący i testowy dzielimy 25% jako testowy oraz 75% jako uczący."
      ],
      "metadata": {
        "id": "1ge2b9RkWQDJ"
      }
    },
    {
      "cell_type": "code",
      "source": [
        "X_train, X_test, y_train, y_test = train_test_split(X, y, \n",
        "                                                    test_size=0.25, \n",
        "                                                    stratify=y, \n",
        "                                                    random_state=42)\n",
        "X_train.shape, y_train.shape, X_test.shape, y_test.shape"
      ],
      "metadata": {
        "id": "JrsBZ10UGHpl"
      },
      "execution_count": null,
      "outputs": []
    },
    {
      "cell_type": "code",
      "source": [
        "fit_1 = model_1.fit(X_train, y_train, \n",
        "                    epochs=150, \n",
        "                    # batch_size=32,\n",
        "                    callbacks=[val_stop, tb],\n",
        "                    validation_data=(X_test, y_test))"
      ],
      "metadata": {
        "colab": {
          "base_uri": "https://localhost:8080/"
        },
        "id": "EPlpPcrzYKHj",
        "outputId": "00fe6121-ca38-4334-a259-b05ac813512f"
      },
      "execution_count": null,
      "outputs": [
        {
          "output_type": "stream",
          "name": "stdout",
          "text": [
            "Epoch 1/150\n",
            "43/43 [==============================] - 1s 15ms/step - loss: 0.0092 - accuracy: 0.9993 - val_loss: 0.2543 - val_accuracy: 0.9200\n",
            "Epoch 2/150\n",
            "43/43 [==============================] - 0s 10ms/step - loss: 0.0151 - accuracy: 0.9970 - val_loss: 0.0828 - val_accuracy: 0.9733\n",
            "Epoch 3/150\n",
            "43/43 [==============================] - 0s 10ms/step - loss: 0.0084 - accuracy: 0.9985 - val_loss: 0.0842 - val_accuracy: 0.9756\n",
            "Epoch 4/150\n",
            "43/43 [==============================] - 1s 12ms/step - loss: 0.0060 - accuracy: 1.0000 - val_loss: 0.0901 - val_accuracy: 0.9689\n",
            "Epoch 5/150\n",
            "43/43 [==============================] - 0s 6ms/step - loss: 0.0061 - accuracy: 0.9985 - val_loss: 0.0753 - val_accuracy: 0.9778\n",
            "Epoch 6/150\n",
            "43/43 [==============================] - 0s 11ms/step - loss: 0.0062 - accuracy: 0.9993 - val_loss: 0.1003 - val_accuracy: 0.9711\n",
            "Epoch 7/150\n",
            "43/43 [==============================] - 0s 10ms/step - loss: 0.0045 - accuracy: 1.0000 - val_loss: 0.0782 - val_accuracy: 0.9800\n",
            "Epoch 8/150\n",
            "43/43 [==============================] - 0s 8ms/step - loss: 0.0051 - accuracy: 0.9985 - val_loss: 0.0812 - val_accuracy: 0.9800\n",
            "Epoch 9/150\n",
            "43/43 [==============================] - 0s 6ms/step - loss: 0.0040 - accuracy: 1.0000 - val_loss: 0.1080 - val_accuracy: 0.9644\n",
            "Epoch 10/150\n",
            "43/43 [==============================] - 0s 10ms/step - loss: 0.0037 - accuracy: 1.0000 - val_loss: 0.0944 - val_accuracy: 0.9711\n"
          ]
        }
      ]
    },
    {
      "cell_type": "code",
      "source": [
        "y_pred_1 = fit_1.model.predict(X_test)"
      ],
      "metadata": {
        "id": "sUXl5KxcFhPh",
        "colab": {
          "base_uri": "https://localhost:8080/",
          "height": 171
        },
        "outputId": "c8f66305-645a-41a1-c29d-a9523791e913"
      },
      "execution_count": null,
      "outputs": [
        {
          "output_type": "error",
          "ename": "NameError",
          "evalue": "ignored",
          "traceback": [
            "\u001b[0;31m---------------------------------------------------------------------------\u001b[0m",
            "\u001b[0;31mNameError\u001b[0m                                 Traceback (most recent call last)",
            "\u001b[0;32m<ipython-input-1-275e8f833475>\u001b[0m in \u001b[0;36m<module>\u001b[0;34m()\u001b[0m\n\u001b[0;32m----> 1\u001b[0;31m \u001b[0my_pred_1\u001b[0m \u001b[0;34m=\u001b[0m \u001b[0mfit_1\u001b[0m\u001b[0;34m.\u001b[0m\u001b[0mmodel\u001b[0m\u001b[0;34m.\u001b[0m\u001b[0mpredict\u001b[0m\u001b[0;34m(\u001b[0m\u001b[0mX_test\u001b[0m\u001b[0;34m)\u001b[0m\u001b[0;34m\u001b[0m\u001b[0;34m\u001b[0m\u001b[0m\n\u001b[0m",
            "\u001b[0;31mNameError\u001b[0m: name 'fit_1' is not defined"
          ]
        }
      ]
    },
    {
      "cell_type": "code",
      "source": [],
      "metadata": {
        "id": "mQrdyBa9mLQG"
      },
      "execution_count": null,
      "outputs": []
    },
    {
      "cell_type": "code",
      "source": [
        "plt.figure(figsize=(8, 5))\n",
        "plt.plot(fit_1.history['loss'], '-', label='loss')\n",
        "plt.plot(fit_1.history['val_loss'], '-', label='val_loss')\n",
        "plt.xlabel(\"Epoch\")\n",
        "plt.legend()\n",
        "plt.show()\n",
        "\n",
        "plt.figure(figsize=(8, 5))\n",
        "plt.plot(fit_1.history['accuracy'], '-', label='accuracy')\n",
        "plt.plot(fit_1.history['val_accuracy'], '-', label='val_accuracy')\n",
        "plt.xlabel(\"Epoch\")\n",
        "plt.legend()\n",
        "plt.show()"
      ],
      "metadata": {
        "colab": {
          "base_uri": "https://localhost:8080/",
          "height": 651
        },
        "id": "mwcdvWK1FpYl",
        "outputId": "d1ed26af-8917-4f75-8398-566b302aef4c"
      },
      "execution_count": null,
      "outputs": [
        {
          "output_type": "display_data",
          "data": {
            "text/plain": [
              "<Figure size 576x360 with 1 Axes>"
            ],
            "image/png": "[encoded data removed]"
          },
          "metadata": {
            "needs_background": "light"
          }
        },
        {
          "output_type": "display_data",
          "data": {
            "text/plain": [
              "<Figure size 576x360 with 1 Axes>"
            ],
            "image/png": "[encoded data removed]"
          },
          "metadata": {
            "needs_background": "light"
          }
        }
      ]
    },
    {
      "cell_type": "markdown",
      "source": [
        "\n",
        "\n",
        "---\n",
        "\n",
        "MACIERZ POMYŁEK\n",
        "\n",
        "---\n",
        "\n"
      ],
      "metadata": {
        "id": "wmm8ZdkUXblM"
      }
    },
    {
      "cell_type": "markdown",
      "source": [
        "Pozwala nam w czytelniejszy sposób spojrzeć na wyniki odpowiedzi nauczonego modelu."
      ],
      "metadata": {
        "id": "gDCnbe1ZXr3O"
      }
    },
    {
      "cell_type": "code",
      "source": [
        "from sklearn.metrics import confusion_matrix, ConfusionMatrixDisplay"
      ],
      "metadata": {
        "id": "vIxboY4OH0ks"
      },
      "execution_count": null,
      "outputs": []
    },
    {
      "cell_type": "code",
      "source": [
        "cm = confusion_matrix(np.argmax(y_test, axis=1), np.argmax(y_pred_1, axis=1))\n",
        "cmp = ConfusionMatrixDisplay(cm)\n",
        "fig, ax = plt.subplots(figsize=(12, 10))\n",
        "cmp.plot(ax=ax)\n",
        "cm"
      ],
      "metadata": {
        "colab": {
          "base_uri": "https://localhost:8080/",
          "height": 785
        },
        "id": "rLo4qzQgFqR6",
        "outputId": "7e66e4fd-21bc-465b-dd41-28d9927db288"
      },
      "execution_count": null,
      "outputs": [
        {
          "output_type": "execute_result",
          "data": {
            "text/plain": [
              "array([[44,  0,  0,  0,  1,  0,  0,  0,  0,  0],\n",
              "       [ 0, 46,  0,  0,  0,  0,  0,  0,  0,  0],\n",
              "       [ 0,  0, 43,  1,  0,  0,  0,  0,  0,  0],\n",
              "       [ 0,  0,  0, 46,  0,  0,  0,  0,  0,  0],\n",
              "       [ 0,  0,  0,  0, 45,  0,  0,  0,  0,  0],\n",
              "       [ 0,  0,  0,  0,  0, 45,  0,  0,  0,  1],\n",
              "       [ 0,  0,  0,  0,  0,  0, 45,  0,  0,  0],\n",
              "       [ 0,  0,  0,  1,  0,  0,  0, 44,  0,  0],\n",
              "       [ 0,  1,  0,  3,  1,  0,  0,  1, 37,  0],\n",
              "       [ 0,  0,  0,  1,  0,  1,  0,  0,  0, 43]])"
            ]
          },
          "metadata": {},
          "execution_count": 38
        },
        {
          "output_type": "display_data",
          "data": {
            "text/plain": [
              "<Figure size 864x720 with 2 Axes>"
            ],
            "image/png": "[encoded data removed]"
          },
          "metadata": {
            "needs_background": "light"
          }
        }
      ]
    },
    {
      "cell_type": "markdown",
      "source": [
        "Oczywiście suma przypadków uwzględnionych w macierzy pomyłek pokrywa się z ilością przypadków w zbiorze testowym."
      ],
      "metadata": {
        "id": "N5_S1B29X6UO"
      }
    },
    {
      "cell_type": "code",
      "source": [
        "len(y_test)"
      ],
      "metadata": {
        "colab": {
          "base_uri": "https://localhost:8080/"
        },
        "id": "TrC-RAMLXUpA",
        "outputId": "a4d00e0c-6064-41de-9ead-1aa208cbfd24"
      },
      "execution_count": null,
      "outputs": [
        {
          "output_type": "execute_result",
          "data": {
            "text/plain": [
              "450"
            ]
          },
          "metadata": {},
          "execution_count": 39
        }
      ]
    },
    {
      "cell_type": "code",
      "source": [
        "cm.sum()"
      ],
      "metadata": {
        "colab": {
          "base_uri": "https://localhost:8080/"
        },
        "id": "oItPhcUkXPHU",
        "outputId": "ab19d6f6-0372-4b38-c1b4-95b0e2249160"
      },
      "execution_count": null,
      "outputs": [
        {
          "output_type": "execute_result",
          "data": {
            "text/plain": [
              "450"
            ]
          },
          "metadata": {},
          "execution_count": 40
        }
      ]
    }
  ]
}