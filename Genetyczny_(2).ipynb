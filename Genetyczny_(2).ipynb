{
  "cells": [
    {
      "cell_type": "code",
      "execution_count": null,
      "metadata": {
        "id": "UucMD65gU0sE"
      },
      "outputs": [],
      "source": [
        "import numpy as np\n",
        "import random\n",
        "np.random.seed(1)\n",
        "from tensorflow.keras.callbacks import EarlyStopping\n",
        "from tensorflow.keras.callbacks import TensorBoard\n",
        "import os\n",
        "import datetime\n",
        "import tensorflow as tf\n",
        "from tensorflow.keras import layers\n",
        "from tensorflow.keras.utils import to_categorical\n",
        "import matplotlib.pyplot as plt\n",
        "from sklearn.datasets import load_digits\n",
        "from sklearn.preprocessing import MinMaxScaler\n",
        "from tensorflow.keras import models\n",
        "from sklearn.model_selection import train_test_split"
      ]
    },
    {
      "cell_type": "code",
      "execution_count": null,
      "metadata": {
        "id": "qb_1T6n7cKoU"
      },
      "outputs": [],
      "source": [
        "class GeneticAlgorithm:\n",
        "    \n",
        "    def mutation(self,chromosome,chance):\n",
        "        index_of_mutated = random.randint(0, len(chromosome) - 1)\n",
        "        try_to_mutate = random.randint(0, 100)\n",
        "        if try_to_mutate <= chance:\n",
        "            if chromosome[index_of_mutated] == 0:\n",
        "                chromosome[index_of_mutated] = 1\n",
        "            else:\n",
        "                chromosome[index_of_mutated] = 0\n",
        "        return chromosome\n",
        "    \n",
        "    def random_chromosome(self,length):\n",
        "        return np.random.randint(0, 2, length).tolist()\n",
        "    \n",
        "    def get_num_of_perc(self,chromosome,kind):\n",
        "        count = 0\n",
        "        if kind == 1:\n",
        "            for i in range(0,int(len(chromosome)),2):\n",
        "                count += (2**i) * chromosome[i]\n",
        "        else:  \n",
        "            for i in range(1,int(len(chromosome)),2):\n",
        "                count += 0.5 * chromosome[i]  \n",
        "        return int(count)\n",
        "    \n",
        "    def make_new_chromosomes(self,chr1,chr2):\n",
        "        border = random.randint(1, len(chr2) - 1)\n",
        "        child1 = []\n",
        "        child2 = []\n",
        "        for i in range(0,len(chr2)):\n",
        "            if i < border:\n",
        "                child1.append(chr1[i])\n",
        "                child2.append(chr2[i])\n",
        "            else:\n",
        "                child1.append(chr2[i])\n",
        "                child2.append(chr1[i])\n",
        "        return child1,child2\n",
        "    \n",
        "    def fitness_function(self, fit_1):\n",
        "        sum_of_good = np.sum(fit_1.history['accuracy'])\n",
        "        return sum_of_good / len(fit_1.history['accuracy'])\n",
        "    \n",
        "    def roulette_wheel_selection(self,scores):\n",
        "        suma = np.sum(scores)\n",
        "        procents = [] \n",
        "        for i in range(0,len(scores)):\n",
        "            procents.append(scores[i]/suma)\n",
        "        arr_of_chance = []\n",
        "        \n",
        "        for i in range(0,len(scores)):\n",
        "            for j in range(0,int(scores[i] * 100)):\n",
        "                arr_of_chance.append(i)\n",
        "        \n",
        "        return random.choice(arr_of_chance)\n",
        "    \n",
        "    \n",
        "    def make_new_popul(self,chromosomes_population,score,chance_mut, X_train,y_train,val_stop,tb,X_test,y_test,n_pop):\n",
        "        \n",
        "        new_models_population = []\n",
        "        new_score = []\n",
        "        new_chromosomes_population = [] \n",
        "\n",
        "\n",
        "        for i in range(n_pop):\n",
        "            new_models_population.append(models.Sequential())\n",
        "            new_models_population[i].add(layers.InputLayer(input_shape=(8, 8, 1), name='input'))\n",
        "\n",
        "        for i in range(0,int(n_pop/2)):\n",
        "            first_index = self.roulette_wheel_selection(score)\n",
        "            second_index = first_index\n",
        "            while first_index  == second_index:\n",
        "                second_index = self.roulette_wheel_selection(score)\n",
        "                \n",
        "            child1, child2 = self.make_new_chromosomes(chromosomes_population[first_index],chromosomes_population[second_index])\n",
        "            \n",
        "            child1 = self.mutation(child1,chance_mut)\n",
        "            child2 = self.mutation(child2,chance_mut)\n",
        "\n",
        "            new_chromosomes_population.append(child1)\n",
        "            new_chromosomes_population.append(child2)\n",
        "\n",
        "\n",
        "        for i in range(0,n_pop):\n",
        "            new_models_population[i].add(layers.Flatten(name='flatten'))\n",
        "            \n",
        "            num_of_layers = self.get_num_of_perc(chromosomes_population[i],0)\n",
        "            num_of_neurons = self.get_num_of_perc(chromosomes_population[i],1)\n",
        "            \n",
        "            if num_of_layers != 0 and num_of_neurons != 0:\n",
        "                for j in range(0,1):\n",
        "                    new_models_population[i].add(layers.Dense(num_of_neurons, activation='relu', name='hidden' + str(j)))\n",
        "        \n",
        "            new_models_population[i].add(layers.Dense(10, activation='softmax', name='output'))\n",
        "            new_models_population[i].compile(optimizer='rmsprop',loss='categorical_crossentropy',metrics=['accuracy'])\n",
        "            fit_1 = new_models_population[i].fit(X_train, y_train, \n",
        "                    epochs=15, \n",
        "                    callbacks=[val_stop, tb],\n",
        "                    validation_data=(X_test, y_test))\n",
        "            new_score.append(self.fitness_function(fit_1))\n",
        "        \n",
        "\n",
        "        return new_chromosomes_population,new_score,new_models_population\n",
        "    \n",
        "    \n",
        "    \n",
        "    def genetic_algorithm(self,n_gens, n_iter, n_pop, chance_mut, X_train,y_train,val_stop,tb,X_test,y_test):\n",
        "        \n",
        "        models_population = []\n",
        "        chromosomes_population = []\n",
        "        score = []\n",
        "\n",
        "\n",
        "\n",
        "        new_models_population = []\n",
        "        new_score = []\n",
        "        new_chromosomes_population = [] \n",
        "        \n",
        "\n",
        "        mean_on_popul = []\n",
        "        best_in_popul = []\n",
        "\n",
        "\n",
        "        for i in range(n_pop):\n",
        "            models_population.append(models.Sequential())\n",
        "            models_population[i].add(layers.InputLayer(input_shape=(8, 8, 1), name='input'))\n",
        "        print(models_population)\n",
        "\n",
        "        for i in range(0,n_pop):\n",
        "            q = self.random_chromosome(n_gens)\n",
        "            chromosomes_population.append(q)\n",
        "        print(chromosomes_population)\n",
        "\n",
        "        for i in range(0,n_pop):\n",
        "            models_population[i].add(layers.Flatten(name='flatten'))\n",
        "            \n",
        "            num_of_layers = self.get_num_of_perc(chromosomes_population[i],0)\n",
        "            num_of_neurons = self.get_num_of_perc(chromosomes_population[i],1)\n",
        "            \n",
        "            if (num_of_layers != 0 or num_of_layers != 1) and num_of_neurons != 0:\n",
        "                for j in range(0,1):\n",
        "                    models_population[i].add(layers.Dense(num_of_neurons, activation='relu', name='hidden' + str(j)))\n",
        "            \n",
        "            models_population[i].add(layers.Dense(10, activation='softmax', name='output'))\n",
        "            models_population[i].compile(optimizer='rmsprop',loss='categorical_crossentropy',metrics=['accuracy'])\n",
        "            print(X_train.shape, X_test.shape, y_train.shape, y_test.shape)\n",
        "            fit_1 = models_population[i].fit(X_train, y_train, \n",
        "                    epochs=15, \n",
        "                    callbacks=[val_stop, tb],\n",
        "                    validation_data=(X_test, y_test))\n",
        "            score.append(self.fitness_function(fit_1))\n",
        "        print(models_population)\n",
        "        print(score)\n",
        "\n",
        "\n",
        "        print(\"start population\")\n",
        "        print(chromosomes_population)\n",
        "        print(\"start score\")\n",
        "        print(score)\n",
        "        print()\n",
        "\n",
        "        \n",
        "        mean_on_popul.append(np.sum(score)/len(score))\n",
        "        best_in_popul.append(np.amax(np.array(score)))\n",
        "        \n",
        "        for i in range(n_iter):\n",
        "            new_chromosomes_population,new_score,new_models_population = self.make_new_popul(chromosomes_population,score,chance_mut, X_train,y_train,val_stop,tb,X_test,y_test,n_pop)\n",
        "            \n",
        "            if abs(np.sum(new_score)/10 - np.sum(score)/10) < 0.01:    \n",
        "                print(\"population \" + str(i))\n",
        "                print(new_chromosomes_population)\n",
        "                print(\"population scores \" + str(j))\n",
        "                print(new_score)\n",
        "                print()\n",
        "\n",
        "                models_population = new_models_population\n",
        "                chromosomes_population = new_chromosomes_population\n",
        "                score = new_score\n",
        "                \n",
        "                mean_on_popul.append(np.sum(score)/len(score))\n",
        "                best_in_popul.append(np.amax(np.array(score)))\n",
        "                self.show_learning(mean_on_popul,best_in_popul)\n",
        "                return models_population, chromosomes_population, score   \n",
        "\n",
        "\n",
        "            print(\"population \" + str(i))\n",
        "            print(new_chromosomes_population)\n",
        "            print(\"population scores \" + str(i))\n",
        "            print(new_score)\n",
        "            print()\n",
        "            \n",
        "            models_population = new_models_population\n",
        "            chromosomes_population = new_chromosomes_population\n",
        "            score = new_score\n",
        "\n",
        "            mean_on_popul.append(np.sum(score)/len(score))\n",
        "            best_in_popul.append(np.amax(np.array(score)))\n",
        "\n",
        "        self.show_learning(mean_on_popul,best_in_popul)\n",
        "        return models_population, chromosomes_population, score   \n",
        "        \n",
        "    def show_learning(self,mean_on_popul,best_in_popul):\n",
        "        plt.figure(figsize=(8, 5))\n",
        "        plt.plot(mean_on_popul, '-', label='mean_on_popul')\n",
        "        plt.plot(best_in_popul, '-', label='best_in_popul')\n",
        "        plt.xlabel(\"step of genetic algorithm\")\n",
        "        plt.legend()\n",
        "        plt.show()"
      ]
    },
    {
      "cell_type": "code",
      "execution_count": null,
      "metadata": {
        "id": "bxu4GYz8hyy9"
      },
      "outputs": [],
      "source": [
        "X, y = load_digits(return_X_y=True)"
      ]
    },
    {
      "cell_type": "code",
      "execution_count": null,
      "metadata": {
        "colab": {
          "base_uri": "https://localhost:8080/"
        },
        "id": "2csHpzEafBol",
        "outputId": "b5fd17aa-17fb-42b7-ea7c-d8ae065e9165"
      },
      "outputs": [
        {
          "data": {
            "text/plain": [
              "array([[0.    , 0.    , 0.3125, ..., 0.    , 0.    , 0.    ],\n",
              "       [0.    , 0.    , 0.    , ..., 0.625 , 0.    , 0.    ],\n",
              "       [0.    , 0.    , 0.    , ..., 1.    , 0.5625, 0.    ],\n",
              "       ...,\n",
              "       [0.    , 0.    , 0.0625, ..., 0.375 , 0.    , 0.    ],\n",
              "       [0.    , 0.    , 0.125 , ..., 0.75  , 0.    , 0.    ],\n",
              "       [0.    , 0.    , 0.625 , ..., 0.75  , 0.0625, 0.    ]])"
            ]
          },
          "execution_count": 4,
          "metadata": {},
          "output_type": "execute_result"
        }
      ],
      "source": [
        "MinMaxScaler(copy=False).fit_transform(X)"
      ]
    },
    {
      "cell_type": "code",
      "execution_count": null,
      "metadata": {
        "id": "RHSgGbJLfB-Q"
      },
      "outputs": [],
      "source": [
        "X = X.reshape(X.shape[0], 8, 8, 1).astype('float32')"
      ]
    },
    {
      "cell_type": "code",
      "execution_count": null,
      "metadata": {
        "colab": {
          "base_uri": "https://localhost:8080/"
        },
        "id": "jxg3lGLVixZu",
        "outputId": "cc1ad29f-d047-4e4b-c7a5-a88791ce628b"
      },
      "outputs": [
        {
          "data": {
            "text/plain": [
              "(1797, 10, array([[1., 0., 0., ..., 0., 0., 0.],\n",
              "        [0., 1., 0., ..., 0., 0., 0.],\n",
              "        [0., 0., 1., ..., 0., 0., 0.],\n",
              "        ...,\n",
              "        [0., 0., 0., ..., 0., 1., 0.],\n",
              "        [0., 0., 0., ..., 0., 0., 1.],\n",
              "        [0., 0., 0., ..., 0., 1., 0.]], dtype=float32))"
            ]
          },
          "execution_count": 6,
          "metadata": {},
          "output_type": "execute_result"
        }
      ],
      "source": [
        "y = to_categorical(y)\n",
        "y.shape[0], y.shape[1], y"
      ]
    },
    {
      "cell_type": "code",
      "execution_count": null,
      "metadata": {
        "colab": {
          "base_uri": "https://localhost:8080/"
        },
        "id": "1MNg52NiizPD",
        "outputId": "361fcae4-7b1b-4f5f-dd57-d16c2d31c5e6"
      },
      "outputs": [
        {
          "data": {
            "text/plain": [
              "(dtype('float32'), (1797, 8, 8, 1), 1.0, (1797, 10))"
            ]
          },
          "execution_count": 7,
          "metadata": {},
          "output_type": "execute_result"
        }
      ],
      "source": [
        "X.dtype, X.shape, X.max(), y.shape"
      ]
    },
    {
      "cell_type": "code",
      "execution_count": null,
      "metadata": {
        "id": "k_7HStmLizMh"
      },
      "outputs": [],
      "source": [
        "X_train, X_test, y_train, y_test = train_test_split(X, y, \n",
        "                                                    test_size=0.25, \n",
        "                                                    stratify=y, \n",
        "                                                    random_state=42)\n",
        "\n",
        "%load_ext tensorboard\n",
        "\n",
        "val_stop = EarlyStopping(monitor='val_loss', patience=5)\n",
        "logdir = os.path.join(\"logs\", datetime.datetime.now().strftime(\"%Y%m%d-%H%M%S\"))\n",
        "tb = TensorBoard(logdir, histogram_freq=1)"
      ]
    },
    {
      "cell_type": "code",
      "execution_count": null,
      "metadata": {
        "colab": {
          "base_uri": "https://localhost:8080/"
        },
        "id": "wQzdmNgaPDkY",
        "outputId": "987d37a3-8558-441e-85c7-e0fb31bfd121"
      },
      "outputs": [
        {
          "data": {
            "text/plain": [
              "((1347, 8, 8, 1), (450, 8, 8, 1), (1347, 10), (450, 10))"
            ]
          },
          "execution_count": 9,
          "metadata": {},
          "output_type": "execute_result"
        }
      ],
      "source": [
        "X_train.shape, X_test.shape, y_train.shape, y_test.shape"
      ]
    },
    {
      "cell_type": "code",
      "execution_count": null,
      "metadata": {
        "id": "0AYfval4izKL"
      },
      "outputs": [],
      "source": [
        "gen = GeneticAlgorithm()"
      ]
    },
    {
      "cell_type": "code",
      "execution_count": null,
      "metadata": {
        "colab": {
          "background_save": true,
          "base_uri": "https://localhost:8080/"
        },
        "id": "zEkTJec-izHv",
        "outputId": "cb4ccd0b-346c-4ca6-a698-63ad40fecc6f"
      },
      "outputs": [
        {
          "name": "stdout",
          "output_type": "stream",
          "text": [
            "[<keras.engine.sequential.Sequential object at 0x7fcaaa808d50>, <keras.engine.sequential.Sequential object at 0x7fcaaca410d0>, <keras.engine.sequential.Sequential object at 0x7fcaaa481890>, <keras.engine.sequential.Sequential object at 0x7fcaaa481ed0>, <keras.engine.sequential.Sequential object at 0x7fcaaa489e50>, <keras.engine.sequential.Sequential object at 0x7fcaaa490990>, <keras.engine.sequential.Sequential object at 0x7fcaaa490e50>, <keras.engine.sequential.Sequential object at 0x7fcaaa496f50>, <keras.engine.sequential.Sequential object at 0x7fcaaa7929d0>, <keras.engine.sequential.Sequential object at 0x7fcaaa4a6510>]\n",
            "[[1, 1, 0, 0, 1, 1, 1, 1, 1, 0, 0, 1, 0, 1, 1, 0, 0, 1, 0, 0], [0, 1, 0, 0, 1, 0, 0, 0, 1, 0, 0, 0, 1, 1, 1, 1, 1, 0, 0, 0], [1, 1, 1, 1, 1, 1, 0, 1, 1, 0, 0, 1, 0, 0, 1, 1, 1, 0, 1, 0], [0, 1, 1, 0, 1, 1, 1, 1, 0, 0, 1, 1, 0, 0, 0, 0, 1, 1, 1, 0], [1, 0, 0, 1, 1, 0, 1, 1, 0, 1, 0, 0, 1, 1, 1, 0, 1, 1, 0, 1], [1, 1, 1, 0, 0, 0, 0, 0, 1, 1, 1, 1, 1, 1, 1, 0, 0, 0, 0, 0], [0, 1, 1, 1, 1, 1, 1, 0, 0, 1, 1, 0, 0, 1, 0, 0, 0, 1, 1, 1], [1, 1, 0, 1, 0, 1, 0, 0, 0, 1, 1, 1, 0, 1, 0, 0, 0, 0, 1, 0], [1, 0, 1, 1, 1, 0, 0, 0, 0, 0, 0, 1, 0, 0, 1, 0, 0, 1, 1, 0], [0, 0, 1, 0, 0, 0, 0, 1, 0, 0, 0, 0, 1, 1, 0, 0, 1, 1, 1, 0]]\n",
            "(1347, 8, 8, 1) (450, 8, 8, 1) (1347, 10) (450, 10)\n",
            "Epoch 1/15\n",
            "43/43 [==============================] - 4s 65ms/step - loss: 0.6917 - accuracy: 0.7914 - val_loss: 0.4567 - val_accuracy: 0.8289\n",
            "Epoch 2/15\n",
            "43/43 [==============================] - 2s 49ms/step - loss: 0.2228 - accuracy: 0.9295 - val_loss: 0.7708 - val_accuracy: 0.7800\n",
            "Epoch 3/15\n",
            "43/43 [==============================] - 2s 45ms/step - loss: 0.1665 - accuracy: 0.9525 - val_loss: 0.1429 - val_accuracy: 0.9467\n",
            "Epoch 4/15\n",
            "43/43 [==============================] - 2s 43ms/step - loss: 0.1161 - accuracy: 0.9569 - val_loss: 0.2071 - val_accuracy: 0.9333\n",
            "Epoch 5/15\n",
            "43/43 [==============================] - 2s 45ms/step - loss: 0.0807 - accuracy: 0.9725 - val_loss: 0.1126 - val_accuracy: 0.9644\n",
            "Epoch 6/15\n",
            "43/43 [==============================] - 2s 57ms/step - loss: 0.0749 - accuracy: 0.9740 - val_loss: 0.1466 - val_accuracy: 0.9622\n",
            "Epoch 7/15\n",
            "43/43 [==============================] - 2s 53ms/step - loss: 0.0446 - accuracy: 0.9859 - val_loss: 0.1300 - val_accuracy: 0.9578\n",
            "Epoch 8/15\n",
            "43/43 [==============================] - 2s 51ms/step - loss: 0.0513 - accuracy: 0.9844 - val_loss: 0.1335 - val_accuracy: 0.9578\n",
            "Epoch 9/15\n",
            "43/43 [==============================] - 2s 58ms/step - loss: 0.0355 - accuracy: 0.9881 - val_loss: 0.0677 - val_accuracy: 0.9822\n",
            "Epoch 10/15\n",
            "43/43 [==============================] - 2s 49ms/step - loss: 0.0358 - accuracy: 0.9866 - val_loss: 0.0650 - val_accuracy: 0.9800\n",
            "Epoch 11/15\n",
            "43/43 [==============================] - 2s 41ms/step - loss: 0.0162 - accuracy: 0.9948 - val_loss: 0.1338 - val_accuracy: 0.9578\n",
            "Epoch 12/15\n",
            "43/43 [==============================] - 1s 27ms/step - loss: 0.0259 - accuracy: 0.9933 - val_loss: 0.0702 - val_accuracy: 0.9800\n",
            "Epoch 13/15\n",
            "43/43 [==============================] - 1s 29ms/step - loss: 0.0194 - accuracy: 0.9941 - val_loss: 0.0878 - val_accuracy: 0.9667\n",
            "Epoch 14/15\n",
            "43/43 [==============================] - 1s 28ms/step - loss: 0.0185 - accuracy: 0.9933 - val_loss: 0.1940 - val_accuracy: 0.9578\n",
            "Epoch 15/15\n",
            "43/43 [==============================] - 1s 27ms/step - loss: 0.0179 - accuracy: 0.9948 - val_loss: 0.1280 - val_accuracy: 0.9667\n",
            "(1347, 8, 8, 1) (450, 8, 8, 1) (1347, 10) (450, 10)\n",
            "Epoch 1/15\n",
            "43/43 [==============================] - 6s 130ms/step - loss: 0.9360 - accuracy: 0.7357 - val_loss: 0.3788 - val_accuracy: 0.8800\n",
            "Epoch 2/15\n",
            "43/43 [==============================] - 5s 120ms/step - loss: 0.2803 - accuracy: 0.9109 - val_loss: 0.1775 - val_accuracy: 0.9422\n",
            "Epoch 3/15\n",
            "43/43 [==============================] - 5s 116ms/step - loss: 0.1824 - accuracy: 0.9421 - val_loss: 0.4337 - val_accuracy: 0.8733\n",
            "Epoch 4/15\n",
            "43/43 [==============================] - 5s 117ms/step - loss: 0.1409 - accuracy: 0.9517 - val_loss: 0.2447 - val_accuracy: 0.9267\n",
            "Epoch 5/15\n",
            "43/43 [==============================] - 6s 141ms/step - loss: 0.1119 - accuracy: 0.9614 - val_loss: 0.2202 - val_accuracy: 0.9378\n",
            "Epoch 6/15\n",
            "43/43 [==============================] - 5s 118ms/step - loss: 0.0931 - accuracy: 0.9710 - val_loss: 0.2466 - val_accuracy: 0.9200\n",
            "Epoch 7/15\n",
            "43/43 [==============================] - 5s 117ms/step - loss: 0.0934 - accuracy: 0.9710 - val_loss: 1.1724 - val_accuracy: 0.7822\n",
            "(1347, 8, 8, 1) (450, 8, 8, 1) (1347, 10) (450, 10)\n",
            "Epoch 1/15\n",
            "43/43 [==============================] - 22s 493ms/step - loss: 2.0955 - accuracy: 0.6956 - val_loss: 0.5152 - val_accuracy: 0.8111\n",
            "Epoch 2/15\n",
            "43/43 [==============================] - 20s 465ms/step - loss: 0.3330 - accuracy: 0.8886 - val_loss: 0.6415 - val_accuracy: 0.7956\n",
            "Epoch 3/15\n",
            "43/43 [==============================] - 20s 472ms/step - loss: 0.2231 - accuracy: 0.9258 - val_loss: 0.5322 - val_accuracy: 0.8622\n",
            "Epoch 4/15\n",
            "43/43 [==============================] - 20s 467ms/step - loss: 0.1627 - accuracy: 0.9480 - val_loss: 0.1329 - val_accuracy: 0.9511\n",
            "Epoch 5/15\n",
            "43/43 [==============================] - 20s 461ms/step - loss: 0.1254 - accuracy: 0.9651 - val_loss: 0.1574 - val_accuracy: 0.9444\n",
            "Epoch 6/15\n",
            "43/43 [==============================] - 20s 470ms/step - loss: 0.1068 - accuracy: 0.9659 - val_loss: 0.2086 - val_accuracy: 0.9444\n",
            "Epoch 7/15\n",
            "43/43 [==============================] - 21s 483ms/step - loss: 0.1317 - accuracy: 0.9696 - val_loss: 0.1440 - val_accuracy: 0.9578\n",
            "Epoch 8/15\n",
            "43/43 [==============================] - 20s 468ms/step - loss: 0.0925 - accuracy: 0.9785 - val_loss: 0.1110 - val_accuracy: 0.9644\n",
            "Epoch 9/15\n",
            "43/43 [==============================] - 20s 458ms/step - loss: 0.0940 - accuracy: 0.9770 - val_loss: 0.2213 - val_accuracy: 0.9400\n",
            "Epoch 10/15\n",
            "43/43 [==============================] - 19s 452ms/step - loss: 0.0726 - accuracy: 0.9792 - val_loss: 0.1110 - val_accuracy: 0.9711\n",
            "Epoch 11/15\n",
            "43/43 [==============================] - 19s 454ms/step - loss: 0.0810 - accuracy: 0.9770 - val_loss: 0.3303 - val_accuracy: 0.9400\n",
            "Epoch 12/15\n",
            "43/43 [==============================] - 20s 474ms/step - loss: 0.0576 - accuracy: 0.9859 - val_loss: 0.1924 - val_accuracy: 0.9533\n",
            "Epoch 13/15\n",
            "43/43 [==============================] - 19s 450ms/step - loss: 0.0794 - accuracy: 0.9807 - val_loss: 0.2299 - val_accuracy: 0.9600\n",
            "Epoch 14/15\n",
            "43/43 [==============================] - 20s 466ms/step - loss: 0.0862 - accuracy: 0.9800 - val_loss: 0.1205 - val_accuracy: 0.9778\n",
            "Epoch 15/15\n",
            "43/43 [==============================] - 20s 465ms/step - loss: 0.0262 - accuracy: 0.9963 - val_loss: 0.2395 - val_accuracy: 0.9600\n",
            "(1347, 8, 8, 1) (450, 8, 8, 1) (1347, 10) (450, 10)\n",
            "Epoch 1/15\n",
            "43/43 [==============================] - 19s 446ms/step - loss: 1.8501 - accuracy: 0.6852 - val_loss: 2.8113 - val_accuracy: 0.4311\n",
            "Epoch 2/15\n",
            "43/43 [==============================] - 18s 432ms/step - loss: 0.3507 - accuracy: 0.8820 - val_loss: 1.3239 - val_accuracy: 0.7200\n",
            "Epoch 3/15\n",
            "43/43 [==============================] - 18s 418ms/step - loss: 0.2050 - accuracy: 0.9347 - val_loss: 0.2342 - val_accuracy: 0.9267\n",
            "Epoch 4/15\n",
            "43/43 [==============================] - 18s 432ms/step - loss: 0.1812 - accuracy: 0.9465 - val_loss: 0.5929 - val_accuracy: 0.8622\n",
            "Epoch 5/15\n",
            "43/43 [==============================] - 19s 434ms/step - loss: 0.1058 - accuracy: 0.9621 - val_loss: 0.2783 - val_accuracy: 0.9244\n",
            "Epoch 6/15\n",
            "43/43 [==============================] - 18s 432ms/step - loss: 0.1213 - accuracy: 0.9592 - val_loss: 0.0971 - val_accuracy: 0.9667\n",
            "Epoch 7/15\n",
            "43/43 [==============================] - 18s 433ms/step - loss: 0.1123 - accuracy: 0.9755 - val_loss: 0.1153 - val_accuracy: 0.9644\n",
            "Epoch 8/15\n",
            "43/43 [==============================] - 18s 430ms/step - loss: 0.0827 - accuracy: 0.9800 - val_loss: 0.3830 - val_accuracy: 0.9267\n",
            "Epoch 9/15\n",
            "43/43 [==============================] - 19s 439ms/step - loss: 0.0831 - accuracy: 0.9814 - val_loss: 0.7607 - val_accuracy: 0.8867\n",
            "Epoch 10/15\n",
            "43/43 [==============================] - 23s 538ms/step - loss: 0.1194 - accuracy: 0.9725 - val_loss: 0.3067 - val_accuracy: 0.9444\n",
            "Epoch 11/15\n",
            "43/43 [==============================] - 19s 444ms/step - loss: 0.0611 - accuracy: 0.9829 - val_loss: 0.1374 - val_accuracy: 0.9600\n",
            "(1347, 8, 8, 1) (450, 8, 8, 1) (1347, 10) (450, 10)\n",
            "Epoch 1/15\n",
            "43/43 [==============================] - 6s 122ms/step - loss: 0.9189 - accuracy: 0.7506 - val_loss: 0.6576 - val_accuracy: 0.7711\n",
            "Epoch 2/15\n",
            "43/43 [==============================] - 5s 120ms/step - loss: 0.2598 - accuracy: 0.9183 - val_loss: 0.2274 - val_accuracy: 0.9222\n",
            "Epoch 3/15\n",
            "43/43 [==============================] - 5s 120ms/step - loss: 0.1963 - accuracy: 0.9354 - val_loss: 0.5635 - val_accuracy: 0.8244\n",
            "Epoch 4/15\n",
            "43/43 [==============================] - 5s 118ms/step - loss: 0.1269 - accuracy: 0.9636 - val_loss: 0.4179 - val_accuracy: 0.8933\n",
            "Epoch 5/15\n",
            "43/43 [==============================] - 5s 118ms/step - loss: 0.1108 - accuracy: 0.9644 - val_loss: 0.3138 - val_accuracy: 0.9311\n",
            "Epoch 6/15\n",
            "43/43 [==============================] - 5s 123ms/step - loss: 0.1028 - accuracy: 0.9703 - val_loss: 0.0909 - val_accuracy: 0.9711\n",
            "Epoch 7/15\n",
            "43/43 [==============================] - 5s 121ms/step - loss: 0.0804 - accuracy: 0.9762 - val_loss: 0.0917 - val_accuracy: 0.9733\n",
            "Epoch 8/15\n",
            "43/43 [==============================] - 5s 119ms/step - loss: 0.0533 - accuracy: 0.9814 - val_loss: 0.1112 - val_accuracy: 0.9644\n",
            "Epoch 9/15\n",
            "43/43 [==============================] - 5s 119ms/step - loss: 0.0473 - accuracy: 0.9859 - val_loss: 0.1183 - val_accuracy: 0.9711\n",
            "Epoch 10/15\n",
            "43/43 [==============================] - 5s 118ms/step - loss: 0.0532 - accuracy: 0.9859 - val_loss: 0.1332 - val_accuracy: 0.9667\n",
            "Epoch 11/15\n",
            "43/43 [==============================] - 5s 118ms/step - loss: 0.0470 - accuracy: 0.9852 - val_loss: 0.2126 - val_accuracy: 0.9533\n",
            "(1347, 8, 8, 1) (450, 8, 8, 1) (1347, 10) (450, 10)\n",
            "Epoch 1/15\n",
            "43/43 [==============================] - 2s 39ms/step - loss: 0.7674 - accuracy: 0.7543 - val_loss: 0.4105 - val_accuracy: 0.8578\n",
            "Epoch 2/15\n",
            "43/43 [==============================] - 2s 35ms/step - loss: 0.2359 - accuracy: 0.9243 - val_loss: 0.2142 - val_accuracy: 0.9244\n",
            "Epoch 3/15\n",
            "43/43 [==============================] - 2s 37ms/step - loss: 0.1502 - accuracy: 0.9532 - val_loss: 0.6166 - val_accuracy: 0.8111\n",
            "Epoch 4/15\n",
            "43/43 [==============================] - 2s 37ms/step - loss: 0.1172 - accuracy: 0.9621 - val_loss: 0.2837 - val_accuracy: 0.9089\n",
            "Epoch 5/15\n",
            "43/43 [==============================] - 2s 39ms/step - loss: 0.0777 - accuracy: 0.9770 - val_loss: 0.4428 - val_accuracy: 0.8644\n",
            "Epoch 6/15\n",
            "43/43 [==============================] - 2s 52ms/step - loss: 0.0741 - accuracy: 0.9762 - val_loss: 0.1058 - val_accuracy: 0.9644\n",
            "Epoch 7/15\n",
            "43/43 [==============================] - 2s 39ms/step - loss: 0.0463 - accuracy: 0.9874 - val_loss: 0.2790 - val_accuracy: 0.9267\n",
            "Epoch 8/15\n",
            "43/43 [==============================] - 2s 37ms/step - loss: 0.0585 - accuracy: 0.9814 - val_loss: 0.1030 - val_accuracy: 0.9689\n",
            "Epoch 9/15\n",
            "43/43 [==============================] - 1s 35ms/step - loss: 0.0328 - accuracy: 0.9896 - val_loss: 0.2117 - val_accuracy: 0.9378\n",
            "Epoch 10/15\n",
            "43/43 [==============================] - 2s 37ms/step - loss: 0.0313 - accuracy: 0.9903 - val_loss: 0.1684 - val_accuracy: 0.9511\n",
            "Epoch 11/15\n",
            "43/43 [==============================] - 2s 35ms/step - loss: 0.0211 - accuracy: 0.9933 - val_loss: 0.2911 - val_accuracy: 0.9222\n",
            "Epoch 12/15\n",
            "43/43 [==============================] - 1s 35ms/step - loss: 0.0222 - accuracy: 0.9941 - val_loss: 0.0987 - val_accuracy: 0.9756\n",
            "Epoch 13/15\n",
            "43/43 [==============================] - 1s 35ms/step - loss: 0.0224 - accuracy: 0.9918 - val_loss: 0.0689 - val_accuracy: 0.9756\n",
            "Epoch 14/15\n",
            "43/43 [==============================] - 2s 36ms/step - loss: 0.0248 - accuracy: 0.9918 - val_loss: 0.1257 - val_accuracy: 0.9644\n",
            "Epoch 15/15\n",
            "43/43 [==============================] - 2s 35ms/step - loss: 0.0079 - accuracy: 0.9970 - val_loss: 0.1131 - val_accuracy: 0.9711\n",
            "(1347, 8, 8, 1) (450, 8, 8, 1) (1347, 10) (450, 10)\n",
            "Epoch 1/15\n",
            "43/43 [==============================] - 16s 357ms/step - loss: 1.4822 - accuracy: 0.7394 - val_loss: 3.3530 - val_accuracy: 0.3600\n",
            "Epoch 2/15\n",
            "43/43 [==============================] - 15s 350ms/step - loss: 0.3706 - accuracy: 0.8916 - val_loss: 1.1636 - val_accuracy: 0.7156\n",
            "Epoch 3/15\n",
            "43/43 [==============================] - 15s 357ms/step - loss: 0.2350 - accuracy: 0.9302 - val_loss: 1.0879 - val_accuracy: 0.7911\n",
            "Epoch 4/15\n",
            "43/43 [==============================] - 15s 353ms/step - loss: 0.1908 - accuracy: 0.9428 - val_loss: 0.2015 - val_accuracy: 0.9422\n",
            "Epoch 5/15\n",
            "43/43 [==============================] - 15s 354ms/step - loss: 0.1236 - accuracy: 0.9629 - val_loss: 0.7759 - val_accuracy: 0.8711\n",
            "Epoch 6/15\n",
            "43/43 [==============================] - 15s 352ms/step - loss: 0.1249 - accuracy: 0.9659 - val_loss: 0.1785 - val_accuracy: 0.9578\n",
            "Epoch 7/15\n",
            "43/43 [==============================] - 15s 357ms/step - loss: 0.0786 - accuracy: 0.9755 - val_loss: 0.3014 - val_accuracy: 0.9178\n",
            "Epoch 8/15\n",
            "43/43 [==============================] - 16s 366ms/step - loss: 0.1014 - accuracy: 0.9710 - val_loss: 0.9342 - val_accuracy: 0.8289\n",
            "Epoch 9/15\n",
            "43/43 [==============================] - 16s 364ms/step - loss: 0.1085 - accuracy: 0.9762 - val_loss: 0.2891 - val_accuracy: 0.9511\n",
            "Epoch 10/15\n",
            "43/43 [==============================] - 15s 357ms/step - loss: 0.0698 - accuracy: 0.9889 - val_loss: 0.1339 - val_accuracy: 0.9689\n",
            "Epoch 11/15\n",
            "43/43 [==============================] - 15s 361ms/step - loss: 0.0805 - accuracy: 0.9777 - val_loss: 0.1925 - val_accuracy: 0.9600\n",
            "Epoch 12/15\n",
            "43/43 [==============================] - 15s 362ms/step - loss: 0.0679 - accuracy: 0.9829 - val_loss: 0.1467 - val_accuracy: 0.9689\n",
            "Epoch 13/15\n",
            "43/43 [==============================] - 16s 376ms/step - loss: 0.0610 - accuracy: 0.9896 - val_loss: 0.1161 - val_accuracy: 0.9778\n",
            "Epoch 14/15\n",
            "43/43 [==============================] - 15s 360ms/step - loss: 0.0951 - accuracy: 0.9740 - val_loss: 0.1662 - val_accuracy: 0.9622\n",
            "Epoch 15/15\n",
            "43/43 [==============================] - 15s 360ms/step - loss: 0.0180 - accuracy: 0.9970 - val_loss: 0.1923 - val_accuracy: 0.9689\n",
            "(1347, 8, 8, 1) (450, 8, 8, 1) (1347, 10) (450, 10)\n",
            "Epoch 1/15\n",
            "43/43 [==============================] - 16s 353ms/step - loss: 1.6615 - accuracy: 0.6852 - val_loss: 0.3434 - val_accuracy: 0.8911\n",
            "Epoch 2/15\n",
            "43/43 [==============================] - 15s 358ms/step - loss: 0.3051 - accuracy: 0.9042 - val_loss: 1.4361 - val_accuracy: 0.6622\n",
            "Epoch 3/15\n",
            "43/43 [==============================] - 16s 362ms/step - loss: 0.2432 - accuracy: 0.9369 - val_loss: 0.2504 - val_accuracy: 0.9178\n",
            "Epoch 4/15\n",
            "43/43 [==============================] - 15s 350ms/step - loss: 0.1630 - accuracy: 0.9399 - val_loss: 0.0944 - val_accuracy: 0.9711\n",
            "Epoch 5/15\n",
            "43/43 [==============================] - 15s 352ms/step - loss: 0.1117 - accuracy: 0.9629 - val_loss: 0.1434 - val_accuracy: 0.9556\n",
            "Epoch 6/15\n",
            "43/43 [==============================] - 15s 349ms/step - loss: 0.1563 - accuracy: 0.9621 - val_loss: 0.0973 - val_accuracy: 0.9600\n",
            "Epoch 7/15\n",
            "43/43 [==============================] - 15s 351ms/step - loss: 0.0797 - accuracy: 0.9770 - val_loss: 0.2486 - val_accuracy: 0.9356\n",
            "Epoch 8/15\n",
            "43/43 [==============================] - 15s 359ms/step - loss: 0.0886 - accuracy: 0.9792 - val_loss: 0.0924 - val_accuracy: 0.9733\n",
            "Epoch 9/15\n",
            "43/43 [==============================] - 15s 357ms/step - loss: 0.0640 - accuracy: 0.9770 - val_loss: 0.5589 - val_accuracy: 0.9133\n",
            "Epoch 10/15\n",
            "43/43 [==============================] - 15s 349ms/step - loss: 0.0763 - accuracy: 0.9814 - val_loss: 0.1216 - val_accuracy: 0.9778\n",
            "Epoch 11/15\n",
            "43/43 [==============================] - 16s 373ms/step - loss: 0.1017 - accuracy: 0.9733 - val_loss: 0.0971 - val_accuracy: 0.9756\n",
            "Epoch 12/15\n",
            "43/43 [==============================] - 21s 497ms/step - loss: 0.0271 - accuracy: 0.9903 - val_loss: 0.2340 - val_accuracy: 0.9511\n",
            "Epoch 13/15\n",
            "43/43 [==============================] - 16s 378ms/step - loss: 0.1065 - accuracy: 0.9785 - val_loss: 0.1686 - val_accuracy: 0.9689\n",
            "(1347, 8, 8, 1) (450, 8, 8, 1) (1347, 10) (450, 10)\n",
            "Epoch 1/15\n",
            "43/43 [==============================] - 18s 417ms/step - loss: 1.7970 - accuracy: 0.6919 - val_loss: 0.4567 - val_accuracy: 0.8244\n",
            "Epoch 2/15\n",
            "43/43 [==============================] - 17s 395ms/step - loss: 0.2948 - accuracy: 0.9027 - val_loss: 0.2003 - val_accuracy: 0.9244\n",
            "Epoch 3/15\n",
            "43/43 [==============================] - 16s 380ms/step - loss: 0.2441 - accuracy: 0.9265 - val_loss: 0.2483 - val_accuracy: 0.9178\n",
            "Epoch 4/15\n",
            "43/43 [==============================] - 17s 405ms/step - loss: 0.1841 - accuracy: 0.9414 - val_loss: 0.2019 - val_accuracy: 0.9333\n",
            "Epoch 5/15\n",
            "43/43 [==============================] - 17s 403ms/step - loss: 0.1172 - accuracy: 0.9666 - val_loss: 0.2255 - val_accuracy: 0.9333\n",
            "Epoch 6/15\n",
            "43/43 [==============================] - 17s 399ms/step - loss: 0.1035 - accuracy: 0.9740 - val_loss: 0.5138 - val_accuracy: 0.9178\n",
            "Epoch 7/15\n",
            "43/43 [==============================] - 16s 384ms/step - loss: 0.1147 - accuracy: 0.9592 - val_loss: 0.2114 - val_accuracy: 0.9378\n",
            "(1347, 8, 8, 1) (450, 8, 8, 1) (1347, 10) (450, 10)\n",
            "Epoch 1/15\n",
            "43/43 [==============================] - 25s 569ms/step - loss: 2.0467 - accuracy: 0.6615 - val_loss: 0.6963 - val_accuracy: 0.8089\n",
            "Epoch 2/15\n",
            "43/43 [==============================] - 20s 478ms/step - loss: 0.3740 - accuracy: 0.8820 - val_loss: 0.6139 - val_accuracy: 0.8200\n",
            "Epoch 3/15\n",
            "43/43 [==============================] - 19s 451ms/step - loss: 0.2239 - accuracy: 0.9324 - val_loss: 0.1435 - val_accuracy: 0.9489\n",
            "Epoch 4/15\n",
            "43/43 [==============================] - 20s 459ms/step - loss: 0.1421 - accuracy: 0.9584 - val_loss: 0.2009 - val_accuracy: 0.9378\n",
            "Epoch 5/15\n",
            "43/43 [==============================] - 20s 460ms/step - loss: 0.1467 - accuracy: 0.9555 - val_loss: 0.2264 - val_accuracy: 0.9244\n",
            "Epoch 6/15\n",
            "43/43 [==============================] - 20s 460ms/step - loss: 0.1152 - accuracy: 0.9651 - val_loss: 0.2622 - val_accuracy: 0.9400\n",
            "Epoch 7/15\n",
            "43/43 [==============================] - 20s 466ms/step - loss: 0.1198 - accuracy: 0.9740 - val_loss: 0.1780 - val_accuracy: 0.9644\n",
            "Epoch 8/15\n",
            "43/43 [==============================] - 20s 461ms/step - loss: 0.0907 - accuracy: 0.9762 - val_loss: 0.1644 - val_accuracy: 0.9667\n",
            "[<keras.engine.sequential.Sequential object at 0x7fcaaa808d50>, <keras.engine.sequential.Sequential object at 0x7fcaaca410d0>, <keras.engine.sequential.Sequential object at 0x7fcaaa481890>, <keras.engine.sequential.Sequential object at 0x7fcaaa481ed0>, <keras.engine.sequential.Sequential object at 0x7fcaaa489e50>, <keras.engine.sequential.Sequential object at 0x7fcaaa490990>, <keras.engine.sequential.Sequential object at 0x7fcaaa490e50>, <keras.engine.sequential.Sequential object at 0x7fcaaa496f50>, <keras.engine.sequential.Sequential object at 0x7fcaaa7929d0>, <keras.engine.sequential.Sequential object at 0x7fcaaa4a6510>]\n",
            "[0.966146993637085, 0.9205642172268459, 0.9475377321243286, 0.9329148856076327, 0.9470203085379167, 0.9642662723859151, 0.9510517199834188, 0.9421506432386545, 0.9088980810982841, 0.9131403043866158]\n",
            "start population\n",
            "[[1, 1, 0, 0, 1, 1, 1, 1, 1, 0, 0, 1, 0, 1, 1, 0, 0, 1, 0, 0], [0, 1, 0, 0, 1, 0, 0, 0, 1, 0, 0, 0, 1, 1, 1, 1, 1, 0, 0, 0], [1, 1, 1, 1, 1, 1, 0, 1, 1, 0, 0, 1, 0, 0, 1, 1, 1, 0, 1, 0], [0, 1, 1, 0, 1, 1, 1, 1, 0, 0, 1, 1, 0, 0, 0, 0, 1, 1, 1, 0], [1, 0, 0, 1, 1, 0, 1, 1, 0, 1, 0, 0, 1, 1, 1, 0, 1, 1, 0, 1], [1, 1, 1, 0, 0, 0, 0, 0, 1, 1, 1, 1, 1, 1, 1, 0, 0, 0, 0, 0], [0, 1, 1, 1, 1, 1, 1, 0, 0, 1, 1, 0, 0, 1, 0, 0, 0, 1, 1, 1], [1, 1, 0, 1, 0, 1, 0, 0, 0, 1, 1, 1, 0, 1, 0, 0, 0, 0, 1, 0], [1, 0, 1, 1, 1, 0, 0, 0, 0, 0, 0, 1, 0, 0, 1, 0, 0, 1, 1, 0], [0, 0, 1, 0, 0, 0, 0, 1, 0, 0, 0, 0, 1, 1, 0, 0, 1, 1, 1, 0]]\n",
            "start score\n",
            "[0.966146993637085, 0.9205642172268459, 0.9475377321243286, 0.9329148856076327, 0.9470203085379167, 0.9642662723859151, 0.9510517199834188, 0.9421506432386545, 0.9088980810982841, 0.9131403043866158]\n",
            "\n",
            "Epoch 1/15\n",
            "43/43 [==============================] - 2s 35ms/step - loss: 0.7037 - accuracy: 0.7936 - val_loss: 0.7351 - val_accuracy: 0.7689\n",
            "Epoch 2/15\n",
            "43/43 [==============================] - 1s 33ms/step - loss: 0.2299 - accuracy: 0.9332 - val_loss: 0.6623 - val_accuracy: 0.7756\n",
            "Epoch 3/15\n",
            "43/43 [==============================] - 1s 34ms/step - loss: 0.1660 - accuracy: 0.9503 - val_loss: 0.2949 - val_accuracy: 0.8956\n",
            "Epoch 4/15\n",
            "43/43 [==============================] - 1s 33ms/step - loss: 0.1045 - accuracy: 0.9607 - val_loss: 0.7525 - val_accuracy: 0.8200\n",
            "Epoch 5/15\n",
            "43/43 [==============================] - 2s 50ms/step - loss: 0.0862 - accuracy: 0.9688 - val_loss: 0.1526 - val_accuracy: 0.9467\n",
            "Epoch 6/15\n",
            "43/43 [==============================] - 2s 41ms/step - loss: 0.0628 - accuracy: 0.9792 - val_loss: 0.0943 - val_accuracy: 0.9644\n",
            "Epoch 7/15\n",
            "43/43 [==============================] - 1s 32ms/step - loss: 0.0465 - accuracy: 0.9859 - val_loss: 0.1457 - val_accuracy: 0.9511\n",
            "Epoch 8/15\n",
            "43/43 [==============================] - 1s 33ms/step - loss: 0.0400 - accuracy: 0.9874 - val_loss: 0.1639 - val_accuracy: 0.9533\n",
            "Epoch 9/15\n",
            "43/43 [==============================] - 1s 34ms/step - loss: 0.0325 - accuracy: 0.9874 - val_loss: 0.1505 - val_accuracy: 0.9511\n",
            "Epoch 10/15\n",
            "43/43 [==============================] - 1s 34ms/step - loss: 0.0375 - accuracy: 0.9859 - val_loss: 0.0825 - val_accuracy: 0.9733\n",
            "Epoch 11/15\n",
            "43/43 [==============================] - 1s 32ms/step - loss: 0.0226 - accuracy: 0.9955 - val_loss: 0.0678 - val_accuracy: 0.9867\n",
            "Epoch 12/15\n",
            "43/43 [==============================] - 1s 33ms/step - loss: 0.0313 - accuracy: 0.9881 - val_loss: 0.0868 - val_accuracy: 0.9689\n",
            "Epoch 13/15\n",
            "43/43 [==============================] - 1s 32ms/step - loss: 0.0120 - accuracy: 0.9955 - val_loss: 0.2978 - val_accuracy: 0.9244\n",
            "Epoch 14/15\n",
            "43/43 [==============================] - 1s 32ms/step - loss: 0.0189 - accuracy: 0.9926 - val_loss: 0.0687 - val_accuracy: 0.9778\n",
            "Epoch 15/15\n",
            "43/43 [==============================] - 1s 34ms/step - loss: 0.0103 - accuracy: 0.9955 - val_loss: 0.0641 - val_accuracy: 0.9800\n",
            "Epoch 1/15\n",
            "43/43 [==============================] - 7s 151ms/step - loss: 1.1524 - accuracy: 0.7201 - val_loss: 0.3352 - val_accuracy: 0.9067\n",
            "Epoch 2/15\n",
            "43/43 [==============================] - 6s 142ms/step - loss: 0.2804 - accuracy: 0.9057 - val_loss: 1.3357 - val_accuracy: 0.6689\n",
            "Epoch 3/15\n",
            "43/43 [==============================] - 6s 144ms/step - loss: 0.1904 - accuracy: 0.9443 - val_loss: 0.4218 - val_accuracy: 0.8711\n",
            "Epoch 4/15\n",
            "43/43 [==============================] - 6s 146ms/step - loss: 0.1317 - accuracy: 0.9569 - val_loss: 0.1456 - val_accuracy: 0.9533\n",
            "Epoch 5/15\n",
            "43/43 [==============================] - 6s 144ms/step - loss: 0.0975 - accuracy: 0.9659 - val_loss: 0.2354 - val_accuracy: 0.9333\n",
            "Epoch 6/15\n",
            "43/43 [==============================] - 6s 142ms/step - loss: 0.0993 - accuracy: 0.9725 - val_loss: 0.1679 - val_accuracy: 0.9556\n",
            "Epoch 7/15\n",
            "43/43 [==============================] - 6s 140ms/step - loss: 0.0694 - accuracy: 0.9785 - val_loss: 0.7301 - val_accuracy: 0.8578\n",
            "Epoch 8/15\n",
            "43/43 [==============================] - 6s 142ms/step - loss: 0.0673 - accuracy: 0.9852 - val_loss: 0.1100 - val_accuracy: 0.9711\n",
            "Epoch 9/15\n",
            "43/43 [==============================] - 6s 144ms/step - loss: 0.0506 - accuracy: 0.9822 - val_loss: 0.1727 - val_accuracy: 0.9578\n",
            "Epoch 10/15\n",
            "43/43 [==============================] - 6s 145ms/step - loss: 0.0473 - accuracy: 0.9837 - val_loss: 0.1947 - val_accuracy: 0.9556\n",
            "Epoch 11/15\n",
            "43/43 [==============================] - 6s 142ms/step - loss: 0.0285 - accuracy: 0.9889 - val_loss: 0.2585 - val_accuracy: 0.9422\n",
            "Epoch 12/15\n",
            "43/43 [==============================] - 6s 141ms/step - loss: 0.0527 - accuracy: 0.9829 - val_loss: 0.3414 - val_accuracy: 0.9378\n",
            "Epoch 13/15\n",
            "43/43 [==============================] - 6s 142ms/step - loss: 0.0294 - accuracy: 0.9889 - val_loss: 0.1425 - val_accuracy: 0.9622\n",
            "Epoch 1/15\n",
            "43/43 [==============================] - 22s 506ms/step - loss: 1.9869 - accuracy: 0.6978 - val_loss: 1.8605 - val_accuracy: 0.5844\n",
            "Epoch 2/15\n",
            "43/43 [==============================] - 23s 546ms/step - loss: 0.3658 - accuracy: 0.8901 - val_loss: 4.2041 - val_accuracy: 0.3689\n",
            "Epoch 3/15\n",
            "43/43 [==============================] - 21s 495ms/step - loss: 0.3190 - accuracy: 0.9220 - val_loss: 0.2293 - val_accuracy: 0.9244\n",
            "Epoch 4/15\n",
            "43/43 [==============================] - 21s 499ms/step - loss: 0.1803 - accuracy: 0.9414 - val_loss: 0.2182 - val_accuracy: 0.9422\n",
            "Epoch 5/15\n",
            "43/43 [==============================] - 21s 487ms/step - loss: 0.1503 - accuracy: 0.9555 - val_loss: 0.3579 - val_accuracy: 0.9222\n",
            "Epoch 6/15\n",
            "43/43 [==============================] - 21s 500ms/step - loss: 0.1007 - accuracy: 0.9710 - val_loss: 0.1622 - val_accuracy: 0.9556\n",
            "Epoch 7/15\n",
            "43/43 [==============================] - 21s 479ms/step - loss: 0.1104 - accuracy: 0.9673 - val_loss: 0.6843 - val_accuracy: 0.8822\n",
            "Epoch 8/15\n",
            "43/43 [==============================] - 21s 495ms/step - loss: 0.1031 - accuracy: 0.9725 - val_loss: 0.1223 - val_accuracy: 0.9644\n",
            "Epoch 9/15\n",
            "43/43 [==============================] - 25s 581ms/step - loss: 0.0736 - accuracy: 0.9807 - val_loss: 0.3282 - val_accuracy: 0.9333\n",
            "Epoch 10/15\n",
            "43/43 [==============================] - 20s 478ms/step - loss: 0.0731 - accuracy: 0.9837 - val_loss: 0.3133 - val_accuracy: 0.9556\n",
            "Epoch 11/15\n",
            "43/43 [==============================] - 20s 478ms/step - loss: 0.0884 - accuracy: 0.9755 - val_loss: 0.3296 - val_accuracy: 0.9333\n",
            "Epoch 12/15\n",
            "43/43 [==============================] - 20s 477ms/step - loss: 0.0551 - accuracy: 0.9881 - val_loss: 0.2067 - val_accuracy: 0.9644\n",
            "Epoch 13/15\n",
            "43/43 [==============================] - 21s 490ms/step - loss: 0.0878 - accuracy: 0.9814 - val_loss: 0.1789 - val_accuracy: 0.9667\n",
            "Epoch 1/15\n",
            "43/43 [==============================] - 21s 471ms/step - loss: 2.0084 - accuracy: 0.6778 - val_loss: 3.0251 - val_accuracy: 0.4200\n",
            "Epoch 2/15\n",
            "43/43 [==============================] - 19s 451ms/step - loss: 0.3731 - accuracy: 0.9050 - val_loss: 0.6461 - val_accuracy: 0.8222\n",
            "Epoch 3/15\n",
            "43/43 [==============================] - 19s 438ms/step - loss: 0.2141 - accuracy: 0.9339 - val_loss: 0.5045 - val_accuracy: 0.8600\n",
            "Epoch 4/15\n",
            "43/43 [==============================] - 19s 437ms/step - loss: 0.1568 - accuracy: 0.9503 - val_loss: 0.1617 - val_accuracy: 0.9533\n",
            "Epoch 5/15\n",
            "43/43 [==============================] - 19s 450ms/step - loss: 0.1181 - accuracy: 0.9636 - val_loss: 0.3445 - val_accuracy: 0.9178\n",
            "Epoch 6/15\n",
            "43/43 [==============================] - 19s 447ms/step - loss: 0.1130 - accuracy: 0.9688 - val_loss: 0.1965 - val_accuracy: 0.9400\n",
            "Epoch 7/15\n",
            "43/43 [==============================] - 19s 438ms/step - loss: 0.0947 - accuracy: 0.9770 - val_loss: 0.2246 - val_accuracy: 0.9444\n",
            "Epoch 8/15\n",
            "43/43 [==============================] - 19s 449ms/step - loss: 0.0929 - accuracy: 0.9733 - val_loss: 0.3853 - val_accuracy: 0.9200\n",
            "Epoch 9/15\n",
            "43/43 [==============================] - 20s 462ms/step - loss: 0.0922 - accuracy: 0.9733 - val_loss: 0.1938 - val_accuracy: 0.9556\n",
            "Epoch 1/15\n",
            "43/43 [==============================] - 7s 149ms/step - loss: 0.9692 - accuracy: 0.7320 - val_loss: 2.3991 - val_accuracy: 0.5000\n",
            "Epoch 2/15\n",
            "43/43 [==============================] - 6s 132ms/step - loss: 0.2762 - accuracy: 0.9139 - val_loss: 0.8317 - val_accuracy: 0.8044\n",
            "Epoch 3/15\n",
            "43/43 [==============================] - 6s 135ms/step - loss: 0.1889 - accuracy: 0.9302 - val_loss: 0.1679 - val_accuracy: 0.9489\n",
            "Epoch 4/15\n",
            "43/43 [==============================] - 6s 132ms/step - loss: 0.1346 - accuracy: 0.9525 - val_loss: 0.3797 - val_accuracy: 0.8667\n",
            "Epoch 5/15\n",
            "43/43 [==============================] - 6s 136ms/step - loss: 0.1108 - accuracy: 0.9599 - val_loss: 0.1281 - val_accuracy: 0.9578\n",
            "Epoch 6/15\n",
            "43/43 [==============================] - 6s 133ms/step - loss: 0.0636 - accuracy: 0.9792 - val_loss: 0.1003 - val_accuracy: 0.9689\n",
            "Epoch 7/15\n",
            "43/43 [==============================] - 6s 134ms/step - loss: 0.0759 - accuracy: 0.9777 - val_loss: 0.1041 - val_accuracy: 0.9667\n",
            "Epoch 8/15\n",
            "43/43 [==============================] - 6s 135ms/step - loss: 0.0725 - accuracy: 0.9740 - val_loss: 0.1258 - val_accuracy: 0.9600\n",
            "Epoch 9/15\n",
            "43/43 [==============================] - 6s 135ms/step - loss: 0.0312 - accuracy: 0.9874 - val_loss: 0.1590 - val_accuracy: 0.9556\n",
            "Epoch 10/15\n",
            "43/43 [==============================] - 6s 134ms/step - loss: 0.0569 - accuracy: 0.9822 - val_loss: 0.1910 - val_accuracy: 0.9489\n",
            "Epoch 11/15\n",
            "43/43 [==============================] - 6s 134ms/step - loss: 0.0589 - accuracy: 0.9844 - val_loss: 0.2243 - val_accuracy: 0.9533\n",
            "Epoch 1/15\n",
            "43/43 [==============================] - 2s 44ms/step - loss: 0.7583 - accuracy: 0.7817 - val_loss: 0.9350 - val_accuracy: 0.6667\n",
            "Epoch 2/15\n",
            "43/43 [==============================] - 2s 41ms/step - loss: 0.2352 - accuracy: 0.9310 - val_loss: 0.1966 - val_accuracy: 0.9267\n",
            "Epoch 3/15\n",
            "43/43 [==============================] - 2s 43ms/step - loss: 0.1614 - accuracy: 0.9503 - val_loss: 0.5277 - val_accuracy: 0.8422\n",
            "Epoch 4/15\n",
            "43/43 [==============================] - 2s 43ms/step - loss: 0.1208 - accuracy: 0.9577 - val_loss: 0.5976 - val_accuracy: 0.8178\n",
            "Epoch 5/15\n",
            "43/43 [==============================] - 2s 42ms/step - loss: 0.0782 - accuracy: 0.9740 - val_loss: 0.1174 - val_accuracy: 0.9644\n",
            "Epoch 6/15\n",
            "43/43 [==============================] - 2s 44ms/step - loss: 0.0690 - accuracy: 0.9762 - val_loss: 0.1333 - val_accuracy: 0.9533\n",
            "Epoch 7/15\n",
            "43/43 [==============================] - 2s 41ms/step - loss: 0.0545 - accuracy: 0.9822 - val_loss: 0.1118 - val_accuracy: 0.9644\n",
            "Epoch 8/15\n",
            "43/43 [==============================] - 2s 42ms/step - loss: 0.0468 - accuracy: 0.9859 - val_loss: 0.5900 - val_accuracy: 0.8911\n",
            "Epoch 9/15\n",
            "43/43 [==============================] - 2s 41ms/step - loss: 0.0447 - accuracy: 0.9859 - val_loss: 0.0958 - val_accuracy: 0.9756\n",
            "Epoch 10/15\n",
            "43/43 [==============================] - 2s 41ms/step - loss: 0.0198 - accuracy: 0.9955 - val_loss: 0.0928 - val_accuracy: 0.9800\n",
            "Epoch 11/15\n",
            "43/43 [==============================] - 2s 41ms/step - loss: 0.0394 - accuracy: 0.9874 - val_loss: 0.3141 - val_accuracy: 0.9222\n",
            "Epoch 12/15\n",
            "43/43 [==============================] - 2s 42ms/step - loss: 0.0289 - accuracy: 0.9918 - val_loss: 0.0952 - val_accuracy: 0.9778\n",
            "Epoch 13/15\n",
            "43/43 [==============================] - 2s 43ms/step - loss: 0.0146 - accuracy: 0.9955 - val_loss: 0.2062 - val_accuracy: 0.9533\n",
            "Epoch 14/15\n",
            "43/43 [==============================] - 2s 41ms/step - loss: 0.0335 - accuracy: 0.9881 - val_loss: 0.1759 - val_accuracy: 0.9489\n",
            "Epoch 15/15\n",
            "43/43 [==============================] - 2s 42ms/step - loss: 0.0225 - accuracy: 0.9926 - val_loss: 0.0789 - val_accuracy: 0.9756\n",
            "Epoch 1/15\n",
            "43/43 [==============================] - 17s 396ms/step - loss: 1.6970 - accuracy: 0.6919 - val_loss: 1.2362 - val_accuracy: 0.6644\n",
            "Epoch 2/15\n",
            "43/43 [==============================] - 16s 386ms/step - loss: 0.3330 - accuracy: 0.8916 - val_loss: 0.1814 - val_accuracy: 0.9511\n",
            "Epoch 3/15\n",
            "43/43 [==============================] - 16s 375ms/step - loss: 0.2161 - accuracy: 0.9317 - val_loss: 0.1478 - val_accuracy: 0.9467\n",
            "Epoch 4/15\n",
            "43/43 [==============================] - 16s 385ms/step - loss: 0.1545 - accuracy: 0.9465 - val_loss: 0.2414 - val_accuracy: 0.9311\n",
            "Epoch 5/15\n",
            "43/43 [==============================] - 17s 388ms/step - loss: 0.1174 - accuracy: 0.9659 - val_loss: 0.2075 - val_accuracy: 0.9267\n",
            "Epoch 6/15\n",
            "43/43 [==============================] - 16s 371ms/step - loss: 0.1240 - accuracy: 0.9673 - val_loss: 0.1847 - val_accuracy: 0.9333\n",
            "Epoch 7/15\n",
            "43/43 [==============================] - 16s 371ms/step - loss: 0.0960 - accuracy: 0.9710 - val_loss: 0.1506 - val_accuracy: 0.9644\n",
            "Epoch 8/15\n",
            "43/43 [==============================] - 16s 370ms/step - loss: 0.0631 - accuracy: 0.9844 - val_loss: 0.1163 - val_accuracy: 0.9667\n",
            "Epoch 9/15\n",
            "43/43 [==============================] - 16s 371ms/step - loss: 0.0644 - accuracy: 0.9814 - val_loss: 0.1749 - val_accuracy: 0.9467\n",
            "Epoch 10/15\n",
            "43/43 [==============================] - 16s 370ms/step - loss: 0.1174 - accuracy: 0.9755 - val_loss: 0.4962 - val_accuracy: 0.9178\n",
            "Epoch 11/15\n",
            "43/43 [==============================] - 24s 559ms/step - loss: 0.0503 - accuracy: 0.9896 - val_loss: 0.1071 - val_accuracy: 0.9778\n",
            "Epoch 12/15\n",
            "43/43 [==============================] - 16s 369ms/step - loss: 0.0664 - accuracy: 0.9829 - val_loss: 0.1360 - val_accuracy: 0.9733\n",
            "Epoch 13/15\n",
            "43/43 [==============================] - 16s 372ms/step - loss: 0.0160 - accuracy: 0.9955 - val_loss: 0.9288 - val_accuracy: 0.8800\n",
            "Epoch 14/15\n",
            "43/43 [==============================] - 16s 370ms/step - loss: 0.0997 - accuracy: 0.9733 - val_loss: 0.1087 - val_accuracy: 0.9756\n",
            "Epoch 15/15\n",
            "43/43 [==============================] - 16s 372ms/step - loss: 0.0301 - accuracy: 0.9926 - val_loss: 0.5762 - val_accuracy: 0.9311\n",
            "Epoch 1/15\n",
            "43/43 [==============================] - 18s 400ms/step - loss: 1.5696 - accuracy: 0.6860 - val_loss: 0.4616 - val_accuracy: 0.8356\n",
            "Epoch 2/15\n",
            "43/43 [==============================] - 17s 398ms/step - loss: 0.2936 - accuracy: 0.9094 - val_loss: 0.2469 - val_accuracy: 0.9378\n",
            "Epoch 3/15\n",
            "43/43 [==============================] - 17s 396ms/step - loss: 0.2073 - accuracy: 0.9347 - val_loss: 0.3657 - val_accuracy: 0.8911\n",
            "Epoch 4/15\n",
            "43/43 [==============================] - 18s 412ms/step - loss: 0.1578 - accuracy: 0.9458 - val_loss: 0.1696 - val_accuracy: 0.9356\n",
            "Epoch 5/15\n",
            "43/43 [==============================] - 17s 390ms/step - loss: 0.1241 - accuracy: 0.9621 - val_loss: 0.8273 - val_accuracy: 0.8200\n",
            "Epoch 6/15\n",
            "43/43 [==============================] - 17s 388ms/step - loss: 0.1156 - accuracy: 0.9644 - val_loss: 0.3226 - val_accuracy: 0.9311\n",
            "Epoch 7/15\n",
            "43/43 [==============================] - 16s 379ms/step - loss: 0.1051 - accuracy: 0.9703 - val_loss: 0.0942 - val_accuracy: 0.9733\n",
            "Epoch 8/15\n",
            "43/43 [==============================] - 16s 381ms/step - loss: 0.0803 - accuracy: 0.9800 - val_loss: 0.2222 - val_accuracy: 0.9511\n",
            "Epoch 9/15\n",
            "43/43 [==============================] - 17s 395ms/step - loss: 0.0800 - accuracy: 0.9800 - val_loss: 0.2552 - val_accuracy: 0.9578\n",
            "Epoch 10/15\n",
            "43/43 [==============================] - 17s 391ms/step - loss: 0.0900 - accuracy: 0.9807 - val_loss: 0.1596 - val_accuracy: 0.9622\n",
            "Epoch 11/15\n",
            "43/43 [==============================] - 17s 394ms/step - loss: 0.0363 - accuracy: 0.9911 - val_loss: 0.7756 - val_accuracy: 0.8978\n",
            "Epoch 12/15\n",
            "43/43 [==============================] - 16s 376ms/step - loss: 0.0482 - accuracy: 0.9896 - val_loss: 0.2123 - val_accuracy: 0.9600\n",
            "Epoch 1/15\n",
            "43/43 [==============================] - 21s 464ms/step - loss: 1.7092 - accuracy: 0.6867 - val_loss: 0.5353 - val_accuracy: 0.8089\n",
            "Epoch 2/15\n",
            "43/43 [==============================] - 19s 434ms/step - loss: 0.3088 - accuracy: 0.8953 - val_loss: 0.1584 - val_accuracy: 0.9333\n",
            "Epoch 3/15\n",
            "43/43 [==============================] - 19s 438ms/step - loss: 0.2284 - accuracy: 0.9272 - val_loss: 0.3237 - val_accuracy: 0.9067\n",
            "Epoch 4/15\n",
            "43/43 [==============================] - 19s 434ms/step - loss: 0.1488 - accuracy: 0.9510 - val_loss: 0.4379 - val_accuracy: 0.8867\n",
            "Epoch 5/15\n",
            "43/43 [==============================] - 19s 435ms/step - loss: 0.1368 - accuracy: 0.9547 - val_loss: 0.2056 - val_accuracy: 0.9378\n",
            "Epoch 6/15\n",
            "43/43 [==============================] - 18s 422ms/step - loss: 0.1255 - accuracy: 0.9636 - val_loss: 0.1347 - val_accuracy: 0.9578\n",
            "Epoch 7/15\n",
            "43/43 [==============================] - 19s 434ms/step - loss: 0.1058 - accuracy: 0.9696 - val_loss: 0.3278 - val_accuracy: 0.9133\n",
            "Epoch 8/15\n",
            "43/43 [==============================] - 19s 439ms/step - loss: 0.0838 - accuracy: 0.9755 - val_loss: 0.2745 - val_accuracy: 0.9378\n",
            "Epoch 9/15\n",
            "43/43 [==============================] - 22s 524ms/step - loss: 0.0830 - accuracy: 0.9740 - val_loss: 0.2146 - val_accuracy: 0.9533\n",
            "Epoch 10/15\n",
            "43/43 [==============================] - 21s 488ms/step - loss: 0.0726 - accuracy: 0.9792 - val_loss: 0.2237 - val_accuracy: 0.9622\n",
            "Epoch 11/15\n",
            "43/43 [==============================] - 19s 451ms/step - loss: 0.0471 - accuracy: 0.9889 - val_loss: 0.3765 - val_accuracy: 0.9444\n",
            "Epoch 1/15\n",
            "43/43 [==============================] - 22s 506ms/step - loss: 1.9122 - accuracy: 0.6912 - val_loss: 2.3539 - val_accuracy: 0.4156\n",
            "Epoch 2/15\n",
            "43/43 [==============================] - 22s 512ms/step - loss: 0.3341 - accuracy: 0.8901 - val_loss: 0.2141 - val_accuracy: 0.9200\n",
            "Epoch 3/15\n",
            "43/43 [==============================] - 27s 640ms/step - loss: 0.2357 - accuracy: 0.9317 - val_loss: 0.2496 - val_accuracy: 0.9222\n",
            "Epoch 4/15\n",
            "43/43 [==============================] - 21s 499ms/step - loss: 0.1827 - accuracy: 0.9495 - val_loss: 0.8254 - val_accuracy: 0.8333\n",
            "Epoch 5/15\n",
            "43/43 [==============================] - 21s 492ms/step - loss: 0.1335 - accuracy: 0.9562 - val_loss: 0.2118 - val_accuracy: 0.9400\n",
            "Epoch 6/15\n",
            "43/43 [==============================] - 21s 493ms/step - loss: 0.1292 - accuracy: 0.9666 - val_loss: 0.1780 - val_accuracy: 0.9489\n",
            "Epoch 7/15\n",
            "43/43 [==============================] - 21s 494ms/step - loss: 0.0759 - accuracy: 0.9755 - val_loss: 0.1861 - val_accuracy: 0.9467\n",
            "Epoch 8/15\n",
            "43/43 [==============================] - 22s 504ms/step - loss: 0.0717 - accuracy: 0.9785 - val_loss: 0.2020 - val_accuracy: 0.9511\n",
            "Epoch 9/15\n",
            "43/43 [==============================] - 21s 492ms/step - loss: 0.0792 - accuracy: 0.9710 - val_loss: 0.3790 - val_accuracy: 0.9244\n",
            "Epoch 10/15\n",
            "43/43 [==============================] - 21s 492ms/step - loss: 0.0637 - accuracy: 0.9844 - val_loss: 0.1890 - val_accuracy: 0.9600\n",
            "Epoch 11/15\n",
            "43/43 [==============================] - 21s 481ms/step - loss: 0.0666 - accuracy: 0.9866 - val_loss: 0.3713 - val_accuracy: 0.9356\n",
            "population 0\n",
            "[[0, 1, 1, 0, 1, 1, 1, 1, 0, 0, 1, 1, 0, 1, 0, 0, 0, 0, 1, 0], [1, 1, 0, 1, 0, 1, 0, 0, 0, 1, 1, 1, 0, 0, 0, 0, 1, 1, 1, 0], [0, 1, 1, 1, 1, 0, 0, 0, 0, 0, 0, 1, 0, 0, 1, 0, 0, 1, 1, 0], [1, 0, 1, 1, 1, 1, 1, 0, 0, 1, 1, 0, 0, 1, 0, 0, 0, 1, 1, 1], [0, 1, 1, 1, 1, 1, 1, 0, 0, 1, 1, 1, 1, 1, 1, 0, 0, 0, 0, 0], [1, 1, 1, 0, 0, 0, 0, 0, 1, 1, 1, 0, 0, 1, 0, 0, 0, 1, 1, 1], [1, 1, 1, 1, 1, 1, 0, 1, 1, 0, 0, 1, 0, 0, 1, 1, 1, 0, 1, 0], [1, 1, 0, 0, 1, 1, 1, 1, 1, 0, 0, 1, 0, 1, 1, 0, 0, 1, 0, 0], [1, 0, 0, 1, 1, 0, 1, 1, 0, 1, 0, 0, 1, 1, 1, 0, 1, 0, 1, 0], [1, 1, 1, 1, 1, 1, 0, 1, 1, 0, 0, 1, 0, 0, 1, 1, 1, 1, 0, 1]]\n",
            "population scores 0\n",
            "[0.9666419307390849, 0.9504311589094309, 0.9405516569431012, 0.9247710969712999, 0.9430383985692804, 0.965058155854543, 0.9494184613227844, 0.941165546576182, 0.9332523400133307, 0.9346696409312162]\n",
            "\n"
          ]
        },
        {
          "data": {
            "image/png": "[encoded data removed]",
            "text/plain": [
              "<Figure size 576x360 with 1 Axes>"
            ]
          },
          "metadata": {},
          "output_type": "display_data"
        }
      ],
      "source": [
        "models_population, chromosomes_population, score = gen.genetic_algorithm(20, 10, 10, 10, X_train,y_train,val_stop,tb,X_test,y_test)"
      ]
    },
    {
      "cell_type": "code",
      "execution_count": null,
      "metadata": {
        "colab": {
          "background_save": true
        },
        "id": "34ZhGA-OGqG5"
      },
      "outputs": [],
      "source": [
        "best_model = models_population[np.array(score).argmax(axis=0)] "
      ]
    },
    {
      "cell_type": "code",
      "execution_count": null,
      "metadata": {
        "colab": {
          "background_save": true
        },
        "id": "2qvxTgn5HXJo",
        "outputId": "d184955b-536d-4d7a-b24a-66bffaf032fc"
      },
      "outputs": [
        {
          "name": "stdout",
          "output_type": "stream",
          "text": [
            "Epoch 1/15\n",
            "43/43 [==============================] - 1s 31ms/step - loss: 0.0206 - accuracy: 0.9955 - val_loss: 0.0849 - val_accuracy: 0.9733\n",
            "Epoch 2/15\n",
            "43/43 [==============================] - 1s 32ms/step - loss: 0.0215 - accuracy: 0.9941 - val_loss: 0.0743 - val_accuracy: 0.9778\n",
            "Epoch 3/15\n",
            "43/43 [==============================] - 1s 32ms/step - loss: 0.0088 - accuracy: 0.9978 - val_loss: 0.2673 - val_accuracy: 0.9356\n",
            "Epoch 4/15\n",
            "43/43 [==============================] - 1s 30ms/step - loss: 0.0095 - accuracy: 0.9985 - val_loss: 0.1008 - val_accuracy: 0.9800\n",
            "Epoch 5/15\n",
            "43/43 [==============================] - 1s 32ms/step - loss: 0.0191 - accuracy: 0.9941 - val_loss: 0.1152 - val_accuracy: 0.9667\n",
            "Epoch 6/15\n",
            "43/43 [==============================] - 1s 33ms/step - loss: 0.0151 - accuracy: 0.9970 - val_loss: 0.0777 - val_accuracy: 0.9844\n",
            "Epoch 7/15\n",
            "43/43 [==============================] - 1s 31ms/step - loss: 8.0986e-04 - accuracy: 1.0000 - val_loss: 0.0868 - val_accuracy: 0.9844\n"
          ]
        }
      ],
      "source": [
        "fit_1 = best_model.fit(X_train, y_train, \n",
        "                    epochs=15, \n",
        "                    # batch_size=32,\n",
        "                    callbacks=[val_stop, tb],\n",
        "                    validation_data=(X_test, y_test))"
      ]
    },
    {
      "cell_type": "code",
      "execution_count": null,
      "metadata": {
        "colab": {
          "background_save": true
        },
        "id": "2e25I99jizFd"
      },
      "outputs": [],
      "source": [
        "y_pred_1 = fit_1.model.predict(X_test)"
      ]
    },
    {
      "cell_type": "code",
      "execution_count": null,
      "metadata": {
        "colab": {
          "background_save": true
        },
        "id": "l3Fa8RzyizDK",
        "outputId": "4128449d-1ea5-41fe-ff1b-990846246f9f"
      },
      "outputs": [
        {
          "data": {
            "image/png": "[encoded data removed]",
            "text/plain": [
              "<Figure size 576x360 with 1 Axes>"
            ]
          },
          "metadata": {},
          "output_type": "display_data"
        },
        {
          "data": {
            "image/png": "[encoded data removed]",
            "text/plain": [
              "<Figure size 576x360 with 1 Axes>"
            ]
          },
          "metadata": {},
          "output_type": "display_data"
        }
      ],
      "source": [
        "plt.figure(figsize=(8, 5))\n",
        "plt.plot(fit_1.history['loss'], '-', label='loss')\n",
        "plt.plot(fit_1.history['val_loss'], '-', label='val_loss')\n",
        "plt.xlabel(\"Epoch\")\n",
        "plt.legend()\n",
        "plt.show()\n",
        "\n",
        "plt.figure(figsize=(8, 5))\n",
        "plt.plot(fit_1.history['accuracy'], '-', label='accuracy')\n",
        "plt.plot(fit_1.history['val_accuracy'], '-', label='val_accuracy')\n",
        "plt.xlabel(\"Epoch\")\n",
        "plt.legend()\n",
        "plt.show()"
      ]
    },
    {
      "cell_type": "code",
      "execution_count": null,
      "metadata": {
        "colab": {
          "background_save": true
        },
        "id": "buQSEKTqizAe"
      },
      "outputs": [],
      "source": [
        "from sklearn.metrics import confusion_matrix, ConfusionMatrixDisplay"
      ]
    },
    {
      "cell_type": "code",
      "execution_count": null,
      "metadata": {
        "colab": {
          "background_save": true
        },
        "id": "Q1MuFaCTiy7v",
        "outputId": "bfb27b27-b62e-4f62-f2ae-34bb8ac378b4"
      },
      "outputs": [
        {
          "data": {
            "text/plain": [
              "array([[45,  0,  0,  0,  0,  0,  0,  0,  0,  0],\n",
              "       [ 0, 46,  0,  0,  0,  0,  0,  0,  0,  0],\n",
              "       [ 0,  0, 44,  0,  0,  0,  0,  0,  0,  0],\n",
              "       [ 0,  0,  2, 44,  0,  0,  0,  0,  0,  0],\n",
              "       [ 0,  0,  0,  0, 45,  0,  0,  0,  0,  0],\n",
              "       [ 0,  0,  0,  0,  0, 44,  0,  0,  0,  2],\n",
              "       [ 0,  0,  0,  0,  0,  0, 45,  0,  0,  0],\n",
              "       [ 0,  0,  0,  0,  0,  0,  0, 45,  0,  0],\n",
              "       [ 0,  1,  0,  0,  1,  0,  0,  1, 40,  0],\n",
              "       [ 0,  0,  0,  0,  0,  0,  0,  0,  0, 45]])"
            ]
          },
          "execution_count": null,
          "metadata": {},
          "output_type": "execute_result"
        },
        {
          "data": {
            "image/png": "[encoded data removed]",
            "text/plain": [
              "<Figure size 864x720 with 2 Axes>"
            ]
          },
          "metadata": {},
          "output_type": "display_data"
        }
      ],
      "source": [
        "cm = confusion_matrix(np.argmax(y_test, axis=1), np.argmax(y_pred_1, axis=1))\n",
        "cmp = ConfusionMatrixDisplay(cm)\n",
        "fig, ax = plt.subplots(figsize=(12, 10))\n",
        "cmp.plot(ax=ax)\n",
        "cm"
      ]
    },
    {
      "cell_type": "code",
      "execution_count": null,
      "metadata": {
        "colab": {
          "background_save": true
        },
        "id": "abyJi_KZiy0S",
        "outputId": "004bed6c-0d8d-4848-f89c-73804995e2a9"
      },
      "outputs": [
        {
          "data": {
            "text/plain": [
              "450"
            ]
          },
          "execution_count": null,
          "metadata": {},
          "output_type": "execute_result"
        }
      ],
      "source": [
        "len(y_test)"
      ]
    },
    {
      "cell_type": "code",
      "execution_count": null,
      "metadata": {
        "colab": {
          "background_save": true
        },
        "id": "YVWgrSORHiuc",
        "outputId": "d047a1e0-808a-42fb-b73f-00c6aedf308b"
      },
      "outputs": [
        {
          "data": {
            "text/plain": [
              "450"
            ]
          },
          "execution_count": null,
          "metadata": {},
          "output_type": "execute_result"
        }
      ],
      "source": [
        "cm.sum()"
      ]
    },
    {
      "cell_type": "code",
      "execution_count": null,
      "metadata": {
        "colab": {
          "background_save": true
        },
        "id": "bMFfCJToKN9L"
      },
      "outputs": [],
      "source": []
    },
    {
      "cell_type": "code",
      "execution_count": null,
      "metadata": {
        "colab": {
          "background_save": true
        },
        "id": "tKen7dBeKOax"
      },
      "outputs": [],
      "source": []
    },
    {
      "cell_type": "code",
      "execution_count": null,
      "metadata": {
        "colab": {
          "background_save": true
        },
        "id": "TRh0EIofb3XQ"
      },
      "outputs": [],
      "source": []
    },
    {
      "cell_type": "code",
      "execution_count": null,
      "metadata": {
        "colab": {
          "background_save": true
        },
        "id": "dt11SXrGRllx"
      },
      "outputs": [],
      "source": []
    }
  ],
  "metadata": {
    "colab": {
      "provenance": []
    },
    "kernelspec": {
      "display_name": "Python 3",
      "name": "python3"
    },
    "language_info": {
      "name": "python"
    }
  },
  "nbformat": 4,
  "nbformat_minor": 0
}