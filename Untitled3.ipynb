{
  "nbformat": 4,
  "nbformat_minor": 0,
  "metadata": {
    "colab": {
      "provenance": []
    },
    "kernelspec": {
      "name": "python3",
      "display_name": "Python 3"
    },
    "language_info": {
      "name": "python"
    }
  },
  "cells": [
    {
      "cell_type": "code",
      "execution_count": null,
      "metadata": {
        "id": "Uhgxzwia-4lc"
      },
      "outputs": [],
      "source": [
        "    # def fitness_function(self, chromosome_from_population):\n",
        "    #     count = 0\n",
        "        \n",
        "    #     for i in range(0,len(chromosome_from_population)):\n",
        "    #         count += (2**i) * chromosome_from_population[i]\n",
        "        \n",
        "    #     max_value = 0\n",
        "    #     for i in range(0,len(chromosome_from_population)):\n",
        "    #         max_value += 2**i\n",
        "\n",
        "    #     return count / len(chromosome_my)\n",
        "\n"
      ]
    },
    {
      "cell_type": "code",
      "source": [
        "import numpy as np\n",
        "import random\n",
        "np.random.seed(1)\n",
        "from tensorflow.keras.callbacks import EarlyStopping\n",
        "from tensorflow.keras.callbacks import TensorBoard\n",
        "import os\n",
        "import datetime\n",
        "import tensorflow as tf\n",
        "from tensorflow.keras import layers\n",
        "from tensorflow.keras.utils import to_categorical\n",
        "import matplotlib.pyplot as plt\n",
        "from sklearn.datasets import load_digits\n",
        "from sklearn.preprocessing import MinMaxScaler\n",
        "from tensorflow.keras import models\n",
        "from sklearn.model_selection import train_test_split\n",
        "\n",
        "\n",
        "\n"
      ],
      "metadata": {
        "id": "d4wLNacAbB2a"
      },
      "execution_count": null,
      "outputs": []
    },
    {
      "cell_type": "code",
      "source": [
        "class GeneticAlgorithm:\n",
        "    def mutation(self,chromosome,chance):\n",
        "        index_of_mutated = random.randint(0, len(chromosome) - 1)\n",
        "        try_to_mutate = random.randint(0, 100)\n",
        "        if try_to_mutate <= chance:\n",
        "            if chromosome[index_of_mutated] == 0:\n",
        "                chromosome[index_of_mutated] = 1\n",
        "            else:\n",
        "                chromosome[index_of_mutated] = 0\n",
        "        return chromosome\n",
        "    \n",
        "    def random_chromosome(self,length):\n",
        "        return np.random.randint(0, 2, length).tolist()\n",
        "\n",
        "    def get_num_of_perc(self,chromosome):\n",
        "        count = 0\n",
        "        for i in range(0,len(chromosome)):\n",
        "            count += (2**i) * chromosome[i]\n",
        "        return count\n",
        "    \n",
        "    def make_new_chromosomes(self,chr1,chr2):\n",
        "        border = random.randint(1, len(chr2) - 1)\n",
        "        child1 = []\n",
        "        child2 = []\n",
        "        for i in range(0,len(chr2)):\n",
        "            if i < border:\n",
        "                child1.append(chr1[i])\n",
        "                child2.append(chr2[i])\n",
        "            else:\n",
        "                child1.append(chr2[i])\n",
        "                child2.append(chr1[i])\n",
        "        return child1,child2\n",
        "    \n",
        "    \n",
        "    def fitness_function(self, fit_1):\n",
        "        sum_of_errors = np.sum(fit_1.history['loss'])\n",
        "        return sum_of_errors / len(fit_1.history['loss'])\n",
        "\n",
        "\n",
        "\n",
        "    def roulette_wheel_selection(self,scores):\n",
        "        suma = np.sum(scores)\n",
        "        procents = [] \n",
        "        for i in range(0,len(scores)):\n",
        "            procents.append(scores[i]/suma)\n",
        "        arr_of_chance = []\n",
        "        \n",
        "        for i in range(0,len(scores)):\n",
        "            for j in range(0,int(scores[i] * 100)):\n",
        "                arr_of_chance.append(i)\n",
        "        \n",
        "        return random.choice(arr_of_chance)\n",
        "    \n",
        "    \n",
        "    def make_new_popul(self,chromosomes_population,model,score,chance_mut, X_train,y_train,val_stop,tb,X_test,y_test):\n",
        "        \n",
        "        new_models_population = []\n",
        "        new_score = []\n",
        "        new_chromosomes_population = [] \n",
        "    \n",
        "        for i in range(len(score)):\n",
        "            new_models_population.append(model)\n",
        "\n",
        "        for i in range(0,int(len(score)/2)):\n",
        "            first_index = self.roulette_wheel_selection(score)\n",
        "            second_index = first_index\n",
        "            while first_index  == second_index:\n",
        "                second_index = self.roulette_wheel_selection(score)\n",
        "                \n",
        "            child1, child2 = self.make_new_chromosomes(chromosomes_population[first_index],chromosomes_population[second_index])\n",
        "            \n",
        "            child1 = self.mutation(child1,chance_mut)\n",
        "            child2 = self.mutation(child2,chance_mut)\n",
        "\n",
        "            new_chromosomes_population.append(child1)\n",
        "            new_chromosomes_population.append(child2)\n",
        "\n",
        "\n",
        "        for i in range(0,len(score)):\n",
        "            new_models_population[i].add(layers.Dense(self.get_num_of_perc(new_chromosomes_population[i]), activation='relu', name='hidden'))\n",
        "            new_models_population[i].add(layers.Dense(10, activation='softmax', name='output'))\n",
        "            new_models_population[i].compile(optimizer='rmsprop',loss='categorical_crossentropy',metrics=['accuracy'])\n",
        "            fit_1 = new_models_population[i].fit(X_train, y_train, \n",
        "                    epochs=10, \n",
        "                    callbacks=[val_stop, tb],\n",
        "                    validation_data=(X_test, y_test))\n",
        "            new_score.append(self.fitness_function(fit_1))\n",
        "\n",
        "\n",
        "    \n",
        "        return new_chromosomes_population,new_score,new_models_population\n",
        "    \n",
        "\n",
        "    \n",
        "    \n",
        "    \n",
        "    def genetic_algorithm(self,n_gens, n_iter, n_pop, chance_mut, model,  X_train,y_train,val_stop,tb,X_test,y_test):\n",
        "        \n",
        "        models_population = []\n",
        "        chromosomes_population = []\n",
        "        score = []\n",
        "        new_models_population = []\n",
        "        new_score = []\n",
        "        new_chromosomes_population = []    \n",
        "\n",
        "        for i in range(n_pop):\n",
        "            models_population.append(model)\n",
        "\n",
        "        print(models_population)\n",
        "\n",
        "        for i in range(0,n_pop):\n",
        "            q = self.random_chromosome(n_gens)\n",
        "            chromosomes_population.append(q)\n",
        "            models_population[i].add(layers.Dense(self.get_num_of_perc(q), activation='relu', name='hidden'))\n",
        "            models_population[i].add(layers.Dense(10, activation='softmax', name='output'))\n",
        "            models_population[i].compile(optimizer='rmsprop',loss='categorical_crossentropy',metrics=['accuracy'])\n",
        "            fit_1 = models_population[i].fit(X_train, y_train, \n",
        "                    epochs=10, \n",
        "                    callbacks=[val_stop, tb],\n",
        "                    validation_data=(X_test, y_test))\n",
        "            score.append(self.fitness_function(fit_1))\n",
        "        \n",
        "        print(\"start population\")\n",
        "        print(chromosomes_population)\n",
        "            \n",
        "        print(\"start population scores\")\n",
        "        print(score)\n",
        "        \n",
        "\n",
        "        for i in range(0,n_iter):\n",
        "            new_chromosomes_population,new_score,new_models_population = self.make_new_popul(chromosomes_population,model,score,chance_mut, X_train,y_train,val_stop,tb,X_test,y_test)\n",
        "                      \n",
        "            print(\"population \" + str(i))\n",
        "            print(new_chromosomes_population)\n",
        "            print(\"population scores \" + str(i))\n",
        "            print(new_score)\n",
        "            \n",
        "            \n",
        "            models_population = new_models_population\n",
        "            chromosomes_population = new_chromosomes_population\n",
        "            score = new_score\n",
        "\n",
        "        return models_population, chromosomes_population, score    "
      ],
      "metadata": {
        "id": "rHdIemuA-8uB"
      },
      "execution_count": null,
      "outputs": []
    },
    {
      "cell_type": "code",
      "source": [
        "X, y = load_digits(return_X_y=True)"
      ],
      "metadata": {
        "id": "FBQRxqa_-9iK"
      },
      "execution_count": null,
      "outputs": []
    },
    {
      "cell_type": "code",
      "source": [],
      "metadata": {
        "id": "eege2CRX-_K0"
      },
      "execution_count": null,
      "outputs": []
    },
    {
      "cell_type": "code",
      "source": [
        "MinMaxScaler(copy=False).fit_transform(X)"
      ],
      "metadata": {
        "colab": {
          "base_uri": "https://localhost:8080/"
        },
        "id": "kVXcCMl3_AUw",
        "outputId": "7668ef92-8fcc-4b51-b5fd-2320893e57f8"
      },
      "execution_count": null,
      "outputs": [
        {
          "output_type": "execute_result",
          "data": {
            "text/plain": [
              "array([[0.    , 0.    , 0.3125, ..., 0.    , 0.    , 0.    ],\n",
              "       [0.    , 0.    , 0.    , ..., 0.625 , 0.    , 0.    ],\n",
              "       [0.    , 0.    , 0.    , ..., 1.    , 0.5625, 0.    ],\n",
              "       ...,\n",
              "       [0.    , 0.    , 0.0625, ..., 0.375 , 0.    , 0.    ],\n",
              "       [0.    , 0.    , 0.125 , ..., 0.75  , 0.    , 0.    ],\n",
              "       [0.    , 0.    , 0.625 , ..., 0.75  , 0.0625, 0.    ]])"
            ]
          },
          "metadata": {},
          "execution_count": 5
        }
      ]
    },
    {
      "cell_type": "code",
      "source": [
        "X = X.reshape(X.shape[0], 8, 8, 1).astype('float32')"
      ],
      "metadata": {
        "id": "3z3xX8bm_BcN"
      },
      "execution_count": null,
      "outputs": []
    },
    {
      "cell_type": "code",
      "source": [
        "\n",
        "y = to_categorical(y)\n",
        "y.shape[0], y.shape[1], y"
      ],
      "metadata": {
        "colab": {
          "base_uri": "https://localhost:8080/"
        },
        "id": "kV7Yp2Ir_Dr8",
        "outputId": "96e2f0e9-2afa-441d-be57-411c8317f473"
      },
      "execution_count": null,
      "outputs": [
        {
          "output_type": "execute_result",
          "data": {
            "text/plain": [
              "(1797, 10, array([[1., 0., 0., ..., 0., 0., 0.],\n",
              "        [0., 1., 0., ..., 0., 0., 0.],\n",
              "        [0., 0., 1., ..., 0., 0., 0.],\n",
              "        ...,\n",
              "        [0., 0., 0., ..., 0., 1., 0.],\n",
              "        [0., 0., 0., ..., 0., 0., 1.],\n",
              "        [0., 0., 0., ..., 0., 1., 0.]], dtype=float32))"
            ]
          },
          "metadata": {},
          "execution_count": 7
        }
      ]
    },
    {
      "cell_type": "code",
      "source": [
        "X.dtype, X.shape, X.max(), y.shape"
      ],
      "metadata": {
        "colab": {
          "base_uri": "https://localhost:8080/"
        },
        "id": "iBbHSjU1_E9U",
        "outputId": "683374eb-b9c5-4e5c-f655-a392bb39eb38"
      },
      "execution_count": null,
      "outputs": [
        {
          "output_type": "execute_result",
          "data": {
            "text/plain": [
              "(dtype('float32'), (1797, 8, 8, 1), 1.0, (1797, 10))"
            ]
          },
          "metadata": {},
          "execution_count": 8
        }
      ]
    },
    {
      "cell_type": "code",
      "source": [
        "model_1 = models.Sequential()\n",
        "model_1.add(layers.InputLayer(input_shape=(8, 8, 1), name='input'))\n",
        "model_1.add(layers.Conv2D(32, (3, 3), activation='relu', name='convolutional'))\n",
        "model_1.add(layers.MaxPooling2D((2, 2), name='max_pooling'))\n",
        "model_1.add(layers.Flatten(name='flatten'))\n",
        "model_1.add(layers.Dense(10, activation='softmax', name='output'))"
      ],
      "metadata": {
        "id": "bsQmxwgp_HEc"
      },
      "execution_count": null,
      "outputs": []
    },
    {
      "cell_type": "code",
      "source": [
        "\n",
        "X_train, X_test, y_train, y_test = train_test_split(X, y, \n",
        "                                                    test_size=0.25, \n",
        "                                                    stratify=y, \n",
        "                                                    random_state=42)\n",
        "\n",
        "%load_ext tensorboard\n",
        "\n",
        "val_stop = EarlyStopping(monitor='val_loss', patience=5)\n",
        "logdir = os.path.join(\"logs\", datetime.datetime.now().strftime(\"%Y%m%d-%H%M%S\"))\n",
        "tb = TensorBoard(logdir, histogram_freq=1)\n"
      ],
      "metadata": {
        "id": "s_Ar-HUpkdYk"
      },
      "execution_count": null,
      "outputs": []
    },
    {
      "cell_type": "code",
      "source": [
        "gen = GeneticAlgorithm()"
      ],
      "metadata": {
        "id": "ilaYhra-j_vG"
      },
      "execution_count": null,
      "outputs": []
    },
    {
      "cell_type": "code",
      "source": [
        "model_4 = models.Sequential()\n",
        "model_4.add(layers.InputLayer(input_shape=(8, 8, 1), name='input'))    \n",
        "gen.genetic_algorithm(6, 10, 6, 10, model_4,  X_train,y_train,val_stop,tb,X_test,y_test)"
      ],
      "metadata": {
        "colab": {
          "base_uri": "https://localhost:8080/",
          "height": 1000
        },
        "id": "xB3a3Q5YTZDH",
        "outputId": "ce2ee7a2-44d8-4fbe-8cc8-8686046fa65b"
      },
      "execution_count": null,
      "outputs": [
        {
          "output_type": "stream",
          "name": "stdout",
          "text": [
            "[<keras.engine.sequential.Sequential object at 0x7f971fd6a790>, <keras.engine.sequential.Sequential object at 0x7f971fd6a790>, <keras.engine.sequential.Sequential object at 0x7f971fd6a790>, <keras.engine.sequential.Sequential object at 0x7f971fd6a790>, <keras.engine.sequential.Sequential object at 0x7f971fd6a790>, <keras.engine.sequential.Sequential object at 0x7f971fd6a790>]\n",
            "Epoch 1/10\n"
          ]
        },
        {
          "output_type": "error",
          "ename": "ValueError",
          "evalue": "ignored",
          "traceback": [
            "\u001b[0;31m---------------------------------------------------------------------------\u001b[0m",
            "\u001b[0;31mValueError\u001b[0m                                Traceback (most recent call last)",
            "\u001b[0;32m<ipython-input-12-782766a18762>\u001b[0m in \u001b[0;36m<module>\u001b[0;34m()\u001b[0m\n\u001b[1;32m      1\u001b[0m \u001b[0mmodel_4\u001b[0m \u001b[0;34m=\u001b[0m \u001b[0mmodels\u001b[0m\u001b[0;34m.\u001b[0m\u001b[0mSequential\u001b[0m\u001b[0;34m(\u001b[0m\u001b[0;34m)\u001b[0m\u001b[0;34m\u001b[0m\u001b[0;34m\u001b[0m\u001b[0m\n\u001b[1;32m      2\u001b[0m \u001b[0mmodel_4\u001b[0m\u001b[0;34m.\u001b[0m\u001b[0madd\u001b[0m\u001b[0;34m(\u001b[0m\u001b[0mlayers\u001b[0m\u001b[0;34m.\u001b[0m\u001b[0mInputLayer\u001b[0m\u001b[0;34m(\u001b[0m\u001b[0minput_shape\u001b[0m\u001b[0;34m=\u001b[0m\u001b[0;34m(\u001b[0m\u001b[0;36m8\u001b[0m\u001b[0;34m,\u001b[0m \u001b[0;36m8\u001b[0m\u001b[0;34m,\u001b[0m \u001b[0;36m1\u001b[0m\u001b[0;34m)\u001b[0m\u001b[0;34m,\u001b[0m \u001b[0mname\u001b[0m\u001b[0;34m=\u001b[0m\u001b[0;34m'input'\u001b[0m\u001b[0;34m)\u001b[0m\u001b[0;34m)\u001b[0m\u001b[0;34m\u001b[0m\u001b[0;34m\u001b[0m\u001b[0m\n\u001b[0;32m----> 3\u001b[0;31m \u001b[0mgen\u001b[0m\u001b[0;34m.\u001b[0m\u001b[0mgenetic_algorithm\u001b[0m\u001b[0;34m(\u001b[0m\u001b[0;36m6\u001b[0m\u001b[0;34m,\u001b[0m \u001b[0;36m10\u001b[0m\u001b[0;34m,\u001b[0m \u001b[0;36m6\u001b[0m\u001b[0;34m,\u001b[0m \u001b[0;36m10\u001b[0m\u001b[0;34m,\u001b[0m \u001b[0mmodel_4\u001b[0m\u001b[0;34m,\u001b[0m  \u001b[0mX_train\u001b[0m\u001b[0;34m,\u001b[0m\u001b[0my_train\u001b[0m\u001b[0;34m,\u001b[0m\u001b[0mval_stop\u001b[0m\u001b[0;34m,\u001b[0m\u001b[0mtb\u001b[0m\u001b[0;34m,\u001b[0m\u001b[0mX_test\u001b[0m\u001b[0;34m,\u001b[0m\u001b[0my_test\u001b[0m\u001b[0;34m)\u001b[0m\u001b[0;34m\u001b[0m\u001b[0;34m\u001b[0m\u001b[0m\n\u001b[0m",
            "\u001b[0;32m<ipython-input-3-fe00f1d82f78>\u001b[0m in \u001b[0;36mgenetic_algorithm\u001b[0;34m(self, n_gens, n_iter, n_pop, chance_mut, model, X_train, y_train, val_stop, tb, X_test, y_test)\u001b[0m\n\u001b[1;32m    118\u001b[0m                     \u001b[0mepochs\u001b[0m\u001b[0;34m=\u001b[0m\u001b[0;36m10\u001b[0m\u001b[0;34m,\u001b[0m\u001b[0;34m\u001b[0m\u001b[0;34m\u001b[0m\u001b[0m\n\u001b[1;32m    119\u001b[0m                     \u001b[0mcallbacks\u001b[0m\u001b[0;34m=\u001b[0m\u001b[0;34m[\u001b[0m\u001b[0mval_stop\u001b[0m\u001b[0;34m,\u001b[0m \u001b[0mtb\u001b[0m\u001b[0;34m]\u001b[0m\u001b[0;34m,\u001b[0m\u001b[0;34m\u001b[0m\u001b[0;34m\u001b[0m\u001b[0m\n\u001b[0;32m--> 120\u001b[0;31m                     validation_data=(X_test, y_test))\n\u001b[0m\u001b[1;32m    121\u001b[0m             \u001b[0mscore\u001b[0m\u001b[0;34m.\u001b[0m\u001b[0mappend\u001b[0m\u001b[0;34m(\u001b[0m\u001b[0mself\u001b[0m\u001b[0;34m.\u001b[0m\u001b[0mfitness_function\u001b[0m\u001b[0;34m(\u001b[0m\u001b[0mfit_1\u001b[0m\u001b[0;34m)\u001b[0m\u001b[0;34m)\u001b[0m\u001b[0;34m\u001b[0m\u001b[0;34m\u001b[0m\u001b[0m\n\u001b[1;32m    122\u001b[0m \u001b[0;34m\u001b[0m\u001b[0m\n",
            "\u001b[0;32m/usr/local/lib/python3.7/dist-packages/keras/utils/traceback_utils.py\u001b[0m in \u001b[0;36merror_handler\u001b[0;34m(*args, **kwargs)\u001b[0m\n\u001b[1;32m     65\u001b[0m     \u001b[0;32mexcept\u001b[0m \u001b[0mException\u001b[0m \u001b[0;32mas\u001b[0m \u001b[0me\u001b[0m\u001b[0;34m:\u001b[0m  \u001b[0;31m# pylint: disable=broad-except\u001b[0m\u001b[0;34m\u001b[0m\u001b[0;34m\u001b[0m\u001b[0m\n\u001b[1;32m     66\u001b[0m       \u001b[0mfiltered_tb\u001b[0m \u001b[0;34m=\u001b[0m \u001b[0m_process_traceback_frames\u001b[0m\u001b[0;34m(\u001b[0m\u001b[0me\u001b[0m\u001b[0;34m.\u001b[0m\u001b[0m__traceback__\u001b[0m\u001b[0;34m)\u001b[0m\u001b[0;34m\u001b[0m\u001b[0;34m\u001b[0m\u001b[0m\n\u001b[0;32m---> 67\u001b[0;31m       \u001b[0;32mraise\u001b[0m \u001b[0me\u001b[0m\u001b[0;34m.\u001b[0m\u001b[0mwith_traceback\u001b[0m\u001b[0;34m(\u001b[0m\u001b[0mfiltered_tb\u001b[0m\u001b[0;34m)\u001b[0m \u001b[0;32mfrom\u001b[0m \u001b[0;32mNone\u001b[0m\u001b[0;34m\u001b[0m\u001b[0;34m\u001b[0m\u001b[0m\n\u001b[0m\u001b[1;32m     68\u001b[0m     \u001b[0;32mfinally\u001b[0m\u001b[0;34m:\u001b[0m\u001b[0;34m\u001b[0m\u001b[0;34m\u001b[0m\u001b[0m\n\u001b[1;32m     69\u001b[0m       \u001b[0;32mdel\u001b[0m \u001b[0mfiltered_tb\u001b[0m\u001b[0;34m\u001b[0m\u001b[0;34m\u001b[0m\u001b[0m\n",
            "\u001b[0;32m/usr/local/lib/python3.7/dist-packages/tensorflow/python/framework/func_graph.py\u001b[0m in \u001b[0;36mautograph_handler\u001b[0;34m(*args, **kwargs)\u001b[0m\n\u001b[1;32m   1145\u001b[0m           \u001b[0;32mexcept\u001b[0m \u001b[0mException\u001b[0m \u001b[0;32mas\u001b[0m \u001b[0me\u001b[0m\u001b[0;34m:\u001b[0m  \u001b[0;31m# pylint:disable=broad-except\u001b[0m\u001b[0;34m\u001b[0m\u001b[0;34m\u001b[0m\u001b[0m\n\u001b[1;32m   1146\u001b[0m             \u001b[0;32mif\u001b[0m \u001b[0mhasattr\u001b[0m\u001b[0;34m(\u001b[0m\u001b[0me\u001b[0m\u001b[0;34m,\u001b[0m \u001b[0;34m\"ag_error_metadata\"\u001b[0m\u001b[0;34m)\u001b[0m\u001b[0;34m:\u001b[0m\u001b[0;34m\u001b[0m\u001b[0;34m\u001b[0m\u001b[0m\n\u001b[0;32m-> 1147\u001b[0;31m               \u001b[0;32mraise\u001b[0m \u001b[0me\u001b[0m\u001b[0;34m.\u001b[0m\u001b[0mag_error_metadata\u001b[0m\u001b[0;34m.\u001b[0m\u001b[0mto_exception\u001b[0m\u001b[0;34m(\u001b[0m\u001b[0me\u001b[0m\u001b[0;34m)\u001b[0m\u001b[0;34m\u001b[0m\u001b[0;34m\u001b[0m\u001b[0m\n\u001b[0m\u001b[1;32m   1148\u001b[0m             \u001b[0;32melse\u001b[0m\u001b[0;34m:\u001b[0m\u001b[0;34m\u001b[0m\u001b[0;34m\u001b[0m\u001b[0m\n\u001b[1;32m   1149\u001b[0m               \u001b[0;32mraise\u001b[0m\u001b[0;34m\u001b[0m\u001b[0;34m\u001b[0m\u001b[0m\n",
            "\u001b[0;31mValueError\u001b[0m: in user code:\n\n    File \"/usr/local/lib/python3.7/dist-packages/keras/engine/training.py\", line 1021, in train_function  *\n        return step_function(self, iterator)\n    File \"/usr/local/lib/python3.7/dist-packages/keras/engine/training.py\", line 1010, in step_function  **\n        outputs = model.distribute_strategy.run(run_step, args=(data,))\n    File \"/usr/local/lib/python3.7/dist-packages/keras/engine/training.py\", line 1000, in run_step  **\n        outputs = model.train_step(data)\n    File \"/usr/local/lib/python3.7/dist-packages/keras/engine/training.py\", line 860, in train_step\n        loss = self.compute_loss(x, y, y_pred, sample_weight)\n    File \"/usr/local/lib/python3.7/dist-packages/keras/engine/training.py\", line 919, in compute_loss\n        y, y_pred, sample_weight, regularization_losses=self.losses)\n    File \"/usr/local/lib/python3.7/dist-packages/keras/engine/compile_utils.py\", line 201, in __call__\n        loss_value = loss_obj(y_t, y_p, sample_weight=sw)\n    File \"/usr/local/lib/python3.7/dist-packages/keras/losses.py\", line 141, in __call__\n        losses = call_fn(y_true, y_pred)\n    File \"/usr/local/lib/python3.7/dist-packages/keras/losses.py\", line 245, in call  **\n        return ag_fn(y_true, y_pred, **self._fn_kwargs)\n    File \"/usr/local/lib/python3.7/dist-packages/keras/losses.py\", line 1790, in categorical_crossentropy\n        y_true, y_pred, from_logits=from_logits, axis=axis)\n    File \"/usr/local/lib/python3.7/dist-packages/keras/backend.py\", line 5083, in categorical_crossentropy\n        target.shape.assert_is_compatible_with(output.shape)\n\n    ValueError: Shapes (None, 10) and (None, 8, 8, 10) are incompatible\n"
          ]
        }
      ]
    },
    {
      "cell_type": "code",
      "source": [],
      "metadata": {
        "id": "Wl5oIx-nOiUn"
      },
      "execution_count": null,
      "outputs": []
    },
    {
      "cell_type": "code",
      "source": [],
      "metadata": {
        "id": "Epfb_09_PDsD"
      },
      "execution_count": null,
      "outputs": []
    },
    {
      "cell_type": "code",
      "source": [],
      "metadata": {
        "id": "tu0VUE_9Q-8r"
      },
      "execution_count": null,
      "outputs": []
    }
  ]
}