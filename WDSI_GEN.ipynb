{
 "cells": [
  {
   "cell_type": "code",
   "execution_count": 10,
   "id": "15968076-26f4-45e4-8e41-81e0d71af94d",
   "metadata": {},
   "outputs": [],
   "source": [
    "import numpy as np\n",
    "import random\n",
    "np.random.seed(1)"
   ]
  },
  {
   "cell_type": "code",
   "execution_count": 11,
   "id": "51bd38c0-c60e-4b38-8a4f-d39d28f8d4c9",
   "metadata": {},
   "outputs": [],
   "source": [
    "def random_chromosome(length):\n",
    "    return np.random.randint(0, 2, length).tolist()"
   ]
  },
  {
   "cell_type": "code",
   "execution_count": 12,
   "id": "f944432e-b79e-4b1d-a84a-5102650e7533",
   "metadata": {},
   "outputs": [],
   "source": [
    "def mutation(chromosome,chance):\n",
    "    index_of_mutated = random.randint(0, len(chromosome) - 1)\n",
    "    try_to_mutate = random.randint(0, 100)\n",
    "    if try_to_mutate <= chance:\n",
    "        if chromosome[index_of_mutated] == 0:\n",
    "            chromosome[index_of_mutated] = 1\n",
    "        else:\n",
    "            chromosome[index_of_mutated] = 0\n",
    "    return chromosome"
   ]
  },
  {
   "cell_type": "code",
   "execution_count": 37,
   "id": "6d41ce13-3850-47c1-8f64-f7ba01f295f2",
   "metadata": {},
   "outputs": [],
   "source": [
    "def make_new_chromosomes(chr1,chr2):\n",
    "    border = random.randint(1, len(chr2) - 1)\n",
    "    child1 = []\n",
    "    child2 = []\n",
    "    for i in range(0,len(chr2)):\n",
    "        if i < border:\n",
    "            child1.append(chr1[i])\n",
    "            child2.append(chr2[i])\n",
    "        else:\n",
    "            child1.append(chr2[i])\n",
    "            child2.append(chr1[i])\n",
    "    return child1,child2"
   ]
  },
  {
   "cell_type": "code",
   "execution_count": 38,
   "id": "80dd3466-f136-43be-949e-0c337fc3856c",
   "metadata": {},
   "outputs": [],
   "source": [
    "def fitness_function(chromosome_my, chromosome_from_population):\n",
    "    count = 0\n",
    "    \n",
    "    for i in range(0,len(chromosome_from_population)):\n",
    "        if chromosome_my[i] == chromosome_from_population[i]:\n",
    "            count += 1\n",
    "\n",
    "    return count / len(chromosome_my)"
   ]
  },
  {
   "cell_type": "code",
   "execution_count": 39,
   "id": "b532c742-1e96-441f-936c-1d5528401888",
   "metadata": {},
   "outputs": [],
   "source": [
    "def roulette_wheel_selection(scores):\n",
    "    suma = np.sum(scores)\n",
    "    procents = [] \n",
    "    for i in range(0,len(scores)):\n",
    "        procents.append(scores[i]/suma)\n",
    "    arr_of_chance = []\n",
    "    \n",
    "    for i in range(0,len(scores)):\n",
    "        for j in range(0,int(scores[i] * 100)):\n",
    "            arr_of_chance.append(i)\n",
    "    \n",
    "    return random.choice(arr_of_chance)\n",
    "    "
   ]
  },
  {
   "cell_type": "code",
   "execution_count": 40,
   "id": "5d1ebab1-46c5-4a1f-b8b0-9d9fcc7fdc99",
   "metadata": {},
   "outputs": [],
   "source": [
    "def make_new_popul(super_chr,scores,pop):\n",
    "    new_pop = []\n",
    "    new_scores = []\n",
    "\n",
    "    \n",
    "    for i in range(0,int(len(scores)/2)):\n",
    "        first_index = roulette_wheel_selection(scores)\n",
    "        second_index = first_index\n",
    "        while first_index  == second_index:\n",
    "            second_index = roulette_wheel_selection(scores)\n",
    "            \n",
    "        child1, child2 = make_new_chromosomes(pop[first_index],pop[second_index])\n",
    "        new_pop.append(child1)\n",
    "        new_pop.append(child2)\n",
    "    for i in range(0,len(pop)):\n",
    "        new_scores.append(fitness_function(super_chr,new_pop[i]))\n",
    "\n",
    "    return new_pop,new_scores\n",
    "    "
   ]
  },
  {
   "cell_type": "code",
   "execution_count": 48,
   "id": "69dac38a-41a8-4b6e-97ca-56c442deb4ab",
   "metadata": {},
   "outputs": [],
   "source": [
    "def genetic_algorithm(n_gens, n_iter, n_pop, chance_mut,super_chr):\n",
    "    pop = []\n",
    "    score = []\n",
    "    new_pop = []\n",
    "    \n",
    "    for i in range(0,n_pop):\n",
    "        q = random_chromosome(n_gens)\n",
    "        pop.append(q)\n",
    "    \n",
    "    print(\"start population\")\n",
    "    print(pop)\n",
    "    \n",
    "    for i in range (0, len(pop)):\n",
    "        score.append(fitness_function(super_chr,pop[i]))\n",
    "        \n",
    "    print(\"start population scores\")\n",
    "    print(score)\n",
    "    \n",
    "    for i in range(0,n_iter):\n",
    "        new_pop, new_score = make_new_popul(super_chr,score,pop)\n",
    "        \n",
    "        for j in range(0,len(pop)):\n",
    "            new_pop[j] = mutation(new_pop[j],chance_mut)\n",
    "        \n",
    "        for j in range(0,len(pop)):\n",
    "            new_score[j] = fitness_function(super_chr,new_pop[j])\n",
    "        \n",
    "        \n",
    "        \n",
    "        \n",
    "        print(\"population \" + str(i))\n",
    "        print(new_pop)\n",
    "        print(\"population scores \" + str(i))\n",
    "        print(new_score)\n",
    "        \n",
    "        if super_chr in new_pop:\n",
    "            pop = new_pop\n",
    "            score = new_score\n",
    "            return pop, score\n",
    "        \n",
    "        pop = new_pop\n",
    "        score = new_score\n",
    "    return pop, score"
   ]
  },
  {
   "cell_type": "code",
   "execution_count": 68,
   "id": "85f09786-b8de-4888-83f9-9eb8c4759600",
   "metadata": {},
   "outputs": [
    {
     "name": "stdout",
     "output_type": "stream",
     "text": [
      "start population\n",
      "[[0, 0, 0, 1, 0, 1], [0, 1, 1, 0, 1, 0], [1, 0, 0, 1, 1, 0], [1, 0, 0, 1, 0, 0], [1, 0, 1, 0, 1, 0], [1, 1, 1, 1, 1, 1]]\n",
      "start population scores\n",
      "[0.5, 0.3333333333333333, 0.6666666666666666, 0.5, 0.6666666666666666, 0.5]\n",
      "population 0\n",
      "[[0, 1, 1, 1, 0, 0], [1, 0, 0, 0, 1, 0], [1, 0, 1, 0, 1, 0], [0, 0, 0, 1, 1, 0], [1, 1, 1, 0, 1, 0], [1, 0, 1, 1, 0, 0]]\n",
      "population scores 0\n",
      "[0.0, 0.8333333333333334, 0.6666666666666666, 0.5, 0.5, 0.3333333333333333]\n",
      "population 1\n",
      "[[1, 0, 1, 0, 1, 0], [0, 0, 0, 1, 1, 0], [1, 0, 1, 0, 1, 0], [1, 1, 0, 0, 1, 0], [1, 1, 1, 0, 1, 0], [0, 0, 0, 1, 1, 0]]\n",
      "population scores 1\n",
      "[0.6666666666666666, 0.5, 0.6666666666666666, 0.6666666666666666, 0.5, 0.5]\n",
      "population 2\n",
      "[[1, 0, 1, 0, 1, 0], [1, 1, 0, 0, 1, 0], [1, 0, 1, 1, 1, 0], [0, 0, 0, 0, 1, 0], [1, 1, 0, 0, 1, 0], [1, 0, 1, 0, 1, 0]]\n",
      "population scores 2\n",
      "[0.6666666666666666, 0.6666666666666666, 0.5, 0.6666666666666666, 0.6666666666666666, 0.6666666666666666]\n",
      "population 3\n",
      "[[1, 0, 1, 0, 1, 0], [1, 1, 0, 0, 1, 0], [1, 0, 1, 0, 1, 0], [1, 0, 1, 0, 1, 0], [1, 1, 0, 0, 1, 0], [1, 1, 0, 0, 1, 0]]\n",
      "population scores 3\n",
      "[0.6666666666666666, 0.6666666666666666, 0.6666666666666666, 0.6666666666666666, 0.6666666666666666, 0.6666666666666666]\n",
      "population 4\n",
      "[[1, 1, 0, 0, 1, 0], [0, 1, 0, 0, 1, 0], [1, 1, 0, 0, 1, 0], [1, 0, 1, 0, 1, 0], [1, 0, 1, 0, 1, 0], [1, 0, 1, 0, 1, 0]]\n",
      "population scores 4\n",
      "[0.6666666666666666, 0.5, 0.6666666666666666, 0.6666666666666666, 0.6666666666666666, 0.6666666666666666]\n",
      "population 5\n",
      "[[0, 1, 0, 0, 1, 0], [1, 1, 0, 0, 1, 0], [1, 0, 1, 0, 1, 0], [1, 0, 1, 0, 1, 0], [1, 0, 1, 0, 1, 0], [1, 1, 0, 0, 1, 0]]\n",
      "population scores 5\n",
      "[0.5, 0.6666666666666666, 0.6666666666666666, 0.6666666666666666, 0.6666666666666666, 0.6666666666666666]\n",
      "population 6\n",
      "[[0, 1, 0, 0, 1, 0], [1, 0, 1, 0, 1, 0], [1, 1, 1, 0, 1, 0], [1, 1, 0, 0, 1, 0], [1, 1, 0, 0, 1, 0], [1, 1, 0, 0, 1, 0]]\n",
      "population scores 6\n",
      "[0.5, 0.6666666666666666, 0.5, 0.6666666666666666, 0.6666666666666666, 0.6666666666666666]\n",
      "population 7\n",
      "[[1, 1, 1, 0, 1, 0], [1, 0, 0, 0, 1, 0], [0, 1, 0, 0, 1, 0], [1, 0, 1, 0, 1, 0], [0, 1, 1, 0, 1, 0], [1, 1, 0, 0, 1, 0]]\n",
      "population scores 7\n",
      "[0.5, 0.8333333333333334, 0.5, 0.6666666666666666, 0.3333333333333333, 0.6666666666666666]\n",
      "population 8\n",
      "[[1, 0, 1, 0, 1, 0], [1, 0, 0, 0, 1, 0], [0, 1, 1, 0, 1, 0], [1, 1, 0, 0, 1, 0], [1, 1, 0, 0, 1, 0], [0, 1, 0, 0, 1, 0]]\n",
      "population scores 8\n",
      "[0.6666666666666666, 0.8333333333333334, 0.3333333333333333, 0.6666666666666666, 0.6666666666666666, 0.5]\n",
      "population 9\n",
      "[[1, 0, 1, 0, 1, 0], [1, 0, 0, 0, 1, 1], [1, 1, 0, 0, 1, 0], [1, 0, 1, 0, 1, 0], [1, 0, 0, 0, 1, 0], [1, 1, 0, 0, 1, 0]]\n",
      "population scores 9\n",
      "[0.6666666666666666, 1.0, 0.6666666666666666, 0.6666666666666666, 0.8333333333333334, 0.6666666666666666]\n"
     ]
    },
    {
     "data": {
      "text/plain": [
       "([[1, 0, 1, 0, 1, 0],\n",
       "  [1, 0, 0, 0, 1, 1],\n",
       "  [1, 1, 0, 0, 1, 0],\n",
       "  [1, 0, 1, 0, 1, 0],\n",
       "  [1, 0, 0, 0, 1, 0],\n",
       "  [1, 1, 0, 0, 1, 0]],\n",
       " [0.6666666666666666,\n",
       "  1.0,\n",
       "  0.6666666666666666,\n",
       "  0.6666666666666666,\n",
       "  0.8333333333333334,\n",
       "  0.6666666666666666])"
      ]
     },
     "execution_count": 68,
     "metadata": {},
     "output_type": "execute_result"
    }
   ],
   "source": [
    "genetic_algorithm(6,50,6,10,[1, 0, 0, 0, 1, 1])"
   ]
  },
  {
   "cell_type": "code",
   "execution_count": null,
   "id": "7f7e5bd7-a869-47ad-8c80-24d1bb9f05ac",
   "metadata": {},
   "outputs": [],
   "source": []
  },
  {
   "cell_type": "code",
   "execution_count": null,
   "id": "b09c52ab-5a04-4f19-a7af-93de36428c4c",
   "metadata": {},
   "outputs": [],
   "source": []
  },
  {
   "cell_type": "code",
   "execution_count": null,
   "id": "71b22417-d24d-4934-beb4-861749c1b822",
   "metadata": {},
   "outputs": [],
   "source": []
  },
  {
   "cell_type": "code",
   "execution_count": null,
   "id": "6d57d4ac-64a2-4ba8-8a02-14e9631bec82",
   "metadata": {},
   "outputs": [],
   "source": []
  }
 ],
 "metadata": {
  "kernelspec": {
   "display_name": "Python 3 (ipykernel)",
   "language": "python",
   "name": "python3"
  },
  "language_info": {
   "codemirror_mode": {
    "name": "ipython",
    "version": 3
   },
   "file_extension": ".py",
   "mimetype": "text/x-python",
   "name": "python",
   "nbconvert_exporter": "python",
   "pygments_lexer": "ipython3",
   "version": "3.10.0"
  }
 },
 "nbformat": 4,
 "nbformat_minor": 5
}
