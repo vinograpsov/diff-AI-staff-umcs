{
  "nbformat": 4,
  "nbformat_minor": 0,
  "metadata": {
    "colab": {
      "provenance": []
    },
    "kernelspec": {
      "name": "python3",
      "display_name": "Python 3"
    },
    "language_info": {
      "name": "python"
    }
  },
  "cells": [
    {
      "cell_type": "code",
      "execution_count": null,
      "metadata": {
        "id": "vWH39MdBU3Bd"
      },
      "outputs": [],
      "source": [
        "import numpy as np \n",
        "class ADALINE_GD(object):\n",
        "  def __init__(self,eta = 0.001,n_iter=50,random_state = 1):\n",
        "    self.eta  = eta\n",
        "    self.n_iter = n_iter\n",
        "    self.random_state = 1\n",
        "\n",
        "  def fit(self,X,y):\n",
        "    rgen = np.random.RandomState(self.random_state)\n",
        "    self.w_ = rgen.normal(loc = 0.0, scale = 0.01, size = 1 + X.shape[1])\n",
        "    self.cost_ = []\n",
        "\n",
        "    for _ in range(self.n_iter):\n",
        "      net_input = self.net_input(X)\n",
        "      output = self.activation(net_input)\n",
        "      errors = (y - output)\n",
        "      self.w_[1:] += -self.eta * X.T.dot(-errors)\n",
        "      self.w_[0] += -self.eta * -errors.sum()\n",
        "      cost = (errors**2).sum() / 2.0\n",
        "      self.cost_.append(cost)\n",
        "    return self\n",
        "\n",
        "  def net_input(self,X):\n",
        "    return np.dot(X, self.w_[1:]) + self.w_[0]\n",
        "\n",
        "  def activation(self,X):\n",
        "    return X\n",
        "\n",
        "  def predict(self, X):\n",
        "    return np.where(self.activation(self.net_input(X)) >= 0.0, 1, -1)\n"
      ]
    },
    {
      "cell_type": "code",
      "source": [
        "import pandas as pd\n",
        "s = \"https://archive.ics.uci.edu/ml/machine-learning-databases/iris/iris.data\"\n",
        "df = pd.read_csv(s, header = None)"
      ],
      "metadata": {
        "id": "oDUKSpBXf4vQ"
      },
      "execution_count": null,
      "outputs": []
    },
    {
      "cell_type": "code",
      "source": [
        "y = df.iloc[0:100,4].values\n",
        "y = np.where(y == 'Iris-setosa',-1,1)\n"
      ],
      "metadata": {
        "id": "9RQgkGW8gE1M"
      },
      "execution_count": null,
      "outputs": []
    },
    {
      "cell_type": "code",
      "source": [
        "X = df.iloc[0:100,[0,2]].values"
      ],
      "metadata": {
        "id": "XogWPfrqgOva"
      },
      "execution_count": null,
      "outputs": []
    },
    {
      "cell_type": "markdown",
      "source": [],
      "metadata": {
        "id": "k-wEZ6XYpNLZ"
      }
    },
    {
      "cell_type": "code",
      "source": [
        "ada1 = ADALINE_GD(n_iter = 10,eta=0.01).fit(X,y)\n",
        "ada2 = ADALINE_GD(n_iter = 10,eta=0.0001).fit(X,y)"
      ],
      "metadata": {
        "id": "GJdc_de4fgTe"
      },
      "execution_count": null,
      "outputs": []
    },
    {
      "cell_type": "code",
      "source": [
        "import matplotlib.pyplot as plt\n",
        "%matplotlib inline\n",
        "\n",
        "fi,ax = plt.subplots(nrows = 1, ncols = 2,figsize = (10,4))\n",
        "\n",
        "ax[0].plot(range(1,len(ada1.cost_)+1),np.log10(ada1.cost_),marker ='o')\n",
        "ax[0].set_xlabel(\"Epochs\")\n",
        "ax[0].set_ylabel('log(Sum squared_error)')\n",
        "ax[0].set_title('ADALInE = learning rate 0.01')\n",
        "\n",
        "\n",
        "ax[1].plot(range(1,len(ada2.cost_)+1),ada2.cost_,marker ='o')\n",
        "ax[1].set_xlabel(\"Epochs\")\n",
        "ax[1].set_ylabel('log(Sum squared_error)')\n",
        "ax[1].set_title('ADALInE = learning rate 0.0001')"
      ],
      "metadata": {
        "colab": {
          "base_uri": "https://localhost:8080/",
          "height": 312
        },
        "id": "oxVK1OZigURD",
        "outputId": "53a4e8a2-849e-486b-90a7-b77604b3f3eb"
      },
      "execution_count": null,
      "outputs": [
        {
          "output_type": "execute_result",
          "data": {
            "text/plain": [
              "Text(0.5, 1.0, 'ADALInE = learning rate 0.0001')"
            ]
          },
          "metadata": {},
          "execution_count": 6
        },
        {
          "output_type": "display_data",
          "data": {
            "text/plain": [
              "<Figure size 720x288 with 2 Axes>"
            ],
            "image/png": "[encoded data removed]"
          },
          "metadata": {
            "needs_background": "light"
          }
        }
      ]
    },
    {
      "cell_type": "code",
      "source": [
        "print(np.log10(ada1.cost_))\n",
        "\n",
        "print(ada2.cost_)\n",
        "# дает нам короче узнать сколько степерь - лог10 "
      ],
      "metadata": {
        "colab": {
          "base_uri": "https://localhost:8080/"
        },
        "id": "AzrET7TMgmN0",
        "outputId": "e2f4abf4-e193-43af-db03-63c0ffff635c"
      },
      "execution_count": null,
      "outputs": [
        {
          "output_type": "stream",
          "name": "stdout",
          "text": [
            "[ 1.70826132  3.50677577  6.69955949  9.89275214 13.08594501 16.27913788\n",
            " 19.47233075 22.66552362 25.85871649 29.05190936]\n",
            "[51.08122709777622, 48.734405003475466, 47.268121538341724, 46.127493074312454, 45.11577153141929, 44.16300470536643, 43.244135928281686, 42.350009099392544, 41.47710358023412, 40.62389994660111]\n"
          ]
        }
      ]
    },
    {
      "cell_type": "code",
      "source": [
        "ada1 = ADALINE_GD(n_iter = 10,eta=0.00055).fit(X,y)\n",
        "ada2 = ADALINE_GD(n_iter = 10,eta=0.0001).fit(X,y)\n",
        "\n",
        "import matplotlib.pyplot as plt\n",
        "%matplotlib inline\n",
        "\n",
        "fi,ax = plt.subplots(nrows = 1, ncols = 2,figsize = (10,4))\n",
        "\n",
        "ax[0].plot(range(1,len(ada1.cost_)+1),np.log10(ada1.cost_),marker ='o')\n",
        "ax[0].set_xlabel(\"Epochs\")\n",
        "ax[0].set_ylabel('log(Sum squared_error)')\n",
        "ax[0].set_title('ADALInE = learning rate 0.01')\n",
        "\n",
        "\n",
        "ax[1].plot(range(1,len(ada2.cost_)+1),ada2.cost_,marker ='o')\n",
        "ax[1].set_xlabel(\"Epochs\")\n",
        "ax[1].set_ylabel('log(Sum squared_error)')\n",
        "ax[1].set_title('ADALInE = learning rate 0.0001')"
      ],
      "metadata": {
        "colab": {
          "base_uri": "https://localhost:8080/",
          "height": 312
        },
        "id": "uaZii21Eh8nW",
        "outputId": "0250db08-3fb3-4e98-816b-9f0819882cba"
      },
      "execution_count": null,
      "outputs": [
        {
          "output_type": "execute_result",
          "data": {
            "text/plain": [
              "Text(0.5, 1.0, 'ADALInE = learning rate 0.0001')"
            ]
          },
          "metadata": {},
          "execution_count": 8
        },
        {
          "output_type": "display_data",
          "data": {
            "text/plain": [
              "<Figure size 720x288 with 2 Axes>"
            ],
            "image/png": "[encoded data removed]"
          },
          "metadata": {
            "needs_background": "light"
          }
        }
      ]
    },
    {
      "cell_type": "code",
      "source": [
        "X_std = np.copy(X)\n",
        "\n",
        "X_std[:,0] = (X_std[:,0] - X_std[:,0].mean()) / X_std[:,0].std()  \n",
        "X_std[:,1] = (X_std[:,1] - X_std[:,1].mean()) / X_std[:,1].std()  "
      ],
      "metadata": {
        "id": "D14uk4v3j9JP"
      },
      "execution_count": null,
      "outputs": []
    },
    {
      "cell_type": "code",
      "source": [
        "plt.scatter(X_std[:50,0],X_std[:50,1],color ='blue',marker = 'o', label = 'setosa' )\n",
        "plt.scatter(X_std[50:,0],X_std[50:,1],color ='red',marker = 'x', label = 'versicolor' )\n",
        "plt.show()"
      ],
      "metadata": {
        "colab": {
          "base_uri": "https://localhost:8080/",
          "height": 265
        },
        "id": "FefREvtGmNV6",
        "outputId": "10e88ecf-252a-41db-b15e-22ae7cc1acb8"
      },
      "execution_count": null,
      "outputs": [
        {
          "output_type": "display_data",
          "data": {
            "text/plain": [
              "<Figure size 432x288 with 1 Axes>"
            ],
            "image/png": "[encoded data removed]"
          },
          "metadata": {
            "needs_background": "light"
          }
        }
      ]
    },
    {
      "cell_type": "code",
      "source": [
        "plt.scatter(X[:50,0],X[:50,1],color ='blue',marker = 'o', label = 'setosa' )\n",
        "plt.scatter(X[50:,0],X[50:,1],color ='red',marker = 'x', label = 'versicolor' )\n",
        "plt.show()"
      ],
      "metadata": {
        "colab": {
          "base_uri": "https://localhost:8080/",
          "height": 265
        },
        "id": "BWffIsFwmlFO",
        "outputId": "25a39ba1-4a9c-4a73-c0a3-58831cadd9d1"
      },
      "execution_count": null,
      "outputs": [
        {
          "output_type": "display_data",
          "data": {
            "text/plain": [
              "<Figure size 432x288 with 1 Axes>"
            ],
            "image/png": "[encoded data removed]"
          },
          "metadata": {
            "needs_background": "light"
          }
        }
      ]
    },
    {
      "cell_type": "code",
      "source": [
        "ada1 = ADALINE_GD(n_iter = 15,eta=0.01).fit(X_std,y)\n",
        "ada2 = ADALINE_GD(n_iter = 15,eta=0.0001).fit(X_std,y)\n",
        "\n",
        "import matplotlib.pyplot as plt\n",
        "%matplotlib inline\n",
        "\n",
        "fi,ax = plt.subplots(nrows = 1, ncols = 2,figsize = (10,4))\n",
        "\n",
        "ax[0].plot(range(1,len(ada1.cost_)+1),ada1.cost_,marker ='o')\n",
        "ax[0].set_xlabel(\"Epochs\")\n",
        "ax[0].set_ylabel('log(Sum squared_error)')\n",
        "ax[0].set_title('ADALInE = learning rate 0.01')\n",
        "\n",
        "\n",
        "ax[1].plot(range(1,len(ada2.cost_)+1),ada2.cost_,marker ='o')\n",
        "ax[1].set_xlabel(\"Epochs\")\n",
        "ax[1].set_ylabel('log(Sum squared_error)')\n",
        "ax[1].set_title('ADALInE = learning rate 0.0001')"
      ],
      "metadata": {
        "colab": {
          "base_uri": "https://localhost:8080/",
          "height": 312
        },
        "id": "AWe03PJMmlqb",
        "outputId": "2906a93b-df22-4888-c086-e127ad12aef2"
      },
      "execution_count": null,
      "outputs": [
        {
          "output_type": "execute_result",
          "data": {
            "text/plain": [
              "Text(0.5, 1.0, 'ADALInE = learning rate 0.0001')"
            ]
          },
          "metadata": {},
          "execution_count": 12
        },
        {
          "output_type": "display_data",
          "data": {
            "text/plain": [
              "<Figure size 720x288 with 2 Axes>"
            ],
            "image/png": "[encoded data removed]"
          },
          "metadata": {
            "needs_background": "light"
          }
        }
      ]
    },
    {
      "cell_type": "code",
      "source": [
        "ada1.predict(X_std)"
      ],
      "metadata": {
        "colab": {
          "base_uri": "https://localhost:8080/"
        },
        "id": "lc87qenfm0OW",
        "outputId": "30f235a3-c984-4b27-d3ec-9a39e15dce88"
      },
      "execution_count": null,
      "outputs": [
        {
          "output_type": "execute_result",
          "data": {
            "text/plain": [
              "array([-1, -1, -1, -1, -1, -1, -1, -1, -1, -1, -1, -1, -1, -1, -1, -1, -1,\n",
              "       -1, -1, -1, -1, -1, -1, -1, -1, -1, -1, -1, -1, -1, -1, -1, -1, -1,\n",
              "       -1, -1, -1, -1, -1, -1, -1, -1, -1, -1, -1, -1, -1, -1, -1, -1,  1,\n",
              "        1,  1,  1,  1,  1,  1,  1,  1,  1,  1,  1,  1,  1,  1,  1,  1,  1,\n",
              "        1,  1,  1,  1,  1,  1,  1,  1,  1,  1,  1,  1,  1,  1,  1,  1,  1,\n",
              "        1,  1,  1,  1,  1,  1,  1,  1,  1,  1,  1,  1,  1,  1,  1])"
            ]
          },
          "metadata": {},
          "execution_count": 17
        }
      ]
    },
    {
      "cell_type": "code",
      "source": [
        "from matplotlib.colors import ListedColormap\n",
        "\n",
        "def plot_decision_regions(X, y, classifier, resolution=0.02):\n",
        "# setup marker generator and color map\n",
        "  markers = ('s', 'x', 'o', '^', 'v')\n",
        "  colors = ('red', 'blue', 'lightgreen', 'gray', 'cyan')\n",
        "  cmap = ListedColormap(colors[:len(np.unique(y))])\n",
        "# plot the decision surface\n",
        "  x1_min, x1_max = X[:, 0].min() - 1, X[:, 0].max() + 1\n",
        "  x2_min, x2_max = X[:, 1].min() - 1, X[:, 1].max() + 1\n",
        "  xx1, xx2 = np.meshgrid(np.arange(x1_min, x1_max, resolution),\n",
        "  np.arange(x2_min, x2_max, resolution))\n",
        "  Z = classifier.predict(np.array([xx1.ravel(), xx2.ravel()]).T)\n",
        "  Z = Z.reshape(xx1.shape)\n",
        "  plt.contourf(xx1, xx2, Z, alpha=0.3, cmap=cmap)\n",
        "  plt.xlim(xx1.min(), xx1.max())\n",
        "  plt.ylim(xx2.min(), xx2.max())\n",
        "  # plot class examples\n",
        "  for idx, cl in enumerate(np.unique(y)):\n",
        "    plt.scatter(x=X[y == cl, 0],\n",
        "    y=X[y == cl, 1],\n",
        "    alpha=0.8,\n",
        "    c=colors[idx],\n",
        "    marker=markers[idx],\n",
        "    label=cl,\n",
        "    edgecolor='black')"
      ],
      "metadata": {
        "id": "VtIlou1YrVUz"
      },
      "execution_count": null,
      "outputs": []
    },
    {
      "cell_type": "code",
      "source": [
        "ada_gd = ADALINE_GD(n_iter=15, eta=0.01)\n",
        "ada_gd.fit(X_std, y)\n",
        "plot_decision_regions(X_std, y, classifier=ada_gd)\n",
        "plt.title('Adaline - Gradient Descent')\n",
        "plt.xlabel('sepal length [standardized]')\n",
        "plt.ylabel('petal length [standardized]')\n",
        "plt.legend(loc='upper left')\n",
        "plt.tight_layout()\n",
        "# plt.savefig('images/02_14_1.png', dpi=300)\n",
        "plt.show()\n",
        "plt.plot(range(1, len(ada_gd.cost_) + 1), ada_gd.cost_, marker='o')\n",
        "plt.xlabel('Epochs')\n",
        "plt.ylabel('Sum-squared-error')\n",
        "plt.tight_layout()\n",
        "# plt.savefig('images/02_14_2.png', dpi=300)\n",
        "plt.show()"
      ],
      "metadata": {
        "id": "F40EbzadnV4Z",
        "colab": {
          "base_uri": "https://localhost:8080/",
          "height": 577
        },
        "outputId": "1d5b2d4d-a35a-4756-b1b2-6e5dbbbdabad"
      },
      "execution_count": null,
      "outputs": [
        {
          "output_type": "display_data",
          "data": {
            "text/plain": [
              "<Figure size 432x288 with 1 Axes>"
            ],
            "image/png": "[encoded data removed]"
          },
          "metadata": {
            "needs_background": "light"
          }
        },
        {
          "output_type": "display_data",
          "data": {
            "text/plain": [
              "<Figure size 432x288 with 1 Axes>"
            ],
            "image/png": "[encoded data removed]"
          },
          "metadata": {
            "needs_background": "light"
          }
        }
      ]
    },
    {
      "cell_type": "code",
      "source": [
        "y_perc1 = df.iloc[0:150,4].values\n",
        "y_perc1 = np.where(y_perc1 == \"Iris-versicolor\",1,-1)\n",
        "y_perc1\n",
        "\n",
        "y_perc0 = df.iloc[0:150,4].values\n",
        "y_perc0 = np.where(y_perc0 == \"Iris-setosa\",1,-1)\n",
        "y_perc0\n",
        "\n",
        "y_perc2 = df.iloc[0:150,4].values\n",
        "y_perc2 = np.where(y_perc2 == \"Iris-virginica\",1,-1)\n",
        "y_perc2\n",
        "\n",
        "X = df.iloc[:,0:4].values\n",
        "\n",
        "#INGERENCJA W DANE\n",
        "for index in range(100,150):\n",
        "  X[index][2] -= 1.6\n",
        "  X[index][3] -=2.2\n",
        "\n",
        "\n",
        "X_std = np.copy(X)\n",
        "X_std[:,0] = (X[:,0] - X[:,0].mean()) / X[:,0].std()\n",
        "X_std[:,1] = (X[:,1] - X[:,1].mean()) / X[:,1].std()\n",
        "X_std[:,2] = (X[:,2] - X[:,2].mean()) / X[:,2].std()\n",
        "X_std[:,3] = (X[:,3] - X[:,3].mean()) / X[:,3].std()"
      ],
      "metadata": {
        "id": "2N30ZfAVq85E"
      },
      "execution_count": null,
      "outputs": []
    },
    {
      "cell_type": "code",
      "source": [
        "ada_0 = ADALINE_GD(n_iter = 20000,eta=0.0022)\n",
        "ada_0.fit(X_std,y_perc0)\n",
        "ada_1 = ADALINE_GD(n_iter = 20000,eta=0.0022)\n",
        "ada_1.fit(X_std,y_perc1)\n",
        "ada_2 = ADALINE_GD(n_iter = 20000,eta=0.0022)\n",
        "ada_2.fit(X_std,y_perc2)"
      ],
      "metadata": {
        "colab": {
          "base_uri": "https://localhost:8080/"
        },
        "id": "DJXmI9ystzwV",
        "outputId": "e7689353-48ff-46f3-9eaf-e7041e507ca4"
      },
      "execution_count": null,
      "outputs": [
        {
          "output_type": "execute_result",
          "data": {
            "text/plain": [
              "<__main__.ADALINE_GD at 0x7f09e3784b10>"
            ]
          },
          "metadata": {},
          "execution_count": 102
        }
      ]
    },
    {
      "cell_type": "code",
      "source": [
        "import matplotlib.pyplot as plt\n",
        "%matplotlib inline\n",
        "\n",
        "fi,ax = plt.subplots(nrows = 1, ncols = 3,figsize = (15,4))\n",
        "\n",
        "ax[0].plot(range(1,len(ada_0.cost_)+1),ada_0.cost_,marker ='o')\n",
        "ax[0].set_xlabel(\"Epochs\")\n",
        "ax[0].set_ylabel('log(Sum squared_error)')\n",
        "ax[0].set_title('ADALInE = learning rate 0.01')\n",
        "\n",
        "ax[1].plot(range(1,len(ada_1.cost_)+1),ada_1.cost_,marker ='o')\n",
        "ax[1].set_xlabel(\"Epochs\")\n",
        "ax[1].set_ylabel('log(Sum squared_error)')\n",
        "ax[1].set_title('ADALInE = learning rate 0.01')\n",
        "\n",
        "\n",
        "ax[2].plot(range(1,len(ada_2.cost_)+1),ada_2.cost_,marker ='o')\n",
        "ax[2].set_xlabel(\"Epochs\")\n",
        "ax[2].set_ylabel('log(Sum squared_error)')\n",
        "ax[2].set_title('ADALInE = learning rate 0.0001')\n",
        "\n",
        "\n",
        "\n"
      ],
      "metadata": {
        "colab": {
          "base_uri": "https://localhost:8080/",
          "height": 295
        },
        "id": "BDy4Q9GevK6e",
        "outputId": "b0940095-3e3a-46e9-d90f-45c288960660"
      },
      "execution_count": null,
      "outputs": [
        {
          "output_type": "execute_result",
          "data": {
            "text/plain": [
              "Text(0.5, 1.0, 'ADALInE = learning rate 0.0001')"
            ]
          },
          "metadata": {},
          "execution_count": 107
        },
        {
          "output_type": "display_data",
          "data": {
            "text/plain": [
              "<Figure size 1080x288 with 3 Axes>"
            ],
            "image/png": "[encoded data removed]"
          },
          "metadata": {
            "needs_background": "light"
          }
        }
      ]
    },
    {
      "cell_type": "code",
      "source": [
        "\n",
        "ada_1.predict(X_std)"
      ],
      "metadata": {
        "colab": {
          "base_uri": "https://localhost:8080/"
        },
        "id": "vDjpcT-pvwYe",
        "outputId": "13caafa2-40e3-4d77-8cd3-3305307bb6e8"
      },
      "execution_count": null,
      "outputs": [
        {
          "output_type": "execute_result",
          "data": {
            "text/plain": [
              "array([-1, -1, -1, -1, -1, -1, -1, -1, -1, -1, -1, -1, -1, -1, -1, -1, -1,\n",
              "       -1, -1, -1, -1, -1, -1, -1, -1, -1, -1, -1, -1, -1, -1, -1, -1, -1,\n",
              "       -1, -1, -1, -1, -1, -1, -1, -1, -1, -1, -1, -1, -1, -1, -1, -1,  1,\n",
              "        1,  1,  1,  1,  1,  1,  1,  1,  1,  1,  1,  1,  1,  1,  1,  1,  1,\n",
              "        1,  1,  1,  1,  1,  1,  1,  1,  1,  1,  1,  1,  1,  1,  1,  1,  1,\n",
              "        1,  1,  1,  1,  1,  1,  1,  1,  1,  1,  1,  1,  1,  1,  1, -1, -1,\n",
              "       -1, -1, -1, -1, -1, -1, -1, -1, -1, -1, -1, -1, -1, -1, -1, -1, -1,\n",
              "       -1, -1, -1, -1, -1, -1, -1, -1, -1, -1, -1, -1, -1, -1, -1, -1, -1,\n",
              "       -1, -1, -1, -1, -1, -1, -1, -1, -1, -1, -1, -1, -1, -1])"
            ]
          },
          "metadata": {},
          "execution_count": 108
        }
      ]
    },
    {
      "cell_type": "code",
      "source": [
        "def predictMethod(X):\n",
        "  answers = pd.DataFrame({\"setoza\" : ada_0.predict(X),\"versicolor\" : ada_1.predict(X),\"virginca\" : ada_2.predict(X)})\n",
        "  predictArr = []\n",
        "  for i in range(0,answers.shape[0]):\n",
        "    if answers.iloc[i,0] == 1:\n",
        "      predictArr.append('setoza')\n",
        "    elif answers.iloc[i,1] == 1:\n",
        "      predictArr.append('versicolor')\n",
        "    else:\n",
        "      predictArr.append('virginca')\n",
        "  answers['kind'] = predictArr\n",
        "  return answers"
      ],
      "metadata": {
        "id": "kGKfYbA_zF28"
      },
      "execution_count": null,
      "outputs": []
    },
    {
      "cell_type": "code",
      "source": [
        "predictMethod(X_std).iloc[50:150]"
      ],
      "metadata": {
        "colab": {
          "base_uri": "https://localhost:8080/",
          "height": 424
        },
        "id": "qnFcpEkd1kgJ",
        "outputId": "dd21b67c-3f33-4b67-93c8-106c4a43eada"
      },
      "execution_count": null,
      "outputs": [
        {
          "output_type": "execute_result",
          "data": {
            "text/plain": [
              "     setoza  versicolor  virginca        kind\n",
              "50       -1           1        -1  versicolor\n",
              "51       -1           1        -1  versicolor\n",
              "52       -1           1        -1  versicolor\n",
              "53       -1           1        -1  versicolor\n",
              "54       -1           1        -1  versicolor\n",
              "..      ...         ...       ...         ...\n",
              "145      -1          -1         1    virginca\n",
              "146      -1          -1         1    virginca\n",
              "147      -1          -1         1    virginca\n",
              "148      -1          -1         1    virginca\n",
              "149      -1          -1         1    virginca\n",
              "\n",
              "[100 rows x 4 columns]"
            ],
            "text/html": [
              "\n",
              "  <div id=\"df-451c8455-e541-4b1b-bf3b-540bc75d321e\">\n",
              "    <div class=\"colab-df-container\">\n",
              "      <div>\n",
              "<style scoped>\n",
              "    .dataframe tbody tr th:only-of-type {\n",
              "        vertical-align: middle;\n",
              "    }\n",
              "\n",
              "    .dataframe tbody tr th {\n",
              "        vertical-align: top;\n",
              "    }\n",
              "\n",
              "    .dataframe thead th {\n",
              "        text-align: right;\n",
              "    }\n",
              "</style>\n",
              "<table border=\"1\" class=\"dataframe\">\n",
              "  <thead>\n",
              "    <tr style=\"text-align: right;\">\n",
              "      <th></th>\n",
              "      <th>setoza</th>\n",
              "      <th>versicolor</th>\n",
              "      <th>virginca</th>\n",
              "      <th>kind</th>\n",
              "    </tr>\n",
              "  </thead>\n",
              "  <tbody>\n",
              "    <tr>\n",
              "      <th>50</th>\n",
              "      <td>-1</td>\n",
              "      <td>1</td>\n",
              "      <td>-1</td>\n",
              "      <td>versicolor</td>\n",
              "    </tr>\n",
              "    <tr>\n",
              "      <th>51</th>\n",
              "      <td>-1</td>\n",
              "      <td>1</td>\n",
              "      <td>-1</td>\n",
              "      <td>versicolor</td>\n",
              "    </tr>\n",
              "    <tr>\n",
              "      <th>52</th>\n",
              "      <td>-1</td>\n",
              "      <td>1</td>\n",
              "      <td>-1</td>\n",
              "      <td>versicolor</td>\n",
              "    </tr>\n",
              "    <tr>\n",
              "      <th>53</th>\n",
              "      <td>-1</td>\n",
              "      <td>1</td>\n",
              "      <td>-1</td>\n",
              "      <td>versicolor</td>\n",
              "    </tr>\n",
              "    <tr>\n",
              "      <th>54</th>\n",
              "      <td>-1</td>\n",
              "      <td>1</td>\n",
              "      <td>-1</td>\n",
              "      <td>versicolor</td>\n",
              "    </tr>\n",
              "    <tr>\n",
              "      <th>...</th>\n",
              "      <td>...</td>\n",
              "      <td>...</td>\n",
              "      <td>...</td>\n",
              "      <td>...</td>\n",
              "    </tr>\n",
              "    <tr>\n",
              "      <th>145</th>\n",
              "      <td>-1</td>\n",
              "      <td>-1</td>\n",
              "      <td>1</td>\n",
              "      <td>virginca</td>\n",
              "    </tr>\n",
              "    <tr>\n",
              "      <th>146</th>\n",
              "      <td>-1</td>\n",
              "      <td>-1</td>\n",
              "      <td>1</td>\n",
              "      <td>virginca</td>\n",
              "    </tr>\n",
              "    <tr>\n",
              "      <th>147</th>\n",
              "      <td>-1</td>\n",
              "      <td>-1</td>\n",
              "      <td>1</td>\n",
              "      <td>virginca</td>\n",
              "    </tr>\n",
              "    <tr>\n",
              "      <th>148</th>\n",
              "      <td>-1</td>\n",
              "      <td>-1</td>\n",
              "      <td>1</td>\n",
              "      <td>virginca</td>\n",
              "    </tr>\n",
              "    <tr>\n",
              "      <th>149</th>\n",
              "      <td>-1</td>\n",
              "      <td>-1</td>\n",
              "      <td>1</td>\n",
              "      <td>virginca</td>\n",
              "    </tr>\n",
              "  </tbody>\n",
              "</table>\n",
              "<p>100 rows × 4 columns</p>\n",
              "</div>\n",
              "      <button class=\"colab-df-convert\" onclick=\"convertToInteractive('df-451c8455-e541-4b1b-bf3b-540bc75d321e')\"\n",
              "              title=\"Convert this dataframe to an interactive table.\"\n",
              "              style=\"display:none;\">\n",
              "        \n",
              "  <svg xmlns=\"http://www.w3.org/2000/svg\" height=\"24px\"viewBox=\"0 0 24 24\"\n",
              "       width=\"24px\">\n",
              "    <path d=\"M0 0h24v24H0V0z\" fill=\"none\"/>\n",
              "    <path d=\"M18.56 5.44l.94 2.06.94-2.06 2.06-.94-2.06-.94-.94-2.06-.94 2.06-2.06.94zm-11 1L8.5 8.5l.94-2.06 2.06-.94-2.06-.94L8.5 2.5l-.94 2.06-2.06.94zm10 10l.94 2.06.94-2.06 2.06-.94-2.06-.94-.94-2.06-.94 2.06-2.06.94z\"/><path d=\"M17.41 7.96l-1.37-1.37c-.4-.4-.92-.59-1.43-.59-.52 0-1.04.2-1.43.59L10.3 9.45l-7.72 7.72c-.78.78-.78 2.05 0 2.83L4 21.41c.39.39.9.59 1.41.59.51 0 1.02-.2 1.41-.59l7.78-7.78 2.81-2.81c.8-.78.8-2.07 0-2.86zM5.41 20L4 18.59l7.72-7.72 1.47 1.35L5.41 20z\"/>\n",
              "  </svg>\n",
              "      </button>\n",
              "      \n",
              "  <style>\n",
              "    .colab-df-container {\n",
              "      display:flex;\n",
              "      flex-wrap:wrap;\n",
              "      gap: 12px;\n",
              "    }\n",
              "\n",
              "    .colab-df-convert {\n",
              "      background-color: #E8F0FE;\n",
              "      border: none;\n",
              "      border-radius: 50%;\n",
              "      cursor: pointer;\n",
              "      display: none;\n",
              "      fill: #1967D2;\n",
              "      height: 32px;\n",
              "      padding: 0 0 0 0;\n",
              "      width: 32px;\n",
              "    }\n",
              "\n",
              "    .colab-df-convert:hover {\n",
              "      background-color: #E2EBFA;\n",
              "      box-shadow: 0px 1px 2px rgba(60, 64, 67, 0.3), 0px 1px 3px 1px rgba(60, 64, 67, 0.15);\n",
              "      fill: #174EA6;\n",
              "    }\n",
              "\n",
              "    [theme=dark] .colab-df-convert {\n",
              "      background-color: #3B4455;\n",
              "      fill: #D2E3FC;\n",
              "    }\n",
              "\n",
              "    [theme=dark] .colab-df-convert:hover {\n",
              "      background-color: #434B5C;\n",
              "      box-shadow: 0px 1px 3px 1px rgba(0, 0, 0, 0.15);\n",
              "      filter: drop-shadow(0px 1px 2px rgba(0, 0, 0, 0.3));\n",
              "      fill: #FFFFFF;\n",
              "    }\n",
              "  </style>\n",
              "\n",
              "      <script>\n",
              "        const buttonEl =\n",
              "          document.querySelector('#df-451c8455-e541-4b1b-bf3b-540bc75d321e button.colab-df-convert');\n",
              "        buttonEl.style.display =\n",
              "          google.colab.kernel.accessAllowed ? 'block' : 'none';\n",
              "\n",
              "        async function convertToInteractive(key) {\n",
              "          const element = document.querySelector('#df-451c8455-e541-4b1b-bf3b-540bc75d321e');\n",
              "          const dataTable =\n",
              "            await google.colab.kernel.invokeFunction('convertToInteractive',\n",
              "                                                     [key], {});\n",
              "          if (!dataTable) return;\n",
              "\n",
              "          const docLinkHtml = 'Like what you see? Visit the ' +\n",
              "            '<a target=\"_blank\" href=https://colab.research.google.com/notebooks/data_table.ipynb>data table notebook</a>'\n",
              "            + ' to learn more about interactive tables.';\n",
              "          element.innerHTML = '';\n",
              "          dataTable['output_type'] = 'display_data';\n",
              "          await google.colab.output.renderOutput(dataTable, element);\n",
              "          const docLink = document.createElement('div');\n",
              "          docLink.innerHTML = docLinkHtml;\n",
              "          element.appendChild(docLink);\n",
              "        }\n",
              "      </script>\n",
              "    </div>\n",
              "  </div>\n",
              "  "
            ]
          },
          "metadata": {},
          "execution_count": 110
        }
      ]
    },
    {
      "cell_type": "code",
      "source": [
        "df.iloc[120]"
      ],
      "metadata": {
        "colab": {
          "base_uri": "https://localhost:8080/"
        },
        "id": "izBIoRrO1nqJ",
        "outputId": "740dd758-5928-4d11-a079-0a7b8b267968"
      },
      "execution_count": null,
      "outputs": [
        {
          "output_type": "execute_result",
          "data": {
            "text/plain": [
              "0               6.9\n",
              "1               3.2\n",
              "2               5.7\n",
              "3               2.3\n",
              "4    Iris-virginica\n",
              "Name: 120, dtype: object"
            ]
          },
          "metadata": {},
          "execution_count": 97
        }
      ]
    },
    {
      "cell_type": "code",
      "source": [],
      "metadata": {
        "id": "lQYowojI1rcI"
      },
      "execution_count": null,
      "outputs": []
    }
  ]
}