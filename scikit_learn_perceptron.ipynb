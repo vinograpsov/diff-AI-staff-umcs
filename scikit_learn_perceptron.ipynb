{
  "nbformat": 4,
  "nbformat_minor": 0,
  "metadata": {
    "colab": {
      "provenance": []
    },
    "kernelspec": {
      "name": "python3",
      "display_name": "Python 3"
    },
    "language_info": {
      "name": "python"
    }
  },
  "cells": [
    {
      "cell_type": "markdown",
      "source": [
        "Wczytać zawartość zbioru Iris\n",
        "\n",
        "daset Iris X - kolumny 2 i 3\n",
        "\n",
        "daset Iris y - wyjścia zakodowane w postaci indeksów:\n",
        "\n",
        "0 - setosa\n",
        "\n",
        "1 - versicolor\n",
        "\n",
        "2 - virginica"
      ],
      "metadata": {
        "id": "lTlF862jwEWH"
      }
    },
    {
      "cell_type": "code",
      "source": [
        "import numpy as np"
      ],
      "metadata": {
        "id": "l3xFg5w_67SQ"
      },
      "execution_count": null,
      "outputs": []
    },
    {
      "cell_type": "code",
      "source": [
        "import os\n",
        "import pandas as pd\n",
        "\n",
        "\n",
        "s = 'https://archive.ics.uci.edu/ml/machine-learning-databases/iris/iris.data'\n",
        "print('URL:', s)\n",
        "\n",
        "df = pd.read_csv(s,\n",
        "                 header=None,\n",
        "                 encoding='utf-8')"
      ],
      "metadata": {
        "colab": {
          "base_uri": "https://localhost:8080/"
        },
        "id": "qZ4HsYow6Ez7",
        "outputId": "764b63bb-1c9d-4afa-80e4-8d5cf819f4fc"
      },
      "execution_count": null,
      "outputs": [
        {
          "output_type": "stream",
          "name": "stdout",
          "text": [
            "URL: https://archive.ics.uci.edu/ml/machine-learning-databases/iris/iris.data\n"
          ]
        }
      ]
    },
    {
      "cell_type": "code",
      "source": [
        "y = df.iloc[:, 4].values\n",
        "\n",
        "#y = np.where(y == 'Iris-setosa', -1, 1)\n",
        "for indeks in range( 0,50 ):\n",
        "  y[indeks]=0\n",
        "for indeks in range( 50,100 ):\n",
        "  y[indeks]=1\n",
        "for indeks in range( 100,150 ):\n",
        "  y[indeks]=2\n",
        "\n",
        "y = np.array(y,dtype='int64')\n",
        "\n",
        "\n",
        "# extract sepal length and petal length\n",
        "X = df.iloc[:, [2,3] ].values"
      ],
      "metadata": {
        "id": "Y3QPVW9X620s"
      },
      "execution_count": null,
      "outputs": []
    },
    {
      "cell_type": "markdown",
      "source": [
        "Korzystając z funkcji np.unique(y) wyświetlić unikalne wartości znajdujące się w zbiorze odpowiedzi oczekiwanych"
      ],
      "metadata": {
        "id": "6WYiAORhwY1v"
      }
    },
    {
      "cell_type": "code",
      "source": [
        "print('Class labels:', np.unique(y))"
      ],
      "metadata": {
        "colab": {
          "base_uri": "https://localhost:8080/"
        },
        "id": "9QF0f_n1wxqw",
        "outputId": "6bc7f3ef-9588-4fbf-e8a9-d4870aadd175"
      },
      "execution_count": null,
      "outputs": [
        {
          "output_type": "stream",
          "name": "stdout",
          "text": [
            "Class labels: [0 1 2]\n"
          ]
        }
      ]
    },
    {
      "cell_type": "markdown",
      "source": [
        "Podzielić zbiory X i y na podzbiory testowe i uczące wydzielając 30% elementów jako testowe."
      ],
      "metadata": {
        "id": "DLdDX8Uuw0jT"
      }
    },
    {
      "cell_type": "code",
      "source": [
        "from sklearn.model_selection import train_test_split\n",
        "\n",
        "X_train, X_test, y_train, y_test = train_test_split(\n",
        "    X, y, test_size=0.3, random_state=1, stratify=y)"
      ],
      "metadata": {
        "id": "JZSLbNdRxAbB"
      },
      "execution_count": null,
      "outputs": []
    },
    {
      "cell_type": "markdown",
      "source": [
        "Sprawdzić ile wystąpień każdej z unikalnych wartości występuje w zbiorze y."
      ],
      "metadata": {
        "id": "gXbpIIknxCaI"
      }
    },
    {
      "cell_type": "code",
      "source": [
        "print('Labels count in y:', np.bincount(y))"
      ],
      "metadata": {
        "colab": {
          "base_uri": "https://localhost:8080/"
        },
        "id": "-TzyDDfzxLl_",
        "outputId": "08d4208b-c3e9-4fda-df9f-750370c3fb52"
      },
      "execution_count": null,
      "outputs": [
        {
          "output_type": "stream",
          "name": "stdout",
          "text": [
            "Labels count in y: [50 50 50]\n"
          ]
        }
      ]
    },
    {
      "cell_type": "markdown",
      "source": [
        "Sprawdzić ile wystąpień każdej z unikalnych wartości występuje w zbiorze y_test i y_train."
      ],
      "metadata": {
        "id": "fXSqoJNuxMKt"
      }
    },
    {
      "cell_type": "markdown",
      "source": [
        "Wykonać standaryzację danych zbioru uczącego."
      ],
      "metadata": {
        "id": "8JbSuBkHHTjl"
      }
    },
    {
      "cell_type": "code",
      "source": [
        "from sklearn.preprocessing import StandardScaler\n",
        "\n",
        "sc = StandardScaler()\n",
        "sc.fit(X_train)\n",
        "X_train_std = sc.transform(X_train)\n",
        "X_test_std = sc.transform(X_test)"
      ],
      "metadata": {
        "id": "hUXb1Wub22Vl"
      },
      "execution_count": null,
      "outputs": []
    },
    {
      "cell_type": "markdown",
      "source": [
        "Użyć gotowego modelu perceptron biblioteki scikit-learn."
      ],
      "metadata": {
        "id": "0_fXDmmuHcYo"
      }
    },
    {
      "cell_type": "code",
      "source": [
        "from sklearn.linear_model import Perceptron\n",
        "\n",
        "ppn = Perceptron(eta0=0.01, random_state=1)\n"
      ],
      "metadata": {
        "id": "KpvAztBN6HGO"
      },
      "execution_count": null,
      "outputs": []
    },
    {
      "cell_type": "markdown",
      "source": [
        "Przeprowadzić uczenie perceptronu."
      ],
      "metadata": {
        "id": "NL4wW8kFHohM"
      }
    },
    {
      "cell_type": "code",
      "source": [
        "ppn.fit(X_train_std, y_train)"
      ],
      "metadata": {
        "colab": {
          "base_uri": "https://localhost:8080/"
        },
        "id": "PQb2ouRIHpFr",
        "outputId": "73e64652-cf2c-44ee-c586-a7222c0527e6"
      },
      "execution_count": null,
      "outputs": [
        {
          "output_type": "execute_result",
          "data": {
            "text/plain": [
              "Perceptron(eta0=0.01, random_state=1)"
            ]
          },
          "metadata": {},
          "execution_count": 9
        }
      ]
    },
    {
      "cell_type": "code",
      "source": [
        "y_pred = ppn.predict(X_test_std)"
      ],
      "metadata": {
        "id": "bQDZPo6D6XxF"
      },
      "execution_count": null,
      "outputs": []
    },
    {
      "cell_type": "code",
      "source": [
        "print('Misclassified examples: %d' % (y_test != y_pred).sum())"
      ],
      "metadata": {
        "colab": {
          "base_uri": "https://localhost:8080/"
        },
        "id": "5D0L3hpu6duy",
        "outputId": "a1c8dfc5-cec9-4d4a-961e-c754a8ffb072"
      },
      "execution_count": null,
      "outputs": [
        {
          "output_type": "stream",
          "name": "stdout",
          "text": [
            "Misclassified examples: 3\n"
          ]
        }
      ]
    },
    {
      "cell_type": "code",
      "source": [
        "y_subpred = ppn.predict(X_train_std)"
      ],
      "metadata": {
        "id": "DMHJFDJ26hY1"
      },
      "execution_count": null,
      "outputs": []
    },
    {
      "cell_type": "code",
      "source": [
        "print('Misclassified examples: %d' % (y_train != y_subpred).sum())"
      ],
      "metadata": {
        "colab": {
          "base_uri": "https://localhost:8080/"
        },
        "id": "AkVYrsLX6kv1",
        "outputId": "df3a5330-055f-4424-c388-328e614cc30f"
      },
      "execution_count": null,
      "outputs": [
        {
          "output_type": "stream",
          "name": "stdout",
          "text": [
            "Misclassified examples: 11\n"
          ]
        }
      ]
    },
    {
      "cell_type": "code",
      "source": [
        "from sklearn.metrics import accuracy_score"
      ],
      "metadata": {
        "id": "s77M8gyd7S3_"
      },
      "execution_count": null,
      "outputs": []
    },
    {
      "cell_type": "code",
      "source": [
        "print('Accuracy: %.3f' % accuracy_score(y_train, y_subpred))"
      ],
      "metadata": {
        "colab": {
          "base_uri": "https://localhost:8080/"
        },
        "id": "K-3Z3Nhh7nP0",
        "outputId": "61dbd158-c5b9-4033-ce48-84903019632a"
      },
      "execution_count": null,
      "outputs": [
        {
          "output_type": "stream",
          "name": "stdout",
          "text": [
            "Accuracy: 0.895\n"
          ]
        }
      ]
    }
  ]
}